{
 "cells": [
  {
   "cell_type": "markdown",
   "id": "1fe59550-9761-4cbe-bacd-20c9bc8859a3",
   "metadata": {},
   "source": [
    "# Problem\n",
    "The goal of this project is to develop a recommender system that provides personalized book recommendations to users based on their past reading behavior. The system should be able to suggest new books to users that they are likely to enjoy, based on their previous reading history and preferences."
   ]
  },
  {
   "cell_type": "markdown",
   "id": "0fe7600c-4a43-439a-bf02-692617cc8dd5",
   "metadata": {},
   "source": [
    "# Data Collection\n",
    "The data for this project was sourced from Book Recommendation Dataset on Kaggle by MÖBIUS.\n",
    "https://www.kaggle.com/datasets/arashnic/book-recommendation-dataset"
   ]
  },
  {
   "cell_type": "code",
   "execution_count": 1,
   "id": "d48ecf96-6388-4c53-a609-c9613d61f912",
   "metadata": {},
   "outputs": [],
   "source": [
    "import warnings\n",
    "warnings.filterwarnings(\"ignore\")\n",
    "import pandas as pd\n",
    "import numpy as np\n",
    "import matplotlib.pyplot as plt\n",
    "import seaborn as sns\n",
    "\n",
    "from sklearn.metrics.pairwise import cosine_similarity\n",
    "import re\n",
    "from scipy.sparse import csr_matrix\n",
    "\n",
    "from torch.optim.lr_scheduler import ReduceLROnPlateau\n",
    "from sklearn import model_selection, metrics, preprocessing\n",
    "import torch\n",
    "import torch.nn as nn\n",
    "\n",
    "import matplotlib.pyplot as plt \n",
    "from torch.utils.data import Dataset, DataLoader\n",
    "from tqdm import tqdm\n",
    "from torch.nn import functional as F\n",
    "\n",
    "from BookDataset import BookDataset # jupyter notebook has issue of calling the dataset class in the same file with model"
   ]
  },
  {
   "cell_type": "code",
   "execution_count": 2,
   "id": "3742c987-6f3a-4ff6-a86d-4014d599107b",
   "metadata": {},
   "outputs": [
    {
     "data": {
      "text/plain": [
       "device(type='mps')"
      ]
     },
     "execution_count": 2,
     "metadata": {},
     "output_type": "execute_result"
    }
   ],
   "source": [
    "device = torch.device('mps' if torch.backends.mps.is_available() else 'cpu')\n",
    "device"
   ]
  },
  {
   "cell_type": "markdown",
   "id": "8c32f835-a992-480f-a1aa-3dd916d23e64",
   "metadata": {},
   "source": [
    "# Data Preprocessing"
   ]
  },
  {
   "cell_type": "code",
   "execution_count": 3,
   "id": "e2eadc48-7c63-43f0-b08f-9bb30d15843d",
   "metadata": {},
   "outputs": [
    {
     "data": {
      "text/html": [
       "<div>\n",
       "<style scoped>\n",
       "    .dataframe tbody tr th:only-of-type {\n",
       "        vertical-align: middle;\n",
       "    }\n",
       "\n",
       "    .dataframe tbody tr th {\n",
       "        vertical-align: top;\n",
       "    }\n",
       "\n",
       "    .dataframe thead th {\n",
       "        text-align: right;\n",
       "    }\n",
       "</style>\n",
       "<table border=\"1\" class=\"dataframe\">\n",
       "  <thead>\n",
       "    <tr style=\"text-align: right;\">\n",
       "      <th></th>\n",
       "      <th>User-ID</th>\n",
       "      <th>ISBN</th>\n",
       "      <th>Book-Rating</th>\n",
       "    </tr>\n",
       "  </thead>\n",
       "  <tbody>\n",
       "    <tr>\n",
       "      <th>0</th>\n",
       "      <td>276725</td>\n",
       "      <td>034545104X</td>\n",
       "      <td>0</td>\n",
       "    </tr>\n",
       "    <tr>\n",
       "      <th>1</th>\n",
       "      <td>276726</td>\n",
       "      <td>0155061224</td>\n",
       "      <td>5</td>\n",
       "    </tr>\n",
       "    <tr>\n",
       "      <th>2</th>\n",
       "      <td>276727</td>\n",
       "      <td>0446520802</td>\n",
       "      <td>0</td>\n",
       "    </tr>\n",
       "    <tr>\n",
       "      <th>3</th>\n",
       "      <td>276729</td>\n",
       "      <td>052165615X</td>\n",
       "      <td>3</td>\n",
       "    </tr>\n",
       "    <tr>\n",
       "      <th>4</th>\n",
       "      <td>276729</td>\n",
       "      <td>0521795028</td>\n",
       "      <td>6</td>\n",
       "    </tr>\n",
       "  </tbody>\n",
       "</table>\n",
       "</div>"
      ],
      "text/plain": [
       "   User-ID        ISBN  Book-Rating\n",
       "0   276725  034545104X            0\n",
       "1   276726  0155061224            5\n",
       "2   276727  0446520802            0\n",
       "3   276729  052165615X            3\n",
       "4   276729  0521795028            6"
      ]
     },
     "execution_count": 3,
     "metadata": {},
     "output_type": "execute_result"
    }
   ],
   "source": [
    "rating = pd.read_csv(\"Ratings.csv\")\n",
    "rating.head()"
   ]
  },
  {
   "cell_type": "code",
   "execution_count": 4,
   "id": "5558a145-afb5-4df5-9b2b-936a38f5fe30",
   "metadata": {},
   "outputs": [
    {
     "data": {
      "text/html": [
       "<div>\n",
       "<style scoped>\n",
       "    .dataframe tbody tr th:only-of-type {\n",
       "        vertical-align: middle;\n",
       "    }\n",
       "\n",
       "    .dataframe tbody tr th {\n",
       "        vertical-align: top;\n",
       "    }\n",
       "\n",
       "    .dataframe thead th {\n",
       "        text-align: right;\n",
       "    }\n",
       "</style>\n",
       "<table border=\"1\" class=\"dataframe\">\n",
       "  <thead>\n",
       "    <tr style=\"text-align: right;\">\n",
       "      <th></th>\n",
       "      <th>ISBN</th>\n",
       "      <th>Book-Title</th>\n",
       "      <th>Book-Author</th>\n",
       "      <th>Year-Of-Publication</th>\n",
       "      <th>Publisher</th>\n",
       "      <th>Image-URL-S</th>\n",
       "      <th>Image-URL-M</th>\n",
       "      <th>Image-URL-L</th>\n",
       "    </tr>\n",
       "  </thead>\n",
       "  <tbody>\n",
       "    <tr>\n",
       "      <th>0</th>\n",
       "      <td>0195153448</td>\n",
       "      <td>Classical Mythology</td>\n",
       "      <td>Mark P. O. Morford</td>\n",
       "      <td>2002</td>\n",
       "      <td>Oxford University Press</td>\n",
       "      <td>http://images.amazon.com/images/P/0195153448.0...</td>\n",
       "      <td>http://images.amazon.com/images/P/0195153448.0...</td>\n",
       "      <td>http://images.amazon.com/images/P/0195153448.0...</td>\n",
       "    </tr>\n",
       "    <tr>\n",
       "      <th>1</th>\n",
       "      <td>0002005018</td>\n",
       "      <td>Clara Callan</td>\n",
       "      <td>Richard Bruce Wright</td>\n",
       "      <td>2001</td>\n",
       "      <td>HarperFlamingo Canada</td>\n",
       "      <td>http://images.amazon.com/images/P/0002005018.0...</td>\n",
       "      <td>http://images.amazon.com/images/P/0002005018.0...</td>\n",
       "      <td>http://images.amazon.com/images/P/0002005018.0...</td>\n",
       "    </tr>\n",
       "    <tr>\n",
       "      <th>2</th>\n",
       "      <td>0060973129</td>\n",
       "      <td>Decision in Normandy</td>\n",
       "      <td>Carlo D'Este</td>\n",
       "      <td>1991</td>\n",
       "      <td>HarperPerennial</td>\n",
       "      <td>http://images.amazon.com/images/P/0060973129.0...</td>\n",
       "      <td>http://images.amazon.com/images/P/0060973129.0...</td>\n",
       "      <td>http://images.amazon.com/images/P/0060973129.0...</td>\n",
       "    </tr>\n",
       "    <tr>\n",
       "      <th>3</th>\n",
       "      <td>0374157065</td>\n",
       "      <td>Flu: The Story of the Great Influenza Pandemic...</td>\n",
       "      <td>Gina Bari Kolata</td>\n",
       "      <td>1999</td>\n",
       "      <td>Farrar Straus Giroux</td>\n",
       "      <td>http://images.amazon.com/images/P/0374157065.0...</td>\n",
       "      <td>http://images.amazon.com/images/P/0374157065.0...</td>\n",
       "      <td>http://images.amazon.com/images/P/0374157065.0...</td>\n",
       "    </tr>\n",
       "    <tr>\n",
       "      <th>4</th>\n",
       "      <td>0393045218</td>\n",
       "      <td>The Mummies of Urumchi</td>\n",
       "      <td>E. J. W. Barber</td>\n",
       "      <td>1999</td>\n",
       "      <td>W. W. Norton &amp;amp; Company</td>\n",
       "      <td>http://images.amazon.com/images/P/0393045218.0...</td>\n",
       "      <td>http://images.amazon.com/images/P/0393045218.0...</td>\n",
       "      <td>http://images.amazon.com/images/P/0393045218.0...</td>\n",
       "    </tr>\n",
       "  </tbody>\n",
       "</table>\n",
       "</div>"
      ],
      "text/plain": [
       "         ISBN                                         Book-Title  \\\n",
       "0  0195153448                                Classical Mythology   \n",
       "1  0002005018                                       Clara Callan   \n",
       "2  0060973129                               Decision in Normandy   \n",
       "3  0374157065  Flu: The Story of the Great Influenza Pandemic...   \n",
       "4  0393045218                             The Mummies of Urumchi   \n",
       "\n",
       "            Book-Author Year-Of-Publication                   Publisher  \\\n",
       "0    Mark P. O. Morford                2002     Oxford University Press   \n",
       "1  Richard Bruce Wright                2001       HarperFlamingo Canada   \n",
       "2          Carlo D'Este                1991             HarperPerennial   \n",
       "3      Gina Bari Kolata                1999        Farrar Straus Giroux   \n",
       "4       E. J. W. Barber                1999  W. W. Norton &amp; Company   \n",
       "\n",
       "                                         Image-URL-S  \\\n",
       "0  http://images.amazon.com/images/P/0195153448.0...   \n",
       "1  http://images.amazon.com/images/P/0002005018.0...   \n",
       "2  http://images.amazon.com/images/P/0060973129.0...   \n",
       "3  http://images.amazon.com/images/P/0374157065.0...   \n",
       "4  http://images.amazon.com/images/P/0393045218.0...   \n",
       "\n",
       "                                         Image-URL-M  \\\n",
       "0  http://images.amazon.com/images/P/0195153448.0...   \n",
       "1  http://images.amazon.com/images/P/0002005018.0...   \n",
       "2  http://images.amazon.com/images/P/0060973129.0...   \n",
       "3  http://images.amazon.com/images/P/0374157065.0...   \n",
       "4  http://images.amazon.com/images/P/0393045218.0...   \n",
       "\n",
       "                                         Image-URL-L  \n",
       "0  http://images.amazon.com/images/P/0195153448.0...  \n",
       "1  http://images.amazon.com/images/P/0002005018.0...  \n",
       "2  http://images.amazon.com/images/P/0060973129.0...  \n",
       "3  http://images.amazon.com/images/P/0374157065.0...  \n",
       "4  http://images.amazon.com/images/P/0393045218.0...  "
      ]
     },
     "execution_count": 4,
     "metadata": {},
     "output_type": "execute_result"
    }
   ],
   "source": [
    "books = pd.read_csv(\"Books.csv\")\n",
    "books.head()"
   ]
  },
  {
   "cell_type": "code",
   "execution_count": 5,
   "id": "2ee3da8f-9411-4eb6-a522-a9607dff7e9e",
   "metadata": {},
   "outputs": [
    {
     "data": {
      "text/html": [
       "<div>\n",
       "<style scoped>\n",
       "    .dataframe tbody tr th:only-of-type {\n",
       "        vertical-align: middle;\n",
       "    }\n",
       "\n",
       "    .dataframe tbody tr th {\n",
       "        vertical-align: top;\n",
       "    }\n",
       "\n",
       "    .dataframe thead th {\n",
       "        text-align: right;\n",
       "    }\n",
       "</style>\n",
       "<table border=\"1\" class=\"dataframe\">\n",
       "  <thead>\n",
       "    <tr style=\"text-align: right;\">\n",
       "      <th></th>\n",
       "      <th>User-ID</th>\n",
       "      <th>Location</th>\n",
       "      <th>Age</th>\n",
       "    </tr>\n",
       "  </thead>\n",
       "  <tbody>\n",
       "    <tr>\n",
       "      <th>0</th>\n",
       "      <td>1</td>\n",
       "      <td>nyc, new york, usa</td>\n",
       "      <td>NaN</td>\n",
       "    </tr>\n",
       "    <tr>\n",
       "      <th>1</th>\n",
       "      <td>2</td>\n",
       "      <td>stockton, california, usa</td>\n",
       "      <td>18.0</td>\n",
       "    </tr>\n",
       "    <tr>\n",
       "      <th>2</th>\n",
       "      <td>3</td>\n",
       "      <td>moscow, yukon territory, russia</td>\n",
       "      <td>NaN</td>\n",
       "    </tr>\n",
       "    <tr>\n",
       "      <th>3</th>\n",
       "      <td>4</td>\n",
       "      <td>porto, v.n.gaia, portugal</td>\n",
       "      <td>17.0</td>\n",
       "    </tr>\n",
       "    <tr>\n",
       "      <th>4</th>\n",
       "      <td>5</td>\n",
       "      <td>farnborough, hants, united kingdom</td>\n",
       "      <td>NaN</td>\n",
       "    </tr>\n",
       "  </tbody>\n",
       "</table>\n",
       "</div>"
      ],
      "text/plain": [
       "   User-ID                            Location   Age\n",
       "0        1                  nyc, new york, usa   NaN\n",
       "1        2           stockton, california, usa  18.0\n",
       "2        3     moscow, yukon territory, russia   NaN\n",
       "3        4           porto, v.n.gaia, portugal  17.0\n",
       "4        5  farnborough, hants, united kingdom   NaN"
      ]
     },
     "execution_count": 5,
     "metadata": {},
     "output_type": "execute_result"
    }
   ],
   "source": [
    "users = pd.read_csv(\"Users.csv\")\n",
    "users.head()"
   ]
  },
  {
   "cell_type": "code",
   "execution_count": 6,
   "id": "76c9bfd5-f212-425e-9728-fe4dae894252",
   "metadata": {},
   "outputs": [
    {
     "name": "stdout",
     "output_type": "stream",
     "text": [
      "User-ID        0\n",
      "ISBN           0\n",
      "Book-Rating    0\n",
      "dtype: int64\n",
      "--------------------------------------------------\n",
      "ISBN                   0\n",
      "Book-Title             0\n",
      "Book-Author            1\n",
      "Year-Of-Publication    0\n",
      "Publisher              2\n",
      "Image-URL-S            0\n",
      "Image-URL-M            0\n",
      "Image-URL-L            3\n",
      "dtype: int64\n",
      "--------------------------------------------------\n",
      "User-ID          0\n",
      "Location         0\n",
      "Age         110762\n",
      "dtype: int64\n",
      "--------------------------------------------------\n"
     ]
    }
   ],
   "source": [
    "print(rating.isnull().sum())\n",
    "print(\"-\"*50)\n",
    "print(books.isnull().sum())\n",
    "print(\"-\"*50)\n",
    "print(users.isnull().sum())\n",
    "print(\"-\"*50)"
   ]
  },
  {
   "cell_type": "code",
   "execution_count": 7,
   "id": "0cc39319-0a0b-4e6e-a370-aef096f2f664",
   "metadata": {},
   "outputs": [
    {
     "name": "stdout",
     "output_type": "stream",
     "text": [
      "(1149780, 3) (1031136, 10)\n"
     ]
    },
    {
     "data": {
      "text/html": [
       "<div>\n",
       "<style scoped>\n",
       "    .dataframe tbody tr th:only-of-type {\n",
       "        vertical-align: middle;\n",
       "    }\n",
       "\n",
       "    .dataframe tbody tr th {\n",
       "        vertical-align: top;\n",
       "    }\n",
       "\n",
       "    .dataframe thead th {\n",
       "        text-align: right;\n",
       "    }\n",
       "</style>\n",
       "<table border=\"1\" class=\"dataframe\">\n",
       "  <thead>\n",
       "    <tr style=\"text-align: right;\">\n",
       "      <th></th>\n",
       "      <th>ISBN</th>\n",
       "      <th>Book-Title</th>\n",
       "      <th>Book-Author</th>\n",
       "      <th>Year-Of-Publication</th>\n",
       "      <th>Publisher</th>\n",
       "      <th>Image-URL-S</th>\n",
       "      <th>Image-URL-M</th>\n",
       "      <th>Image-URL-L</th>\n",
       "      <th>User-ID</th>\n",
       "      <th>Book-Rating</th>\n",
       "    </tr>\n",
       "  </thead>\n",
       "  <tbody>\n",
       "    <tr>\n",
       "      <th>0</th>\n",
       "      <td>0195153448</td>\n",
       "      <td>Classical Mythology</td>\n",
       "      <td>Mark P. O. Morford</td>\n",
       "      <td>2002</td>\n",
       "      <td>Oxford University Press</td>\n",
       "      <td>http://images.amazon.com/images/P/0195153448.0...</td>\n",
       "      <td>http://images.amazon.com/images/P/0195153448.0...</td>\n",
       "      <td>http://images.amazon.com/images/P/0195153448.0...</td>\n",
       "      <td>2</td>\n",
       "      <td>0</td>\n",
       "    </tr>\n",
       "    <tr>\n",
       "      <th>1</th>\n",
       "      <td>0002005018</td>\n",
       "      <td>Clara Callan</td>\n",
       "      <td>Richard Bruce Wright</td>\n",
       "      <td>2001</td>\n",
       "      <td>HarperFlamingo Canada</td>\n",
       "      <td>http://images.amazon.com/images/P/0002005018.0...</td>\n",
       "      <td>http://images.amazon.com/images/P/0002005018.0...</td>\n",
       "      <td>http://images.amazon.com/images/P/0002005018.0...</td>\n",
       "      <td>8</td>\n",
       "      <td>5</td>\n",
       "    </tr>\n",
       "    <tr>\n",
       "      <th>2</th>\n",
       "      <td>0002005018</td>\n",
       "      <td>Clara Callan</td>\n",
       "      <td>Richard Bruce Wright</td>\n",
       "      <td>2001</td>\n",
       "      <td>HarperFlamingo Canada</td>\n",
       "      <td>http://images.amazon.com/images/P/0002005018.0...</td>\n",
       "      <td>http://images.amazon.com/images/P/0002005018.0...</td>\n",
       "      <td>http://images.amazon.com/images/P/0002005018.0...</td>\n",
       "      <td>11400</td>\n",
       "      <td>0</td>\n",
       "    </tr>\n",
       "    <tr>\n",
       "      <th>3</th>\n",
       "      <td>0002005018</td>\n",
       "      <td>Clara Callan</td>\n",
       "      <td>Richard Bruce Wright</td>\n",
       "      <td>2001</td>\n",
       "      <td>HarperFlamingo Canada</td>\n",
       "      <td>http://images.amazon.com/images/P/0002005018.0...</td>\n",
       "      <td>http://images.amazon.com/images/P/0002005018.0...</td>\n",
       "      <td>http://images.amazon.com/images/P/0002005018.0...</td>\n",
       "      <td>11676</td>\n",
       "      <td>8</td>\n",
       "    </tr>\n",
       "    <tr>\n",
       "      <th>4</th>\n",
       "      <td>0002005018</td>\n",
       "      <td>Clara Callan</td>\n",
       "      <td>Richard Bruce Wright</td>\n",
       "      <td>2001</td>\n",
       "      <td>HarperFlamingo Canada</td>\n",
       "      <td>http://images.amazon.com/images/P/0002005018.0...</td>\n",
       "      <td>http://images.amazon.com/images/P/0002005018.0...</td>\n",
       "      <td>http://images.amazon.com/images/P/0002005018.0...</td>\n",
       "      <td>41385</td>\n",
       "      <td>0</td>\n",
       "    </tr>\n",
       "  </tbody>\n",
       "</table>\n",
       "</div>"
      ],
      "text/plain": [
       "         ISBN           Book-Title           Book-Author Year-Of-Publication  \\\n",
       "0  0195153448  Classical Mythology    Mark P. O. Morford                2002   \n",
       "1  0002005018         Clara Callan  Richard Bruce Wright                2001   \n",
       "2  0002005018         Clara Callan  Richard Bruce Wright                2001   \n",
       "3  0002005018         Clara Callan  Richard Bruce Wright                2001   \n",
       "4  0002005018         Clara Callan  Richard Bruce Wright                2001   \n",
       "\n",
       "                 Publisher                                        Image-URL-S  \\\n",
       "0  Oxford University Press  http://images.amazon.com/images/P/0195153448.0...   \n",
       "1    HarperFlamingo Canada  http://images.amazon.com/images/P/0002005018.0...   \n",
       "2    HarperFlamingo Canada  http://images.amazon.com/images/P/0002005018.0...   \n",
       "3    HarperFlamingo Canada  http://images.amazon.com/images/P/0002005018.0...   \n",
       "4    HarperFlamingo Canada  http://images.amazon.com/images/P/0002005018.0...   \n",
       "\n",
       "                                         Image-URL-M  \\\n",
       "0  http://images.amazon.com/images/P/0195153448.0...   \n",
       "1  http://images.amazon.com/images/P/0002005018.0...   \n",
       "2  http://images.amazon.com/images/P/0002005018.0...   \n",
       "3  http://images.amazon.com/images/P/0002005018.0...   \n",
       "4  http://images.amazon.com/images/P/0002005018.0...   \n",
       "\n",
       "                                         Image-URL-L  User-ID  Book-Rating  \n",
       "0  http://images.amazon.com/images/P/0195153448.0...        2            0  \n",
       "1  http://images.amazon.com/images/P/0002005018.0...        8            5  \n",
       "2  http://images.amazon.com/images/P/0002005018.0...    11400            0  \n",
       "3  http://images.amazon.com/images/P/0002005018.0...    11676            8  \n",
       "4  http://images.amazon.com/images/P/0002005018.0...    41385            0  "
      ]
     },
     "execution_count": 7,
     "metadata": {},
     "output_type": "execute_result"
    }
   ],
   "source": [
    "books_data=books.merge(rating,on=\"ISBN\")\n",
    "print(rating.shape,books_data.shape)\n",
    "books_data.head()"
   ]
  },
  {
   "cell_type": "code",
   "execution_count": 8,
   "id": "089d59dc-4d8d-471d-bf99-1ac13f2646f1",
   "metadata": {},
   "outputs": [
    {
     "data": {
      "text/plain": [
       "ISBN                   0\n",
       "Book-Title             0\n",
       "Book-Author            1\n",
       "Year-Of-Publication    0\n",
       "Publisher              2\n",
       "Image-URL-S            0\n",
       "Image-URL-M            0\n",
       "Image-URL-L            4\n",
       "User-ID                0\n",
       "Book-Rating            0\n",
       "dtype: int64"
      ]
     },
     "execution_count": 8,
     "metadata": {},
     "output_type": "execute_result"
    }
   ],
   "source": [
    "books_data.isna().sum()"
   ]
  },
  {
   "cell_type": "code",
   "execution_count": 9,
   "id": "6916414c-ba89-47d5-b635-33ee60b3f1fb",
   "metadata": {},
   "outputs": [
    {
     "data": {
      "text/html": [
       "<div>\n",
       "<style scoped>\n",
       "    .dataframe tbody tr th:only-of-type {\n",
       "        vertical-align: middle;\n",
       "    }\n",
       "\n",
       "    .dataframe tbody tr th {\n",
       "        vertical-align: top;\n",
       "    }\n",
       "\n",
       "    .dataframe thead th {\n",
       "        text-align: right;\n",
       "    }\n",
       "</style>\n",
       "<table border=\"1\" class=\"dataframe\">\n",
       "  <thead>\n",
       "    <tr style=\"text-align: right;\">\n",
       "      <th></th>\n",
       "      <th>Book-Title</th>\n",
       "      <th>Book-Author</th>\n",
       "      <th>Publisher</th>\n",
       "      <th>Image-URL-L</th>\n",
       "      <th>User-ID</th>\n",
       "      <th>Book-Rating</th>\n",
       "    </tr>\n",
       "  </thead>\n",
       "  <tbody>\n",
       "    <tr>\n",
       "      <th>1</th>\n",
       "      <td>Clara Callan</td>\n",
       "      <td>Richard Bruce Wright</td>\n",
       "      <td>HarperFlamingo Canada</td>\n",
       "      <td>http://images.amazon.com/images/P/0002005018.0...</td>\n",
       "      <td>8</td>\n",
       "      <td>5</td>\n",
       "    </tr>\n",
       "    <tr>\n",
       "      <th>3</th>\n",
       "      <td>Clara Callan</td>\n",
       "      <td>Richard Bruce Wright</td>\n",
       "      <td>HarperFlamingo Canada</td>\n",
       "      <td>http://images.amazon.com/images/P/0002005018.0...</td>\n",
       "      <td>11676</td>\n",
       "      <td>8</td>\n",
       "    </tr>\n",
       "    <tr>\n",
       "      <th>5</th>\n",
       "      <td>Clara Callan</td>\n",
       "      <td>Richard Bruce Wright</td>\n",
       "      <td>HarperFlamingo Canada</td>\n",
       "      <td>http://images.amazon.com/images/P/0002005018.0...</td>\n",
       "      <td>67544</td>\n",
       "      <td>8</td>\n",
       "    </tr>\n",
       "    <tr>\n",
       "      <th>8</th>\n",
       "      <td>Clara Callan</td>\n",
       "      <td>Richard Bruce Wright</td>\n",
       "      <td>HarperFlamingo Canada</td>\n",
       "      <td>http://images.amazon.com/images/P/0002005018.0...</td>\n",
       "      <td>116866</td>\n",
       "      <td>9</td>\n",
       "    </tr>\n",
       "    <tr>\n",
       "      <th>9</th>\n",
       "      <td>Clara Callan</td>\n",
       "      <td>Richard Bruce Wright</td>\n",
       "      <td>HarperFlamingo Canada</td>\n",
       "      <td>http://images.amazon.com/images/P/0002005018.0...</td>\n",
       "      <td>123629</td>\n",
       "      <td>9</td>\n",
       "    </tr>\n",
       "  </tbody>\n",
       "</table>\n",
       "</div>"
      ],
      "text/plain": [
       "     Book-Title           Book-Author              Publisher  \\\n",
       "1  Clara Callan  Richard Bruce Wright  HarperFlamingo Canada   \n",
       "3  Clara Callan  Richard Bruce Wright  HarperFlamingo Canada   \n",
       "5  Clara Callan  Richard Bruce Wright  HarperFlamingo Canada   \n",
       "8  Clara Callan  Richard Bruce Wright  HarperFlamingo Canada   \n",
       "9  Clara Callan  Richard Bruce Wright  HarperFlamingo Canada   \n",
       "\n",
       "                                         Image-URL-L  User-ID  Book-Rating  \n",
       "1  http://images.amazon.com/images/P/0002005018.0...        8            5  \n",
       "3  http://images.amazon.com/images/P/0002005018.0...    11676            8  \n",
       "5  http://images.amazon.com/images/P/0002005018.0...    67544            8  \n",
       "8  http://images.amazon.com/images/P/0002005018.0...   116866            9  \n",
       "9  http://images.amazon.com/images/P/0002005018.0...   123629            9  "
      ]
     },
     "execution_count": 9,
     "metadata": {},
     "output_type": "execute_result"
    }
   ],
   "source": [
    "df=books_data.copy()\n",
    "# drop nan\n",
    "df.dropna(inplace=True)\n",
    "df.reset_index(drop=True,inplace=True)\n",
    "\n",
    "# drop unuse features\n",
    "df.drop(columns=[\"ISBN\",\"Year-Of-Publication\",\"Image-URL-S\",\"Image-URL-M\"],axis=1,inplace=True)\n",
    "\n",
    "# drop no rating\n",
    "df.drop(index=df[df[\"Book-Rating\"]==0].index, inplace=True)\n",
    "\n",
    "df[\"Book-Title\"]=df[\"Book-Title\"].apply(lambda x: re.sub(\"[\\W_]+\",\" \",x).strip())\n",
    "df.head()"
   ]
  },
  {
   "cell_type": "code",
   "execution_count": 10,
   "id": "bf5b9a0f-b8b0-4024-ae38-5a5a1f0d32c8",
   "metadata": {},
   "outputs": [
    {
     "data": {
      "text/plain": [
       "(383838, 6)"
      ]
     },
     "execution_count": 10,
     "metadata": {},
     "output_type": "execute_result"
    }
   ],
   "source": [
    "df.shape"
   ]
  },
  {
   "cell_type": "code",
   "execution_count": 11,
   "id": "7ba7ebf6-811f-4452-96f0-8640eda42421",
   "metadata": {},
   "outputs": [
    {
     "data": {
      "text/plain": [
       "68091"
      ]
     },
     "execution_count": 11,
     "metadata": {},
     "output_type": "execute_result"
    }
   ],
   "source": [
    "df[\"User-ID\"].nunique()"
   ]
  },
  {
   "cell_type": "code",
   "execution_count": 12,
   "id": "96a6e1c3-c41b-4622-8a54-8f3633761ebf",
   "metadata": {},
   "outputs": [
    {
     "data": {
      "text/plain": [
       "134550"
      ]
     },
     "execution_count": 12,
     "metadata": {},
     "output_type": "execute_result"
    }
   ],
   "source": [
    "df[\"Book-Title\"].nunique()"
   ]
  },
  {
   "cell_type": "markdown",
   "id": "59b7a75e-8e12-4806-add9-853e46ca93be",
   "metadata": {},
   "source": [
    "Observation: \n",
    "\n",
    "Since there is a significant difference in the number of users and books, adjusting the embedding size for books may improve the model's ability to capture the important features of books."
   ]
  },
  {
   "cell_type": "markdown",
   "id": "9285ee06-a60f-4290-9499-24212b23c4b1",
   "metadata": {},
   "source": [
    "# Datasets / Data Loader"
   ]
  },
  {
   "cell_type": "code",
   "execution_count": 13,
   "id": "7690e5c0-692a-44a9-bbd1-3a41e16d6fd4",
   "metadata": {},
   "outputs": [],
   "source": [
    "# # jupyter notebook has issue of calling the dataset class in the same file with model\n",
    "# class BookDataset(Dataset):\n",
    "#     def __init__(self, users, books, ratings):\n",
    "#         self.users = users\n",
    "#         self.books = books\n",
    "#         self.ratings = ratings\n",
    "\n",
    "#         # encode user and book ids to start from 0\n",
    "#         self.lbl_user = preprocessing.LabelEncoder()\n",
    "#         self.lbl_book = preprocessing.LabelEncoder()\n",
    "#         self.users = self.lbl_user.fit_transform(users)\n",
    "#         self.books = self.lbl_book.fit_transform(books)\n",
    "\n",
    "#     def __len__(self):\n",
    "#         return len(self.users)\n",
    "\n",
    "#     def __getitem__(self, idx):\n",
    "#         user = self.users[idx]\n",
    "#         book = self.books[idx]\n",
    "#         rating = self.ratings[idx]\n",
    "#         return {\"users\":  torch.tensor(user, dtype=torch.long), \n",
    "#                 \"books\": torch.tensor(book, dtype=torch.long), \n",
    "#                 \"ratings\": torch.tensor(rating, dtype=torch.float)}\n",
    "\n"
   ]
  },
  {
   "cell_type": "code",
   "execution_count": 14,
   "id": "06b5f31d-19b5-4f52-ab07-46997784e140",
   "metadata": {},
   "outputs": [],
   "source": [
    "df_train, df_valid = model_selection.train_test_split(\n",
    "    df, test_size=0.25, random_state=42, stratify=df[\"Book-Rating\"].values\n",
    ")\n",
    "df_test, df_valid = model_selection.train_test_split(\n",
    "    df_valid, test_size=0.5, random_state=42, stratify=df_valid[\"Book-Rating\"].values\n",
    ")\n",
    "\n",
    "train_dataset = BookDataset(\n",
    "    users=df_train[\"User-ID\"].values,\n",
    "    books=df_train[\"Book-Title\"].values,\n",
    "    ratings=df_train[\"Book-Rating\"].values\n",
    ")\n",
    "\n",
    "valid_dataset = BookDataset(\n",
    "    users=df_valid[\"User-ID\"].values,\n",
    "    books=df_valid[\"Book-Title\"].values,\n",
    "    ratings=df_valid[\"Book-Rating\"].values\n",
    ")\n",
    "\n",
    "test_dataset = BookDataset(\n",
    "    users=df_test[\"User-ID\"].values,\n",
    "    books=df_test[\"Book-Title\"].values,\n",
    "    ratings=df_test[\"Book-Rating\"].values\n",
    ")\n"
   ]
  },
  {
   "cell_type": "code",
   "execution_count": 15,
   "id": "d149ae33-a250-4582-a18a-807990503d8d",
   "metadata": {},
   "outputs": [
    {
     "name": "stdout",
     "output_type": "stream",
     "text": [
      "{'users': tensor([27397, 34152, 13285,  1508, 15106, 35664, 17725, 50905, 23384, 24475,\n",
      "        20384, 32043, 25808, 19362,  6654, 20384, 49883, 33114, 50745, 10331,\n",
      "        56468, 12678, 48575, 10689,  4081, 52702, 32306, 13263, 28731, 57387,\n",
      "        18692, 51707]), 'books': tensor([ 26624,  13932,  86411,  69066,  49827,  77447, 104366,  88557, 102651,\n",
      "         25412,  84038,  55112,  66510,   6734,  20276,  84570,    427,  65096,\n",
      "          6734,  43965,  57613,  42519,  14274,  14123,  22315,  95103,  99896,\n",
      "         58053,  71340,   1960,  89539, 103652]), 'ratings': tensor([10.,  8.,  6.,  6.,  8.,  7., 10., 10.,  6.,  8.,  9.,  9., 10.,  9.,\n",
      "         8.,  9., 10., 10., 10.,  8.,  4.,  7.,  8.,  8.,  5.,  9.,  7.,  8.,\n",
      "         5.,  9.,  8.,  9.])}\n"
     ]
    }
   ],
   "source": [
    "BATCH_SIZE = 32\n",
    "train_loader = DataLoader(dataset=train_dataset,\n",
    "                          batch_size=BATCH_SIZE,\n",
    "                          shuffle=True,\n",
    "                          num_workers=2)\n",
    "\n",
    "val_loader = DataLoader(dataset=valid_dataset,\n",
    "                          batch_size=BATCH_SIZE,\n",
    "                          shuffle=True,\n",
    "                          num_workers=2)\n",
    "\n",
    "test_loader = DataLoader(dataset=test_dataset,\n",
    "                          batch_size=BATCH_SIZE,\n",
    "                          shuffle=True,\n",
    "                          num_workers=2)\n",
    "\n",
    "dataiter = iter(train_loader)\n",
    "dataloader_data = next(dataiter)\n",
    "print(dataloader_data)"
   ]
  },
  {
   "cell_type": "markdown",
   "id": "f94866d8-ff4d-41c4-873a-7528bad6b186",
   "metadata": {},
   "source": [
    "# Model"
   ]
  },
  {
   "attachments": {
    "a1ceda6d-7bb2-474a-b86a-62fc71cb08cf.png": {
     "image/png": "[encoded data removed]"
    }
   },
   "cell_type": "markdown",
   "id": "de6c66e9-5dd9-406c-b759-b0fe8b45d2e1",
   "metadata": {},
   "source": [
    "![Untitled Diagram.drawio.png](attachment:a1ceda6d-7bb2-474a-b86a-62fc71cb08cf.png)"
   ]
  },
  {
   "cell_type": "code",
   "execution_count": 16,
   "id": "ea9b2b29-9add-492e-b7ba-8a2b1c13f1e0",
   "metadata": {},
   "outputs": [],
   "source": [
    "class RecSysModel(nn.Module):\n",
    "    def __init__(self, n_users, n_books, user_embedding_size=128, book_embedding_size=384, dropout_rate=0.5):\n",
    "        super().__init__()\n",
    "        # trainable lookup matrix for shallow embedding vectors\n",
    "        \n",
    "        self.user_embed = nn.Embedding(n_users, user_embedding_size)\n",
    "        self.book_embed = nn.Embedding(n_books, book_embedding_size)\n",
    "        # user, movie embedding concat\n",
    "        self.dropout = nn.Dropout(p=dropout_rate)\n",
    "        self.layers = nn.Sequential(\n",
    "            nn.Linear(user_embedding_size + book_embedding_size, 256),\n",
    "            nn.ReLU(),\n",
    "            nn.Dropout(p=dropout_rate),\n",
    "            nn.Linear(256, 128),\n",
    "            nn.ReLU(),\n",
    "            nn.Linear(128, 64),\n",
    "            nn.ReLU(),\n",
    "            nn.Dropout(p=dropout_rate),\n",
    "            nn.Linear(64, 1)\n",
    "        )\n",
    "\n",
    "    def forward(self, users, books):\n",
    "        user_embeds = self.user_embed(users)\n",
    "        book_embeds = self.book_embed(books)\n",
    "        x = torch.cat([user_embeds, book_embeds], dim=1)\n",
    "        x = self.dropout(x)\n",
    "        x = self.layers(x)\n",
    "        \n",
    "        return x\n"
   ]
  },
  {
   "cell_type": "code",
   "execution_count": 17,
   "id": "8c0d8c44-93cd-44fc-87ef-9b28b025785f",
   "metadata": {},
   "outputs": [
    {
     "data": {
      "text/plain": [
       "RecSysModel(\n",
       "  (user_embed): Embedding(68091, 128)\n",
       "  (book_embed): Embedding(134550, 384)\n",
       "  (dropout): Dropout(p=0.5, inplace=False)\n",
       "  (layers): Sequential(\n",
       "    (0): Linear(in_features=512, out_features=256, bias=True)\n",
       "    (1): ReLU()\n",
       "    (2): Dropout(p=0.5, inplace=False)\n",
       "    (3): Linear(in_features=256, out_features=128, bias=True)\n",
       "    (4): ReLU()\n",
       "    (5): Linear(in_features=128, out_features=64, bias=True)\n",
       "    (6): ReLU()\n",
       "    (7): Dropout(p=0.5, inplace=False)\n",
       "    (8): Linear(in_features=64, out_features=1, bias=True)\n",
       "  )\n",
       ")"
      ]
     },
     "execution_count": 17,
     "metadata": {},
     "output_type": "execute_result"
    }
   ],
   "source": [
    "model = RecSysModel(\n",
    "    n_users=df[\"User-ID\"].nunique(),\n",
    "    n_books=df[\"Book-Title\"].nunique(),\n",
    ").to(device)\n",
    "model"
   ]
  },
  {
   "cell_type": "markdown",
   "id": "0f66a201-78b1-4228-82f5-02bfd084a2f2",
   "metadata": {},
   "source": [
    "# Train"
   ]
  },
  {
   "cell_type": "code",
   "execution_count": 18,
   "id": "12ecb81b-51ed-4536-ae8e-c690f36e21a0",
   "metadata": {},
   "outputs": [],
   "source": [
    "def TrainModel(model, loss_fn, optimizer, train_loader, val_loader, epochs=10, patient=3):\n",
    "    best_loss = float('inf')\n",
    "    counter = 0\n",
    "    train_losses, train_accs = [], []\n",
    "    val_losses, val_accs = [], []\n",
    "    \n",
    "    for epoch in range(epochs):\n",
    "        print(f\"Epoch {epoch}\")\n",
    "        train_loss, train_acc = TrainEpoch(model, loss_fn, optimizer, train_loader)\n",
    "        val_loss, val_acc = EvalModel(model, loss_fn, val_loader)\n",
    "        print(\"Train Loss : {:.3f} | Train RMSE : {:.3f} \" .format(train_loss, train_acc)) \n",
    "        print(\"Valid Loss : {:.3f} | Valid RMSE : {:.3f} \" .format(val_loss, val_acc))\n",
    "        print(f\"Current Learning Rate : {optimizer.param_groups[0]['lr']:.7f}\")\n",
    "        print(\"-\"*80)\n",
    "\n",
    "        train_losses.append(train_loss)\n",
    "        train_accs.append(train_acc)\n",
    "        val_losses.append(val_loss)\n",
    "        val_accs.append(val_acc)\n",
    "        \n",
    "        if val_loss <= best_loss:\n",
    "            best_loss = val_loss\n",
    "            counter = 0\n",
    "        else:\n",
    "            counter += 1\n",
    "            print(f\"Current Counter is {counter}/{patient}\")\n",
    "            \n",
    "        if counter == patient:\n",
    "            break\n",
    "        \n",
    "        scheduler.step(val_loss) # update learning rate after each epoch\n",
    "    \n",
    "    return train_losses, train_accs, val_losses, val_accs\n",
    "\n",
    "\n",
    "def TrainEpoch(model, loss_fn, optimizer, train_loader):\n",
    "    model.train()\n",
    "    total_loss = 0 \n",
    "    total_samples = 0\n",
    "    \n",
    "    for batch in tqdm(train_loader):\n",
    "        optimizer.zero_grad()\n",
    "        users = batch[\"users\"].to(device)\n",
    "        books = batch[\"books\"].to(device)\n",
    "        ratings = batch[\"ratings\"].to(device)\n",
    "        \n",
    "        output = model(users, books)\n",
    "        rating = ratings.view(ratings.shape[0], -1).to(torch.float32)\n",
    "        loss = loss_fn(output, rating)\n",
    "        loss.backward()\n",
    "        optimizer.step()\n",
    "\n",
    "        total_loss = total_loss + loss.sum().item()\n",
    "        total_samples += rating.shape[0]\n",
    "    \n",
    "    train_loss = total_loss/total_samples\n",
    "    train_rmse = torch.sqrt(torch.tensor(train_loss))\n",
    "\n",
    "    return train_loss, train_rmse\n",
    "\n",
    "\n",
    "def EvalModel(model, loss_fn, val_loader):\n",
    "    model.eval()\n",
    "    with torch.no_grad():\n",
    "        total_loss = 0 \n",
    "        total_samples = 0\n",
    "        \n",
    "        for batch in tqdm(val_loader):\n",
    "            users = batch[\"users\"].to(device)\n",
    "            books = batch[\"books\"].to(device)\n",
    "            ratings = batch[\"ratings\"].to(device)\n",
    "        \n",
    "            output = model(users, books)\n",
    "            rating = ratings.view(ratings.shape[0], -1).to(torch.float32)\n",
    "            loss = loss_fn(output, rating)\n",
    "            \n",
    "            total_loss = total_loss + loss.sum().item()\n",
    "            total_samples += rating.shape[0]\n",
    "        \n",
    "        val_loss = total_loss/total_samples\n",
    "        val_rmse = torch.sqrt(torch.tensor(val_loss))\n",
    "        \n",
    "        return val_loss, val_rmse\n"
   ]
  },
  {
   "cell_type": "code",
   "execution_count": 19,
   "id": "ac77530e-2479-4fa3-be7b-3b9b502633c8",
   "metadata": {},
   "outputs": [
    {
     "name": "stdout",
     "output_type": "stream",
     "text": [
      "Epoch 0\n"
     ]
    },
    {
     "name": "stderr",
     "output_type": "stream",
     "text": [
      "100%|███████████████████████████████████████| 8997/8997 [16:40<00:00,  8.99it/s]\n",
      "100%|███████████████████████████████████████| 1500/1500 [00:16<00:00, 91.64it/s]\n"
     ]
    },
    {
     "name": "stdout",
     "output_type": "stream",
     "text": [
      "Train Loss : 0.153 | Train RMSE : 0.391 \n",
      "Valid Loss : 0.116 | Valid RMSE : 0.341 \n",
      "Current Learning Rate : 0.0010000\n",
      "--------------------------------------------------------------------------------\n",
      "Epoch 1\n"
     ]
    },
    {
     "name": "stderr",
     "output_type": "stream",
     "text": [
      "100%|███████████████████████████████████████| 8997/8997 [16:41<00:00,  8.98it/s]\n",
      "100%|███████████████████████████████████████| 1500/1500 [00:17<00:00, 87.00it/s]\n"
     ]
    },
    {
     "name": "stdout",
     "output_type": "stream",
     "text": [
      "Train Loss : 0.103 | Train RMSE : 0.322 \n",
      "Valid Loss : 0.112 | Valid RMSE : 0.334 \n",
      "Current Learning Rate : 0.0010000\n",
      "--------------------------------------------------------------------------------\n",
      "Epoch 2\n"
     ]
    },
    {
     "name": "stderr",
     "output_type": "stream",
     "text": [
      "100%|███████████████████████████████████████| 8997/8997 [16:26<00:00,  9.12it/s]\n",
      "100%|███████████████████████████████████████| 1500/1500 [00:17<00:00, 87.98it/s]\n"
     ]
    },
    {
     "name": "stdout",
     "output_type": "stream",
     "text": [
      "Train Loss : 0.090 | Train RMSE : 0.300 \n",
      "Valid Loss : 0.113 | Valid RMSE : 0.336 \n",
      "Current Learning Rate : 0.0010000\n",
      "--------------------------------------------------------------------------------\n",
      "Current Counter is 1/5\n",
      "Epoch 00003: reducing learning rate of group 0 to 1.0000e-04.\n",
      "Epoch 3\n"
     ]
    },
    {
     "name": "stderr",
     "output_type": "stream",
     "text": [
      "100%|███████████████████████████████████████| 8997/8997 [16:12<00:00,  9.25it/s]\n",
      "100%|███████████████████████████████████████| 1500/1500 [00:17<00:00, 86.46it/s]\n"
     ]
    },
    {
     "name": "stdout",
     "output_type": "stream",
     "text": [
      "Train Loss : 0.084 | Train RMSE : 0.289 \n",
      "Valid Loss : 0.114 | Valid RMSE : 0.338 \n",
      "Current Learning Rate : 0.0001000\n",
      "--------------------------------------------------------------------------------\n",
      "Current Counter is 2/5\n",
      "Epoch 00004: reducing learning rate of group 0 to 1.0000e-05.\n",
      "Epoch 4\n"
     ]
    },
    {
     "name": "stderr",
     "output_type": "stream",
     "text": [
      "100%|███████████████████████████████████████| 8997/8997 [16:10<00:00,  9.27it/s]\n",
      "100%|███████████████████████████████████████| 1500/1500 [00:17<00:00, 84.87it/s]\n"
     ]
    },
    {
     "name": "stdout",
     "output_type": "stream",
     "text": [
      "Train Loss : 0.083 | Train RMSE : 0.287 \n",
      "Valid Loss : 0.114 | Valid RMSE : 0.338 \n",
      "Current Learning Rate : 0.0000100\n",
      "--------------------------------------------------------------------------------\n",
      "Current Counter is 3/5\n",
      "Epoch 00005: reducing learning rate of group 0 to 1.0000e-06.\n",
      "Epoch 5\n"
     ]
    },
    {
     "name": "stderr",
     "output_type": "stream",
     "text": [
      "100%|███████████████████████████████████████| 8997/8997 [16:15<00:00,  9.22it/s]\n",
      "100%|███████████████████████████████████████| 1500/1500 [00:16<00:00, 88.71it/s]\n"
     ]
    },
    {
     "name": "stdout",
     "output_type": "stream",
     "text": [
      "Train Loss : 0.082 | Train RMSE : 0.287 \n",
      "Valid Loss : 0.114 | Valid RMSE : 0.338 \n",
      "Current Learning Rate : 0.0000010\n",
      "--------------------------------------------------------------------------------\n",
      "Current Counter is 4/5\n",
      "Epoch 00006: reducing learning rate of group 0 to 1.0000e-07.\n",
      "Epoch 6\n"
     ]
    },
    {
     "name": "stderr",
     "output_type": "stream",
     "text": [
      "100%|███████████████████████████████████████| 8997/8997 [16:17<00:00,  9.20it/s]\n",
      "100%|███████████████████████████████████████| 1500/1500 [00:17<00:00, 86.72it/s]"
     ]
    },
    {
     "name": "stdout",
     "output_type": "stream",
     "text": [
      "Train Loss : 0.083 | Train RMSE : 0.287 \n",
      "Valid Loss : 0.114 | Valid RMSE : 0.338 \n",
      "Current Learning Rate : 0.0000001\n",
      "--------------------------------------------------------------------------------\n",
      "Current Counter is 5/5\n"
     ]
    },
    {
     "name": "stderr",
     "output_type": "stream",
     "text": [
      "\n"
     ]
    }
   ],
   "source": [
    "epochs = 30\n",
    "initail_lr = 0.001 \n",
    "optimizer = torch.optim.Adam(model.parameters(), lr = initail_lr)  \n",
    "scheduler = ReduceLROnPlateau(optimizer, mode='min', factor=0.1, patience=0, verbose=True)\n",
    "loss_fn = nn.MSELoss()\n",
    "\n",
    "train_losses, train_rmse, val_losses, val_rmse = TrainModel(model, loss_fn, optimizer, train_loader, val_loader, epochs, patient=5)"
   ]
  },
  {
   "cell_type": "markdown",
   "id": "559b0dfc-3ad6-40c6-9d22-3869f803478b",
   "metadata": {},
   "source": [
    "# Evaluation"
   ]
  },
  {
   "cell_type": "code",
   "execution_count": 20,
   "id": "83766edb-ee54-40a4-9e7c-43b1dab29c7b",
   "metadata": {},
   "outputs": [
    {
     "name": "stdout",
     "output_type": "stream",
     "text": [
      "9000, 18584, 7.388184547424316, 10.0\n",
      "7000, 24792, 7.006982803344727, 7.0\n",
      "1000, 27756, 7.205108642578125, 7.0\n",
      "9000, 6066, 7.392521858215332, 10.0\n",
      "13000, 25323, 7.155637264251709, 8.0\n",
      "7000, 4946, 7.050224304199219, 6.0\n",
      "9000, 20962, 7.478093147277832, 10.0\n",
      "4000, 22183, 7.522426128387451, 7.0\n",
      "8000, 9508, 7.4827094078063965, 9.0\n",
      "15000, 16769, 8.080557823181152, 7.0\n",
      "6000, 11175, 6.387195587158203, 7.0\n",
      "13000, 6211, 7.331489562988281, 7.0\n",
      "3000, 6401, 6.996507167816162, 7.0\n",
      "9000, 6358, 7.534978866577148, 9.0\n",
      "10000, 9135, 7.348501682281494, 8.0\n",
      "17000, 29257, 7.703776836395264, 5.0\n",
      "8000, 23373, 7.423989772796631, 7.0\n",
      "11000, 3158, 7.146066665649414, 7.0\n",
      "9000, 27983, 7.509339332580566, 6.0\n",
      "9000, 7215, 7.5515336990356445, 8.0\n",
      "8000, 15001, 7.422738075256348, 8.0\n",
      "10000, 14586, 7.470322608947754, 7.0\n",
      "19000, 24054, 7.314009666442871, 7.0\n",
      "5000, 25290, 7.833146095275879, 7.0\n",
      "16000, 19542, 6.980412483215332, 9.0\n",
      "0, 8477, 7.177332401275635, 6.0\n",
      "12000, 3454, 7.559459209442139, 7.0\n",
      "9000, 7674, 7.215089797973633, 6.0\n",
      "9000, 2705, 7.418039321899414, 8.0\n",
      "2000, 3117, 7.515604019165039, 5.0\n",
      "9000, 7226, 7.191730499267578, 9.0\n",
      "9000, 15690, 7.494592666625977, 10.0\n",
      "18000, 22537, 7.26218318939209, 9.0\n",
      "7000, 1069, 7.400419235229492, 7.0\n",
      "9000, 27207, 7.269092082977295, 8.0\n",
      "9000, 12291, 7.436762809753418, 10.0\n",
      "9000, 1842, 7.331511974334717, 10.0\n",
      "14000, 2611, 6.806202411651611, 7.0\n"
     ]
    }
   ],
   "source": [
    "from collections import defaultdict\n",
    "\n",
    "# a dict that stores a list of predicted rating and actual rating pair for each user \n",
    "user_est_true = defaultdict(list)\n",
    "\n",
    "with torch.no_grad():\n",
    "    for i, batched_data in enumerate(test_loader): \n",
    "        users = batched_data['users'].to(device)\n",
    "        books = batched_data['books'].to(device)\n",
    "        ratings = batched_data['ratings'].to(device)\n",
    "        \n",
    "        model_output = model(batched_data['users'].to(device), batched_data[\"books\"].to(device))\n",
    "\n",
    "        for j in range(len(users)):\n",
    "            user_id = users[j].item()\n",
    "            book_id = books[j].item() \n",
    "            pred_rating = model_output[j][0].item()\n",
    "            true_rating = ratings[j].item()\n",
    "\n",
    "            user_est_true[user_id].append((pred_rating, true_rating))\n",
    "            if user_id % 1000 == 0:\n",
    "                print(f\"{user_id}, {book_id}, {pred_rating}, {true_rating}\")\n",
    "\n"
   ]
  },
  {
   "cell_type": "code",
   "execution_count": 21,
   "id": "a255fe0f-7a7b-4e38-bba2-520942de0332",
   "metadata": {},
   "outputs": [
    {
     "name": "stdout",
     "output_type": "stream",
     "text": [
      "uid 8500,  n_rel 1, n_rec_k 1, n_rel_and_rec_k 1\n",
      "uid 11500,  n_rel 1, n_rec_k 1, n_rel_and_rec_k 1\n",
      "uid 9000,  n_rel 11, n_rec_k 10, n_rel_and_rec_k 9\n",
      "uid 18500,  n_rel 0, n_rec_k 1, n_rel_and_rec_k 0\n",
      "uid 7000,  n_rel 2, n_rec_k 3, n_rel_and_rec_k 2\n",
      "uid 1000,  n_rel 1, n_rec_k 1, n_rel_and_rec_k 1\n",
      "uid 6500,  n_rel 0, n_rec_k 1, n_rel_and_rec_k 0\n",
      "uid 13000,  n_rel 2, n_rec_k 2, n_rel_and_rec_k 2\n",
      "uid 4500,  n_rel 2, n_rec_k 4, n_rel_and_rec_k 2\n",
      "uid 2500,  n_rel 16, n_rec_k 10, n_rel_and_rec_k 10\n",
      "uid 4000,  n_rel 1, n_rec_k 1, n_rel_and_rec_k 1\n",
      "uid 8000,  n_rel 3, n_rec_k 3, n_rel_and_rec_k 3\n",
      "uid 15000,  n_rel 1, n_rec_k 1, n_rel_and_rec_k 1\n",
      "uid 16500,  n_rel 1, n_rec_k 0, n_rel_and_rec_k 0\n",
      "uid 6000,  n_rel 1, n_rec_k 0, n_rel_and_rec_k 0\n",
      "uid 3500,  n_rel 0, n_rec_k 1, n_rel_and_rec_k 0\n",
      "uid 13500,  n_rel 1, n_rec_k 1, n_rel_and_rec_k 1\n",
      "uid 7500,  n_rel 2, n_rec_k 3, n_rel_and_rec_k 2\n",
      "uid 3000,  n_rel 1, n_rec_k 0, n_rel_and_rec_k 0\n",
      "uid 14500,  n_rel 2, n_rec_k 2, n_rel_and_rec_k 2\n",
      "uid 10000,  n_rel 2, n_rec_k 2, n_rel_and_rec_k 2\n",
      "uid 500,  n_rel 1, n_rec_k 1, n_rel_and_rec_k 1\n",
      "uid 17000,  n_rel 0, n_rec_k 1, n_rel_and_rec_k 0\n",
      "uid 11000,  n_rel 1, n_rec_k 1, n_rel_and_rec_k 1\n",
      "uid 1500,  n_rel 0, n_rec_k 1, n_rel_and_rec_k 0\n",
      "uid 10500,  n_rel 1, n_rec_k 1, n_rel_and_rec_k 1\n",
      "uid 19000,  n_rel 1, n_rec_k 1, n_rel_and_rec_k 1\n",
      "uid 5000,  n_rel 1, n_rec_k 1, n_rel_and_rec_k 1\n",
      "uid 16000,  n_rel 1, n_rec_k 0, n_rel_and_rec_k 0\n",
      "uid 0,  n_rel 0, n_rec_k 1, n_rel_and_rec_k 0\n",
      "uid 15500,  n_rel 1, n_rec_k 0, n_rel_and_rec_k 0\n",
      "uid 9500,  n_rel 1, n_rec_k 0, n_rel_and_rec_k 0\n",
      "uid 12000,  n_rel 1, n_rec_k 1, n_rel_and_rec_k 1\n",
      "uid 12500,  n_rel 1, n_rec_k 1, n_rel_and_rec_k 1\n",
      "uid 5500,  n_rel 0, n_rec_k 1, n_rel_and_rec_k 0\n",
      "uid 2000,  n_rel 0, n_rec_k 1, n_rel_and_rec_k 0\n",
      "uid 17500,  n_rel 0, n_rec_k 0, n_rel_and_rec_k 0\n",
      "uid 18000,  n_rel 1, n_rec_k 1, n_rel_and_rec_k 1\n",
      "uid 14000,  n_rel 1, n_rec_k 0, n_rel_and_rec_k 0\n"
     ]
    }
   ],
   "source": [
    "with torch.no_grad():\n",
    "    precisions = dict()\n",
    "    recalls = dict()\n",
    "\n",
    "    k=10\n",
    "    threshold= 7\n",
    "\n",
    "    for uid, user_ratings in user_est_true.items():\n",
    "\n",
    "        # Sort user ratings by estimated value. \n",
    "        user_ratings.sort(key=lambda x: x[0], reverse=True)\n",
    "\n",
    "        # 这里 get the number of actual relevant item\n",
    "        n_rel = sum((true_r >= threshold) for (_, true_r) in user_ratings)\n",
    "\n",
    "        # 这里 get the number of recommended item that are predicted relevent and within topk\n",
    "        n_rec_k = sum((est >= threshold) for (est, _) in user_ratings[:k])\n",
    "\n",
    "        # 这里 get the number of recommented item that' is also actually relevant within topk\n",
    "        n_rel_and_rec_k = sum(\n",
    "            ((true_r >= threshold) and (est >= threshold))\n",
    "            for (est, true_r) in user_ratings[:k]\n",
    "        )\n",
    "        if uid % 500 == 0:\n",
    "            print(f\"uid {uid},  n_rel {n_rel}, n_rec_k {n_rec_k}, n_rel_and_rec_k {n_rel_and_rec_k}\")\n",
    "\n",
    "        # Precision@K: Proportion of recommended items that are relevant\n",
    "        # When n_rec_k is 0, Precision is undefined. We here set it to 0.\n",
    "\n",
    "        precisions[uid] = n_rel_and_rec_k / n_rec_k if n_rec_k != 0 else 0\n",
    "\n",
    "        # Recall@K: Proportion of relevant items that are recommended\n",
    "        # When n_rel is 0, Recall is undefined. We here set it to 0.\n",
    "\n",
    "        recalls[uid] = n_rel_and_rec_k / n_rel if n_rel != 0 else 0"
   ]
  },
  {
   "cell_type": "code",
   "execution_count": 22,
   "id": "4bc96692-59ca-433e-8979-fd9f48337f22",
   "metadata": {},
   "outputs": [
    {
     "name": "stdout",
     "output_type": "stream",
     "text": [
      "precision @ 10: 0.6365447482717022\n",
      "recall @ 10 : 0.6522879910958486\n"
     ]
    }
   ],
   "source": [
    "# Precision and recall can then be averaged over all users\n",
    "print(f\"precision @ {k}: {sum(prec for prec in precisions.values()) / len(precisions)}\")\n",
    "\n",
    "print(f\"recall @ {k} : {sum(rec for rec in recalls.values()) / len(recalls)}\")\n"
   ]
  },
  {
   "cell_type": "markdown",
   "id": "5902fd3d-5804-493c-bc73-81e3d2d1a169",
   "metadata": {},
   "source": [
    "# Conclusion\n",
    "Based on the evaluation of a recommendation system, the precision score at 10 is 0.6365, meaning that out of 10 recommended items, approximately 6 items were relevant to the user. Additionally, the recall score at 10 is 0.6523, indicating that out of all relevant items, about 65% were recommended to the user. A relevance threshold of 7 was used to ensure the recommended items are of high quality. While the system is performing adequately, there is room for improvement to enhance the user experience."
   ]
  },
  {
   "cell_type": "markdown",
   "id": "3830c1f9-d33b-4d1e-81f9-f90996712411",
   "metadata": {
    "tags": []
   },
   "source": [
    "# Addition"
   ]
  },
  {
   "cell_type": "markdown",
   "id": "11e753d0-e96a-4056-9625-0bb5401a67f4",
   "metadata": {},
   "source": [
    "This section will concentrate on utilizing cosine similarity to retrieve comparable items based on user preferences."
   ]
  },
  {
   "cell_type": "markdown",
   "id": "bc075341-556d-4260-8377-3ffae8bfaae1",
   "metadata": {},
   "source": [
    "## ITEM-BASED COLLABORATIVE FILTERING"
   ]
  },
  {
   "cell_type": "code",
   "execution_count": 23,
   "id": "73e1c180-ddb0-4f78-83ce-a88f3f390ac0",
   "metadata": {},
   "outputs": [],
   "source": [
    "def item_based(df, n, book):\n",
    "    # filter book with more than 100 reviewer\n",
    "    y = df.groupby('Book-Title').count()['Book-Rating']>100\n",
    "    famous_books = y[y].index\n",
    "    final_ratings = df[df['Book-Title'].isin(famous_books)]\n",
    "    \n",
    "    # pivot table between Book and User on rating\n",
    "    final_df = final_ratings.pivot_table(index='Book-Title',columns='User-ID',values='Book-Rating')\n",
    "    final_df.fillna(0,inplace=True)\n",
    "    \n",
    "    # create sparse matrix from pivot table\n",
    "    sparse_matrix = csr_matrix(final_df)\n",
    "    \n",
    "    # get similarity matrix using cosine similarity\n",
    "    similarity_scores = cosine_similarity(sparse_matrix)\n",
    "    \n",
    "    # get the index of the given book\n",
    "    book_index = final_df.index.get_loc(book)\n",
    "    \n",
    "    # get similar matrix for the given book\n",
    "    similar_matrix = similarity_scores[book_index]\n",
    "    \n",
    "    # get indices of top similar books\n",
    "    similar_books_indices = similar_matrix.argsort()[::-1][1:n+1]\n",
    "    \n",
    "    # get the titles of the top similar books\n",
    "    books_list = list(final_df.index[similar_books_indices])\n",
    "    \n",
    "    # rank the recommended books based on the likelihood of the customer buying them\n",
    "    books_rank = final_df.loc[books_list,:].sum(axis=1).sort_values(ascending=False)\n",
    "    ranked_books_list = list(books_rank.index)\n",
    "    \n",
    "    return ranked_books_list\n"
   ]
  },
  {
   "cell_type": "code",
   "execution_count": 24,
   "id": "7fa855e0-d1c6-4ad0-a9bc-461787486052",
   "metadata": {},
   "outputs": [
    {
     "data": {
      "text/plain": [
       "['Harry Potter and the Chamber of Secrets Book 2',\n",
       " 'Harry Potter and the Sorcerer s Stone Harry Potter Paperback',\n",
       " 'Bridget Jones s Diary',\n",
       " 'Harry Potter and the Prisoner of Azkaban Book 3',\n",
       " 'Harry Potter and the Order of the Phoenix Book 5',\n",
       " 'The Fellowship of the Ring The Lord of the Rings Part 1',\n",
       " 'Harry Potter and the Sorcerer s Stone Book 1',\n",
       " 'The Two Towers The Lord of the Rings Part 2',\n",
       " 'The Return of the King The Lord of the Rings Part 3',\n",
       " 'The Bad Beginning A Series of Unfortunate Events Book 1']"
      ]
     },
     "execution_count": 24,
     "metadata": {},
     "output_type": "execute_result"
    }
   ],
   "source": [
    "item_based(df, 10, \"Harry Potter and the Goblet of Fire Book 4\")"
   ]
  },
  {
   "cell_type": "markdown",
   "id": "b17ebb78-eca4-4a4e-8c6a-ed608ae4732e",
   "metadata": {},
   "source": [
    "## USER-BASED COLLABORATIVE FILTERING"
   ]
  },
  {
   "cell_type": "code",
   "execution_count": 25,
   "id": "973c0467-6ec5-45d7-96fd-1b8a47e3b929",
   "metadata": {},
   "outputs": [],
   "source": [
    "def user_based(df, n, user_id):\n",
    "    # filter book with more than 50 reviewer & user with more than 10 review\n",
    "    y = df.groupby('User-ID').count()['Book-Rating']>10\n",
    "    active_users = y[y].index\n",
    "    df2 = df[df['User-ID'].isin(active_users)]\n",
    "    \n",
    "    y = df2.groupby('Book-Title').count()['Book-Rating']>50\n",
    "    famous_books = y[y].index\n",
    "    final_ratings = df2[df2['Book-Title'].isin(famous_books)]\n",
    "    \n",
    "    # matrix between User and Book on rating\n",
    "    final_df = final_ratings.pivot_table(index='User-ID',columns='Book-Title',values='Book-Rating')\n",
    "    final_df.fillna(0,inplace=True)\n",
    "    \n",
    "    sparse_matrix = csr_matrix(final_df)\n",
    "\n",
    "    # get similar matrix\n",
    "    similarity_scores = cosine_similarity(sparse_matrix)\n",
    "    \n",
    "    user_index = np.where(final_df.index==user_id)[0][0]\n",
    "    similar_matrix = similarity_scores[user_index]\n",
    "    similar_users = sorted(list(enumerate(similar_matrix)),reverse=True,key=lambda x:x[1])[1:n+1]\n",
    "    \n",
    "    books_list = []\n",
    "    for i in similar_users:\n",
    "        similar_user_ratings = final_df.loc[final_df.index[i[0]],:]\n",
    "        books_list += list(similar_user_ratings[similar_user_ratings>0].index)\n",
    "        \n",
    "    books_list = list(set(books_list))\n",
    "    \n",
    "    # rank the recommended books based on the likelihood of the customer buying them\n",
    "    books_rank = final_df.loc[:,books_list].sum(axis=0).sort_values(ascending=False)\n",
    "    ranked_books_list = list(books_rank.index)\n",
    "    \n",
    "    return ranked_books_list[:n]\n"
   ]
  },
  {
   "cell_type": "code",
   "execution_count": 26,
   "id": "4ca5909f-a50e-45d9-a3d6-a87f23997b22",
   "metadata": {},
   "outputs": [
    {
     "data": {
      "text/plain": [
       "['The Lovely Bones A Novel',\n",
       " 'The Da Vinci Code',\n",
       " 'Harry Potter and the Chamber of Secrets Book 2',\n",
       " 'Harry Potter and the Prisoner of Azkaban Book 3',\n",
       " 'Bridget Jones s Diary',\n",
       " 'Harry Potter and the Goblet of Fire Book 4',\n",
       " 'Harry Potter and the Order of the Phoenix Book 5',\n",
       " 'Where the Heart Is Oprah s Book Club Paperback',\n",
       " 'The Notebook',\n",
       " 'Good in Bed']"
      ]
     },
     "execution_count": 26,
     "metadata": {},
     "output_type": "execute_result"
    }
   ],
   "source": [
    "user_based(df, 10, 638)"
   ]
  }
 ],
 "metadata": {
  "kernelspec": {
   "display_name": "Python 3.9 (tensorflow)",
   "language": "python",
   "name": "tensorflow"
  },
  "language_info": {
   "codemirror_mode": {
    "name": "ipython",
    "version": 3
   },
   "file_extension": ".py",
   "mimetype": "text/x-python",
   "name": "python",
   "nbconvert_exporter": "python",
   "pygments_lexer": "ipython3",
   "version": "3.9.13"
  }
 },
 "nbformat": 4,
 "nbformat_minor": 5
}
