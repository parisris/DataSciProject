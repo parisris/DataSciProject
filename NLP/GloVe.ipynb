{
  "cells": [
    {
      "cell_type": "code",
      "execution_count": null,
      "metadata": {
        "colab": {
          "base_uri": "https://localhost:8080/"
        },
        "id": "REjsyWCfD27s",
        "outputId": "2a205e41-f38f-4341-b40e-30b0e0198fe3"
      },
      "outputs": [
        {
          "output_type": "stream",
          "name": "stdout",
          "text": [
            "Drive already mounted at /content/drive; to attempt to forcibly remount, call drive.mount(\"/content/drive\", force_remount=True).\n"
          ]
        }
      ],
      "source": [
        "from google.colab import drive\n",
        "drive.mount('/content/drive')"
      ],
      "id": "REjsyWCfD27s"
    },
    {
      "cell_type": "code",
      "execution_count": null,
      "metadata": {
        "colab": {
          "base_uri": "https://localhost:8080/"
        },
        "id": "fmdeE95QkZoD",
        "outputId": "134cde37-5e71-4f8d-ee3d-e2654ed956c0"
      },
      "outputs": [
        {
          "output_type": "stream",
          "name": "stdout",
          "text": [
            "Looking in indexes: https://pypi.org/simple, https://us-python.pkg.dev/colab-wheels/public/simple/\n",
            "Requirement already satisfied: torchmetrics in /usr/local/lib/python3.8/dist-packages (0.11.1)\n",
            "Requirement already satisfied: torch>=1.8.1 in /usr/local/lib/python3.8/dist-packages (from torchmetrics) (1.13.1+cu116)\n",
            "Requirement already satisfied: packaging in /usr/local/lib/python3.8/dist-packages (from torchmetrics) (23.0)\n",
            "Requirement already satisfied: typing-extensions in /usr/local/lib/python3.8/dist-packages (from torchmetrics) (4.4.0)\n",
            "Requirement already satisfied: numpy>=1.17.2 in /usr/local/lib/python3.8/dist-packages (from torchmetrics) (1.21.6)\n"
          ]
        }
      ],
      "source": [
        "!pip install torchmetrics"
      ],
      "id": "fmdeE95QkZoD"
    },
    {
      "cell_type": "code",
      "execution_count": null,
      "metadata": {
        "id": "SGkmap6ikY82"
      },
      "outputs": [],
      "source": [
        "from torchmetrics.classification import MultilabelAUROC"
      ],
      "id": "SGkmap6ikY82"
    },
    {
      "cell_type": "code",
      "execution_count": null,
      "metadata": {
        "colab": {
          "base_uri": "https://localhost:8080/"
        },
        "id": "051cb013-be44-4320-b9d8-c25613d402f4",
        "outputId": "85f13c31-db98-413c-d7d1-0a0a59cc9402"
      },
      "outputs": [
        {
          "output_type": "stream",
          "name": "stderr",
          "text": [
            "/usr/local/lib/python3.8/dist-packages/torchtext/data/utils.py:105: UserWarning: Spacy model \"en\" could not be loaded, trying \"en_core_web_sm\" instead\n",
            "  warnings.warn(\n"
          ]
        }
      ],
      "source": [
        "# import libraries\n",
        "\n",
        "# data manipulation\n",
        "import pandas as pd\n",
        "import numpy as np\n",
        "import math\n",
        "\n",
        "# data visualization\n",
        "import matplotlib.pyplot as plt\n",
        "import seaborn as sns\n",
        "from wordcloud import WordCloud, STOPWORDS\n",
        "from matplotlib import rc\n",
        "from pylab import rcParams\n",
        "\n",
        "\n",
        "# text processing\n",
        "import re\n",
        "import nltk\n",
        "from nltk.tokenize import word_tokenize, sent_tokenize\n",
        "from nltk.corpus import stopwords\n",
        "from nltk.stem.wordnet import WordNetLemmatizer\n",
        "\n",
        "\n",
        "# pytorch\n",
        "import torch\n",
        "import torchtext\n",
        "from torchtext.data import get_tokenizer\n",
        "import torch.nn as nn\n",
        "from torch.optim import Adam, SGD, Adagrad\n",
        "from torch.utils.data import Dataset, DataLoader, TensorDataset\n",
        "from torch.utils.data import DataLoader\n",
        "from torchtext.data.functional import to_map_style_dataset\n",
        "\n",
        "# from transformers import BertTokenizerFast as BertTokenizer, BertModel, AdamW, get_linear_schedule_with_warmup\n",
        "\n",
        "# sklearn\n",
        "from sklearn.model_selection import train_test_split\n",
        "from sklearn.metrics import classification_report, multilabel_confusion_matrix, confusion_matrix\n",
        "\n",
        "# utils\n",
        "import os\n",
        "from tqdm import tqdm\n",
        "tqdm.pandas()\n",
        "from collections import Counter\n",
        "\n",
        "\n",
        "%matplotlib inline\n",
        "%config InlineBackend.figure_format='retina'\n",
        "\n",
        "RANDOM_SEED = 42\n",
        "\n",
        "sns.set(style='whitegrid', palette='muted', font_scale=1.2)\n",
        "HAPPY_COLORS_PALETTE = [\"#01BEFE\", \"#FFDD00\", \"#FF7D00\", \"#FF006D\", \"#ADFF02\", \"#8F00FF\"]\n",
        "sns.set_palette(sns.color_palette(HAPPY_COLORS_PALETTE))\n",
        "rcParams['figure.figsize'] = 12, 8\n",
        "\n",
        "tokenizer = get_tokenizer(\"spacy\")"
      ],
      "id": "051cb013-be44-4320-b9d8-c25613d402f4"
    },
    {
      "cell_type": "markdown",
      "metadata": {
        "id": "w4O2eUvV4E8L"
      },
      "source": [
        "# Build Model"
      ],
      "id": "w4O2eUvV4E8L"
    },
    {
      "cell_type": "markdown",
      "metadata": {
        "id": "YLP9D-FZ4w9U"
      },
      "source": [
        "Tokens -> Build vocab -> embedding -> Model"
      ],
      "id": "YLP9D-FZ4w9U"
    },
    {
      "cell_type": "code",
      "execution_count": null,
      "metadata": {
        "id": "Uw7oF9JMPXe1"
      },
      "outputs": [],
      "source": [
        "vec = torchtext.vocab.GloVe(name='840B', dim=300)"
      ],
      "id": "Uw7oF9JMPXe1"
    },
    {
      "cell_type": "code",
      "execution_count": null,
      "metadata": {
        "colab": {
          "base_uri": "https://localhost:8080/"
        },
        "id": "clpCHvuvwCr4",
        "outputId": "547d69f9-8d60-431e-aa3a-1cbb4816965c"
      },
      "outputs": [
        {
          "output_type": "execute_result",
          "data": {
            "text/plain": [
              "device(type='cuda')"
            ]
          },
          "metadata": {},
          "execution_count": 6
        }
      ],
      "source": [
        "device = torch.device('cuda' if torch.cuda.is_available() else 'cpu')\n",
        "device"
      ],
      "id": "clpCHvuvwCr4"
    },
    {
      "cell_type": "code",
      "execution_count": null,
      "metadata": {
        "id": "s-AaTuxXplKV"
      },
      "outputs": [],
      "source": [
        "df = pd.read_csv('./drive/MyDrive/NLP_project/tokenized.csv')\n",
        "df.dropna(inplace=True)"
      ],
      "id": "s-AaTuxXplKV"
    },
    {
      "cell_type": "code",
      "execution_count": null,
      "metadata": {
        "colab": {
          "base_uri": "https://localhost:8080/",
          "height": 201
        },
        "id": "DBpvIqQX66nx",
        "outputId": "4c4983ba-809f-4baa-e5c8-6f37eede7506"
      },
      "outputs": [
        {
          "output_type": "execute_result",
          "data": {
            "text/plain": [
              "                                              tokens  toxic  severe_toxic  \\\n",
              "0  Explanation Why edits made username Hardcore M...      0             0   \n",
              "1  D aww He match background colour I seemingly s...      0             0   \n",
              "2  Hey man I really trying edit war It guy consta...      0             0   \n",
              "3  More I make real suggestion improvement I wond...      0             0   \n",
              "4              You sir hero Any chance remember page      0             0   \n",
              "\n",
              "   obscene  threat  insult  identity_hate  \n",
              "0        0       0       0              0  \n",
              "1        0       0       0              0  \n",
              "2        0       0       0              0  \n",
              "3        0       0       0              0  \n",
              "4        0       0       0              0  "
            ],
            "text/html": [
              "\n",
              "  <div id=\"df-6c952603-5996-4815-bac3-aa9587d2de89\">\n",
              "    <div class=\"colab-df-container\">\n",
              "      <div>\n",
              "<style scoped>\n",
              "    .dataframe tbody tr th:only-of-type {\n",
              "        vertical-align: middle;\n",
              "    }\n",
              "\n",
              "    .dataframe tbody tr th {\n",
              "        vertical-align: top;\n",
              "    }\n",
              "\n",
              "    .dataframe thead th {\n",
              "        text-align: right;\n",
              "    }\n",
              "</style>\n",
              "<table border=\"1\" class=\"dataframe\">\n",
              "  <thead>\n",
              "    <tr style=\"text-align: right;\">\n",
              "      <th></th>\n",
              "      <th>tokens</th>\n",
              "      <th>toxic</th>\n",
              "      <th>severe_toxic</th>\n",
              "      <th>obscene</th>\n",
              "      <th>threat</th>\n",
              "      <th>insult</th>\n",
              "      <th>identity_hate</th>\n",
              "    </tr>\n",
              "  </thead>\n",
              "  <tbody>\n",
              "    <tr>\n",
              "      <th>0</th>\n",
              "      <td>Explanation Why edits made username Hardcore M...</td>\n",
              "      <td>0</td>\n",
              "      <td>0</td>\n",
              "      <td>0</td>\n",
              "      <td>0</td>\n",
              "      <td>0</td>\n",
              "      <td>0</td>\n",
              "    </tr>\n",
              "    <tr>\n",
              "      <th>1</th>\n",
              "      <td>D aww He match background colour I seemingly s...</td>\n",
              "      <td>0</td>\n",
              "      <td>0</td>\n",
              "      <td>0</td>\n",
              "      <td>0</td>\n",
              "      <td>0</td>\n",
              "      <td>0</td>\n",
              "    </tr>\n",
              "    <tr>\n",
              "      <th>2</th>\n",
              "      <td>Hey man I really trying edit war It guy consta...</td>\n",
              "      <td>0</td>\n",
              "      <td>0</td>\n",
              "      <td>0</td>\n",
              "      <td>0</td>\n",
              "      <td>0</td>\n",
              "      <td>0</td>\n",
              "    </tr>\n",
              "    <tr>\n",
              "      <th>3</th>\n",
              "      <td>More I make real suggestion improvement I wond...</td>\n",
              "      <td>0</td>\n",
              "      <td>0</td>\n",
              "      <td>0</td>\n",
              "      <td>0</td>\n",
              "      <td>0</td>\n",
              "      <td>0</td>\n",
              "    </tr>\n",
              "    <tr>\n",
              "      <th>4</th>\n",
              "      <td>You sir hero Any chance remember page</td>\n",
              "      <td>0</td>\n",
              "      <td>0</td>\n",
              "      <td>0</td>\n",
              "      <td>0</td>\n",
              "      <td>0</td>\n",
              "      <td>0</td>\n",
              "    </tr>\n",
              "  </tbody>\n",
              "</table>\n",
              "</div>\n",
              "      <button class=\"colab-df-convert\" onclick=\"convertToInteractive('df-6c952603-5996-4815-bac3-aa9587d2de89')\"\n",
              "              title=\"Convert this dataframe to an interactive table.\"\n",
              "              style=\"display:none;\">\n",
              "        \n",
              "  <svg xmlns=\"http://www.w3.org/2000/svg\" height=\"24px\"viewBox=\"0 0 24 24\"\n",
              "       width=\"24px\">\n",
              "    <path d=\"M0 0h24v24H0V0z\" fill=\"none\"/>\n",
              "    <path d=\"M18.56 5.44l.94 2.06.94-2.06 2.06-.94-2.06-.94-.94-2.06-.94 2.06-2.06.94zm-11 1L8.5 8.5l.94-2.06 2.06-.94-2.06-.94L8.5 2.5l-.94 2.06-2.06.94zm10 10l.94 2.06.94-2.06 2.06-.94-2.06-.94-.94-2.06-.94 2.06-2.06.94z\"/><path d=\"M17.41 7.96l-1.37-1.37c-.4-.4-.92-.59-1.43-.59-.52 0-1.04.2-1.43.59L10.3 9.45l-7.72 7.72c-.78.78-.78 2.05 0 2.83L4 21.41c.39.39.9.59 1.41.59.51 0 1.02-.2 1.41-.59l7.78-7.78 2.81-2.81c.8-.78.8-2.07 0-2.86zM5.41 20L4 18.59l7.72-7.72 1.47 1.35L5.41 20z\"/>\n",
              "  </svg>\n",
              "      </button>\n",
              "      \n",
              "  <style>\n",
              "    .colab-df-container {\n",
              "      display:flex;\n",
              "      flex-wrap:wrap;\n",
              "      gap: 12px;\n",
              "    }\n",
              "\n",
              "    .colab-df-convert {\n",
              "      background-color: #E8F0FE;\n",
              "      border: none;\n",
              "      border-radius: 50%;\n",
              "      cursor: pointer;\n",
              "      display: none;\n",
              "      fill: #1967D2;\n",
              "      height: 32px;\n",
              "      padding: 0 0 0 0;\n",
              "      width: 32px;\n",
              "    }\n",
              "\n",
              "    .colab-df-convert:hover {\n",
              "      background-color: #E2EBFA;\n",
              "      box-shadow: 0px 1px 2px rgba(60, 64, 67, 0.3), 0px 1px 3px 1px rgba(60, 64, 67, 0.15);\n",
              "      fill: #174EA6;\n",
              "    }\n",
              "\n",
              "    [theme=dark] .colab-df-convert {\n",
              "      background-color: #3B4455;\n",
              "      fill: #D2E3FC;\n",
              "    }\n",
              "\n",
              "    [theme=dark] .colab-df-convert:hover {\n",
              "      background-color: #434B5C;\n",
              "      box-shadow: 0px 1px 3px 1px rgba(0, 0, 0, 0.15);\n",
              "      filter: drop-shadow(0px 1px 2px rgba(0, 0, 0, 0.3));\n",
              "      fill: #FFFFFF;\n",
              "    }\n",
              "  </style>\n",
              "\n",
              "      <script>\n",
              "        const buttonEl =\n",
              "          document.querySelector('#df-6c952603-5996-4815-bac3-aa9587d2de89 button.colab-df-convert');\n",
              "        buttonEl.style.display =\n",
              "          google.colab.kernel.accessAllowed ? 'block' : 'none';\n",
              "\n",
              "        async function convertToInteractive(key) {\n",
              "          const element = document.querySelector('#df-6c952603-5996-4815-bac3-aa9587d2de89');\n",
              "          const dataTable =\n",
              "            await google.colab.kernel.invokeFunction('convertToInteractive',\n",
              "                                                     [key], {});\n",
              "          if (!dataTable) return;\n",
              "\n",
              "          const docLinkHtml = 'Like what you see? Visit the ' +\n",
              "            '<a target=\"_blank\" href=https://colab.research.google.com/notebooks/data_table.ipynb>data table notebook</a>'\n",
              "            + ' to learn more about interactive tables.';\n",
              "          element.innerHTML = '';\n",
              "          dataTable['output_type'] = 'display_data';\n",
              "          await google.colab.output.renderOutput(dataTable, element);\n",
              "          const docLink = document.createElement('div');\n",
              "          docLink.innerHTML = docLinkHtml;\n",
              "          element.appendChild(docLink);\n",
              "        }\n",
              "      </script>\n",
              "    </div>\n",
              "  </div>\n",
              "  "
            ]
          },
          "metadata": {},
          "execution_count": 8
        }
      ],
      "source": [
        "df.head()"
      ],
      "id": "DBpvIqQX66nx"
    },
    {
      "cell_type": "code",
      "execution_count": null,
      "metadata": {
        "colab": {
          "base_uri": "https://localhost:8080/"
        },
        "id": "W7Imq3Z4f4r8",
        "outputId": "7ffa8947-2d79-4308-896d-9e7f8a520b9c"
      },
      "outputs": [
        {
          "output_type": "stream",
          "name": "stdout",
          "text": [
            "training : (151553, 7)\n",
            "validation : (7977, 7)\n"
          ]
        }
      ],
      "source": [
        "train_dataset, val_dataset = train_test_split(df, test_size=0.05)\n",
        "print('training :', train_dataset.shape)\n",
        "print('validation :', val_dataset.shape)"
      ],
      "id": "W7Imq3Z4f4r8"
    },
    {
      "cell_type": "code",
      "execution_count": null,
      "metadata": {
        "id": "XaTxaZ6JgdU9"
      },
      "outputs": [],
      "source": [
        "LABEL_COLUMNS = df.columns.tolist()[1:]"
      ],
      "id": "XaTxaZ6JgdU9"
    },
    {
      "cell_type": "code",
      "execution_count": null,
      "metadata": {
        "colab": {
          "base_uri": "https://localhost:8080/",
          "height": 411
        },
        "id": "5IQ-HVX61oG6",
        "outputId": "c41b38cd-a9a2-4954-d598-2c0d9e19454f"
      },
      "outputs": [
        {
          "output_type": "execute_result",
          "data": {
            "text/plain": [
              "                                                   tokens  toxic  \\\n",
              "85273                  Title Shouldn moved Vincenzo Zanzi      0   \n",
              "128639                                 Why nobody respond      0   \n",
              "150098  If somebody else find I read old review RENT t...      0   \n",
              "94381      Something like new message thing top talk page      0   \n",
              "82412   Thanks message I always seen ban tagging way p...      0   \n",
              "...                                                   ...    ...   \n",
              "76313   Avannaa Hei Lena I see called replacement foll...      0   \n",
              "74579   Mark blocked script marking globally locked us...      0   \n",
              "88964   Yes Oxford Advanced Learner give two pronuncia...      0   \n",
              "38276   Mies Pete I would propose ignore would Queen o...      0   \n",
              "94535   Eliot Higgins Garry Kasparov You said Bellingc...      1   \n",
              "\n",
              "        severe_toxic  obscene  threat  insult  identity_hate  \n",
              "85273              0        0       0       0              0  \n",
              "128639             0        0       0       0              0  \n",
              "150098             0        0       0       0              0  \n",
              "94381              0        0       0       0              0  \n",
              "82412              0        0       0       0              0  \n",
              "...              ...      ...     ...     ...            ...  \n",
              "76313              0        0       0       0              0  \n",
              "74579              0        0       0       0              0  \n",
              "88964              0        0       0       0              0  \n",
              "38276              0        0       0       0              0  \n",
              "94535              0        0       0       0              0  \n",
              "\n",
              "[151553 rows x 7 columns]"
            ],
            "text/html": [
              "\n",
              "  <div id=\"df-4c94233c-f939-4d73-8620-e8f4ced68af5\">\n",
              "    <div class=\"colab-df-container\">\n",
              "      <div>\n",
              "<style scoped>\n",
              "    .dataframe tbody tr th:only-of-type {\n",
              "        vertical-align: middle;\n",
              "    }\n",
              "\n",
              "    .dataframe tbody tr th {\n",
              "        vertical-align: top;\n",
              "    }\n",
              "\n",
              "    .dataframe thead th {\n",
              "        text-align: right;\n",
              "    }\n",
              "</style>\n",
              "<table border=\"1\" class=\"dataframe\">\n",
              "  <thead>\n",
              "    <tr style=\"text-align: right;\">\n",
              "      <th></th>\n",
              "      <th>tokens</th>\n",
              "      <th>toxic</th>\n",
              "      <th>severe_toxic</th>\n",
              "      <th>obscene</th>\n",
              "      <th>threat</th>\n",
              "      <th>insult</th>\n",
              "      <th>identity_hate</th>\n",
              "    </tr>\n",
              "  </thead>\n",
              "  <tbody>\n",
              "    <tr>\n",
              "      <th>85273</th>\n",
              "      <td>Title Shouldn moved Vincenzo Zanzi</td>\n",
              "      <td>0</td>\n",
              "      <td>0</td>\n",
              "      <td>0</td>\n",
              "      <td>0</td>\n",
              "      <td>0</td>\n",
              "      <td>0</td>\n",
              "    </tr>\n",
              "    <tr>\n",
              "      <th>128639</th>\n",
              "      <td>Why nobody respond</td>\n",
              "      <td>0</td>\n",
              "      <td>0</td>\n",
              "      <td>0</td>\n",
              "      <td>0</td>\n",
              "      <td>0</td>\n",
              "      <td>0</td>\n",
              "    </tr>\n",
              "    <tr>\n",
              "      <th>150098</th>\n",
              "      <td>If somebody else find I read old review RENT t...</td>\n",
              "      <td>0</td>\n",
              "      <td>0</td>\n",
              "      <td>0</td>\n",
              "      <td>0</td>\n",
              "      <td>0</td>\n",
              "      <td>0</td>\n",
              "    </tr>\n",
              "    <tr>\n",
              "      <th>94381</th>\n",
              "      <td>Something like new message thing top talk page</td>\n",
              "      <td>0</td>\n",
              "      <td>0</td>\n",
              "      <td>0</td>\n",
              "      <td>0</td>\n",
              "      <td>0</td>\n",
              "      <td>0</td>\n",
              "    </tr>\n",
              "    <tr>\n",
              "      <th>82412</th>\n",
              "      <td>Thanks message I always seen ban tagging way p...</td>\n",
              "      <td>0</td>\n",
              "      <td>0</td>\n",
              "      <td>0</td>\n",
              "      <td>0</td>\n",
              "      <td>0</td>\n",
              "      <td>0</td>\n",
              "    </tr>\n",
              "    <tr>\n",
              "      <th>...</th>\n",
              "      <td>...</td>\n",
              "      <td>...</td>\n",
              "      <td>...</td>\n",
              "      <td>...</td>\n",
              "      <td>...</td>\n",
              "      <td>...</td>\n",
              "      <td>...</td>\n",
              "    </tr>\n",
              "    <tr>\n",
              "      <th>76313</th>\n",
              "      <td>Avannaa Hei Lena I see called replacement foll...</td>\n",
              "      <td>0</td>\n",
              "      <td>0</td>\n",
              "      <td>0</td>\n",
              "      <td>0</td>\n",
              "      <td>0</td>\n",
              "      <td>0</td>\n",
              "    </tr>\n",
              "    <tr>\n",
              "      <th>74579</th>\n",
              "      <td>Mark blocked script marking globally locked us...</td>\n",
              "      <td>0</td>\n",
              "      <td>0</td>\n",
              "      <td>0</td>\n",
              "      <td>0</td>\n",
              "      <td>0</td>\n",
              "      <td>0</td>\n",
              "    </tr>\n",
              "    <tr>\n",
              "      <th>88964</th>\n",
              "      <td>Yes Oxford Advanced Learner give two pronuncia...</td>\n",
              "      <td>0</td>\n",
              "      <td>0</td>\n",
              "      <td>0</td>\n",
              "      <td>0</td>\n",
              "      <td>0</td>\n",
              "      <td>0</td>\n",
              "    </tr>\n",
              "    <tr>\n",
              "      <th>38276</th>\n",
              "      <td>Mies Pete I would propose ignore would Queen o...</td>\n",
              "      <td>0</td>\n",
              "      <td>0</td>\n",
              "      <td>0</td>\n",
              "      <td>0</td>\n",
              "      <td>0</td>\n",
              "      <td>0</td>\n",
              "    </tr>\n",
              "    <tr>\n",
              "      <th>94535</th>\n",
              "      <td>Eliot Higgins Garry Kasparov You said Bellingc...</td>\n",
              "      <td>1</td>\n",
              "      <td>0</td>\n",
              "      <td>0</td>\n",
              "      <td>0</td>\n",
              "      <td>0</td>\n",
              "      <td>0</td>\n",
              "    </tr>\n",
              "  </tbody>\n",
              "</table>\n",
              "<p>151553 rows × 7 columns</p>\n",
              "</div>\n",
              "      <button class=\"colab-df-convert\" onclick=\"convertToInteractive('df-4c94233c-f939-4d73-8620-e8f4ced68af5')\"\n",
              "              title=\"Convert this dataframe to an interactive table.\"\n",
              "              style=\"display:none;\">\n",
              "        \n",
              "  <svg xmlns=\"http://www.w3.org/2000/svg\" height=\"24px\"viewBox=\"0 0 24 24\"\n",
              "       width=\"24px\">\n",
              "    <path d=\"M0 0h24v24H0V0z\" fill=\"none\"/>\n",
              "    <path d=\"M18.56 5.44l.94 2.06.94-2.06 2.06-.94-2.06-.94-.94-2.06-.94 2.06-2.06.94zm-11 1L8.5 8.5l.94-2.06 2.06-.94-2.06-.94L8.5 2.5l-.94 2.06-2.06.94zm10 10l.94 2.06.94-2.06 2.06-.94-2.06-.94-.94-2.06-.94 2.06-2.06.94z\"/><path d=\"M17.41 7.96l-1.37-1.37c-.4-.4-.92-.59-1.43-.59-.52 0-1.04.2-1.43.59L10.3 9.45l-7.72 7.72c-.78.78-.78 2.05 0 2.83L4 21.41c.39.39.9.59 1.41.59.51 0 1.02-.2 1.41-.59l7.78-7.78 2.81-2.81c.8-.78.8-2.07 0-2.86zM5.41 20L4 18.59l7.72-7.72 1.47 1.35L5.41 20z\"/>\n",
              "  </svg>\n",
              "      </button>\n",
              "      \n",
              "  <style>\n",
              "    .colab-df-container {\n",
              "      display:flex;\n",
              "      flex-wrap:wrap;\n",
              "      gap: 12px;\n",
              "    }\n",
              "\n",
              "    .colab-df-convert {\n",
              "      background-color: #E8F0FE;\n",
              "      border: none;\n",
              "      border-radius: 50%;\n",
              "      cursor: pointer;\n",
              "      display: none;\n",
              "      fill: #1967D2;\n",
              "      height: 32px;\n",
              "      padding: 0 0 0 0;\n",
              "      width: 32px;\n",
              "    }\n",
              "\n",
              "    .colab-df-convert:hover {\n",
              "      background-color: #E2EBFA;\n",
              "      box-shadow: 0px 1px 2px rgba(60, 64, 67, 0.3), 0px 1px 3px 1px rgba(60, 64, 67, 0.15);\n",
              "      fill: #174EA6;\n",
              "    }\n",
              "\n",
              "    [theme=dark] .colab-df-convert {\n",
              "      background-color: #3B4455;\n",
              "      fill: #D2E3FC;\n",
              "    }\n",
              "\n",
              "    [theme=dark] .colab-df-convert:hover {\n",
              "      background-color: #434B5C;\n",
              "      box-shadow: 0px 1px 3px 1px rgba(0, 0, 0, 0.15);\n",
              "      filter: drop-shadow(0px 1px 2px rgba(0, 0, 0, 0.3));\n",
              "      fill: #FFFFFF;\n",
              "    }\n",
              "  </style>\n",
              "\n",
              "      <script>\n",
              "        const buttonEl =\n",
              "          document.querySelector('#df-4c94233c-f939-4d73-8620-e8f4ced68af5 button.colab-df-convert');\n",
              "        buttonEl.style.display =\n",
              "          google.colab.kernel.accessAllowed ? 'block' : 'none';\n",
              "\n",
              "        async function convertToInteractive(key) {\n",
              "          const element = document.querySelector('#df-4c94233c-f939-4d73-8620-e8f4ced68af5');\n",
              "          const dataTable =\n",
              "            await google.colab.kernel.invokeFunction('convertToInteractive',\n",
              "                                                     [key], {});\n",
              "          if (!dataTable) return;\n",
              "\n",
              "          const docLinkHtml = 'Like what you see? Visit the ' +\n",
              "            '<a target=\"_blank\" href=https://colab.research.google.com/notebooks/data_table.ipynb>data table notebook</a>'\n",
              "            + ' to learn more about interactive tables.';\n",
              "          element.innerHTML = '';\n",
              "          dataTable['output_type'] = 'display_data';\n",
              "          await google.colab.output.renderOutput(dataTable, element);\n",
              "          const docLink = document.createElement('div');\n",
              "          docLink.innerHTML = docLinkHtml;\n",
              "          element.appendChild(docLink);\n",
              "        }\n",
              "      </script>\n",
              "    </div>\n",
              "  </div>\n",
              "  "
            ]
          },
          "metadata": {},
          "execution_count": 11
        }
      ],
      "source": [
        "train_dataset"
      ],
      "id": "5IQ-HVX61oG6"
    },
    {
      "cell_type": "markdown",
      "metadata": {
        "id": "byWKMbcAO3s5"
      },
      "source": [
        "# Dataloader + GloVe embedding"
      ],
      "id": "byWKMbcAO3s5"
    },
    {
      "cell_type": "code",
      "execution_count": null,
      "metadata": {
        "id": "MehVMZKO0SIj"
      },
      "outputs": [],
      "source": [
        "class ToxicCommentsDataset(Dataset):\n",
        "\n",
        "  def __init__(\n",
        "    self, \n",
        "    data: pd.DataFrame, \n",
        "  ):\n",
        "    self.data = data\n",
        "    \n",
        "  def __len__(self):\n",
        "    return len(self.data)\n",
        "\n",
        "  def __getitem__(self, index: int):\n",
        "    data_row = self.data.iloc[index]\n",
        "\n",
        "    comments = data_row.tokens\n",
        "    labels = data_row[LABEL_COLUMNS]\n",
        "\n",
        "    return dict(\n",
        "      comments=comments, \n",
        "      labels=labels\n",
        "    )"
      ],
      "id": "MehVMZKO0SIj"
    },
    {
      "cell_type": "code",
      "execution_count": null,
      "metadata": {
        "id": "C-lIXrX61Jfx"
      },
      "outputs": [],
      "source": [
        "train_dataset = ToxicCommentsDataset(train_dataset)\n",
        "val_dataset = ToxicCommentsDataset(val_dataset)"
      ],
      "id": "C-lIXrX61Jfx"
    },
    {
      "cell_type": "code",
      "execution_count": null,
      "metadata": {
        "id": "4grVkilLrkTm"
      },
      "outputs": [],
      "source": [
        "max_words = 256\n",
        "embed_len = 300\n",
        "\n",
        "def vectorize_batch(batch):\n",
        "    X = [x['comments'] for x in batch]\n",
        "    Y = torch.tensor([y['labels'] for y in batch])\n",
        "    X = [tokenizer(x) for x in X]\n",
        "    X = [tokens+[\"\"] * (max_words-len(tokens))  if len(tokens)<max_words else tokens[:max_words] for tokens in X]\n",
        "    X_tensor = torch.zeros(len(batch), max_words, embed_len)\n",
        "    for i, tokens in enumerate(X):\n",
        "        X_tensor[i] = vec.get_vecs_by_tokens(tokens)\n",
        "    return X_tensor.reshape(len(batch), -1), Y \n",
        "\n",
        "\n",
        "train_loader = DataLoader(train_dataset, batch_size=64, collate_fn=vectorize_batch)\n",
        "val_loader  = DataLoader(val_dataset, batch_size=64, collate_fn=vectorize_batch)"
      ],
      "id": "4grVkilLrkTm"
    },
    {
      "cell_type": "code",
      "execution_count": null,
      "metadata": {
        "colab": {
          "base_uri": "https://localhost:8080/"
        },
        "id": "Wv3D1EKl3gav",
        "outputId": "686a80f6-ccb1-4d3b-885f-1ec809bc85ff"
      },
      "outputs": [
        {
          "output_type": "stream",
          "name": "stdout",
          "text": [
            "torch.Size([64, 76800]) torch.Size([64, 6])\n"
          ]
        }
      ],
      "source": [
        "for X, Y in train_loader:\n",
        "    print(X.size(), Y.size())\n",
        "    break"
      ],
      "id": "Wv3D1EKl3gav"
    },
    {
      "cell_type": "markdown",
      "metadata": {
        "id": "AwW4CdoNnxuv"
      },
      "source": [
        "# model"
      ],
      "id": "AwW4CdoNnxuv"
    },
    {
      "cell_type": "code",
      "execution_count": null,
      "metadata": {
        "colab": {
          "base_uri": "https://localhost:8080/"
        },
        "id": "LnMfZdBuJ-g0",
        "outputId": "61553262-b5d9-4f22-891f-873e1b29a082"
      },
      "outputs": [
        {
          "output_type": "stream",
          "name": "stdout",
          "text": [
            "Sample batch size:  torch.Size([64, 76800])\n",
            "Sample batch input: \n",
            " tensor([[-0.2627, -0.4377, -0.8232,  ...,  0.0000,  0.0000,  0.0000],\n",
            "        [-0.3189,  0.1944, -0.1169,  ...,  0.0000,  0.0000,  0.0000],\n",
            "        [ 0.0267,  0.3852, -0.4348,  ...,  0.0000,  0.0000,  0.0000],\n",
            "        ...,\n",
            "        [-0.4669,  0.0222,  0.0048,  ...,  0.0000,  0.0000,  0.0000],\n",
            "        [-0.0690, -0.0617,  0.1140,  ...,  0.0000,  0.0000,  0.0000],\n",
            "        [-0.4432,  0.1674, -0.2260,  ...,  0.0000,  0.0000,  0.0000]])\n",
            "\n",
            "Sample label size:  torch.Size([64, 6])\n",
            "Sample label input: \n",
            " tensor([[0, 0, 0, 0, 0, 0],\n",
            "        [0, 0, 0, 0, 0, 0],\n",
            "        [0, 0, 0, 0, 0, 0],\n",
            "        [0, 0, 0, 0, 0, 0],\n",
            "        [0, 0, 0, 0, 0, 0],\n",
            "        [0, 0, 0, 0, 0, 0],\n",
            "        [0, 0, 0, 0, 0, 0],\n",
            "        [0, 0, 0, 0, 0, 0],\n",
            "        [1, 0, 1, 0, 0, 0],\n",
            "        [0, 0, 0, 0, 0, 0],\n",
            "        [0, 0, 0, 0, 0, 0],\n",
            "        [0, 0, 0, 0, 0, 0],\n",
            "        [0, 0, 0, 0, 0, 0],\n",
            "        [0, 0, 0, 0, 0, 0],\n",
            "        [1, 0, 1, 0, 1, 0],\n",
            "        [0, 0, 0, 0, 0, 0],\n",
            "        [1, 0, 0, 0, 0, 0],\n",
            "        [0, 0, 0, 0, 0, 0],\n",
            "        [0, 0, 0, 0, 0, 0],\n",
            "        [0, 0, 0, 0, 0, 0],\n",
            "        [0, 0, 0, 0, 0, 0],\n",
            "        [0, 0, 0, 0, 0, 0],\n",
            "        [0, 0, 0, 0, 0, 0],\n",
            "        [0, 0, 0, 0, 0, 0],\n",
            "        [0, 0, 0, 0, 0, 0],\n",
            "        [0, 0, 0, 0, 0, 0],\n",
            "        [0, 0, 0, 0, 0, 0],\n",
            "        [0, 0, 0, 0, 0, 0],\n",
            "        [0, 0, 0, 0, 0, 0],\n",
            "        [1, 0, 1, 0, 1, 0],\n",
            "        [0, 0, 0, 0, 0, 0],\n",
            "        [0, 0, 0, 0, 0, 0],\n",
            "        [0, 0, 0, 0, 0, 0],\n",
            "        [0, 0, 0, 0, 0, 0],\n",
            "        [0, 0, 0, 0, 0, 0],\n",
            "        [0, 0, 0, 0, 0, 0],\n",
            "        [0, 0, 0, 0, 1, 1],\n",
            "        [0, 0, 0, 0, 0, 0],\n",
            "        [0, 0, 0, 0, 0, 0],\n",
            "        [0, 0, 0, 0, 0, 0],\n",
            "        [0, 0, 0, 0, 0, 0],\n",
            "        [1, 0, 0, 0, 1, 0],\n",
            "        [0, 0, 0, 0, 0, 0],\n",
            "        [0, 0, 0, 0, 0, 0],\n",
            "        [0, 0, 0, 0, 0, 0],\n",
            "        [1, 0, 0, 0, 0, 0],\n",
            "        [0, 0, 0, 0, 0, 0],\n",
            "        [0, 0, 0, 0, 0, 0],\n",
            "        [0, 0, 0, 0, 0, 0],\n",
            "        [0, 0, 0, 0, 0, 0],\n",
            "        [0, 0, 0, 0, 0, 0],\n",
            "        [0, 0, 0, 0, 0, 0],\n",
            "        [0, 0, 0, 0, 0, 0],\n",
            "        [0, 0, 0, 0, 0, 0],\n",
            "        [1, 0, 1, 0, 1, 0],\n",
            "        [0, 0, 0, 0, 0, 0],\n",
            "        [1, 0, 1, 0, 1, 0],\n",
            "        [0, 0, 0, 0, 0, 0],\n",
            "        [0, 0, 0, 0, 0, 0],\n",
            "        [0, 0, 0, 0, 0, 0],\n",
            "        [0, 0, 0, 0, 0, 0],\n",
            "        [0, 0, 0, 0, 0, 0],\n",
            "        [0, 0, 0, 0, 0, 0],\n",
            "        [0, 0, 0, 0, 0, 0]])\n"
          ]
        }
      ],
      "source": [
        "# check our batches\n",
        "dataiter = iter(train_loader)\n",
        "x, y = next(dataiter)\n",
        "\n",
        "print('Sample batch size: ', x.size())   # batch_size, seq_length\n",
        "print('Sample batch input: \\n', x)\n",
        "print()\n",
        "print('Sample label size: ', y.size())   # batch_size\n",
        "print('Sample label input: \\n', y)"
      ],
      "id": "LnMfZdBuJ-g0"
    },
    {
      "cell_type": "code",
      "execution_count": null,
      "metadata": {
        "id": "OO1-AYIbKJDn"
      },
      "outputs": [],
      "source": [
        "\n",
        "from torch import nn\n",
        "from torch.nn import functional as F\n",
        "\n",
        "class EmbeddingClassifier(nn.Module):\n",
        "    def __init__(self):\n",
        "        super(EmbeddingClassifier, self).__init__()\n",
        "        self.rnn = nn.RNN((max_words * embed_len), 512, batch_first=True)\n",
        "        self.dropout = nn.Dropout(0.3)\n",
        "        self.fc = nn.Linear(512, 6)\n",
        "        self.sigmoid = nn.Sigmoid()\n",
        "\n",
        "    def forward(self, X_batch):\n",
        "        out, h = self.rnn(X_batch)\n",
        "        out = self.dropout(out)\n",
        "        out = self.fc(out)\n",
        "        out = self.sigmoid(out)\n",
        "\n",
        "        return out"
      ],
      "id": "OO1-AYIbKJDn"
    },
    {
      "cell_type": "code",
      "execution_count": null,
      "metadata": {
        "id": "53VReBCdgUtK"
      },
      "outputs": [],
      "source": [
        "model = EmbeddingClassifier()"
      ],
      "id": "53VReBCdgUtK"
    },
    {
      "cell_type": "code",
      "execution_count": null,
      "metadata": {
        "id": "gjLpZsOzOXMj"
      },
      "outputs": [],
      "source": [
        "# %load_ext tensorboard"
      ],
      "id": "gjLpZsOzOXMj"
    },
    {
      "cell_type": "code",
      "execution_count": null,
      "metadata": {
        "id": "suzRMZPyQucM"
      },
      "outputs": [],
      "source": [
        "# %tensorboard --logdir runs"
      ],
      "id": "suzRMZPyQucM"
    },
    {
      "cell_type": "code",
      "execution_count": null,
      "metadata": {
        "id": "uoZhdgb-QxL7"
      },
      "outputs": [],
      "source": [
        "import tensorflow as tf\n",
        "import tensorboard as tb\n",
        "tf.io.gfile = tb.compat.tensorflow_stub.io.gfile"
      ],
      "id": "uoZhdgb-QxL7"
    },
    {
      "cell_type": "code",
      "execution_count": null,
      "metadata": {
        "id": "9FQxjoXZNgu1"
      },
      "outputs": [],
      "source": [
        "from torch.utils.tensorboard import SummaryWriter\n",
        "writer = SummaryWriter('runs/toxic_comment_GloVe')"
      ],
      "id": "9FQxjoXZNgu1"
    },
    {
      "cell_type": "code",
      "execution_count": null,
      "metadata": {
        "id": "fvSnAtm8EV8W"
      },
      "outputs": [],
      "source": [
        "from sklearn.metrics import accuracy_score\n",
        "import gc\n",
        "\n",
        "\n",
        "def CalcValLossAndAccuracy(model, loss_fn, val_loader):\n",
        "    target_names = ['toxic', 'severe_toxic', 'obscene', 'threat','insult', 'identity_hate']\n",
        "    with torch.no_grad():\n",
        "        Y_shuffled, Y_preds, losses = [],[],[]\n",
        "        for X, Y in tqdm(val_loader):\n",
        "            X, Y = X.to(device), Y.to(device)\n",
        "\n",
        "            preds = model(X)\n",
        "\n",
        "            Y = Y.to(torch.float32)\n",
        "            loss = loss_fn(preds, Y)\n",
        "            losses.append(loss.item())\n",
        "\n",
        "            Y_shuffled.append(Y)\n",
        "            Y_preds.append(preds)\n",
        "            \n",
        "        Y_shuffled = torch.cat(Y_shuffled)\n",
        "        Y_preds = torch.cat(Y_preds)\n",
        "\n",
        "\n",
        "        out = (Y_preds > 0.5).float() * 1\n",
        "        tns, fps, fns, tps = 0, 0, 0, 0\n",
        "\n",
        "        for i in range(6):\n",
        "          tn, fp, fn, tp = confusion_matrix(Y_shuffled[:,i].cpu(), \n",
        "                                            out[:, i].cpu()).ravel()\n",
        "\n",
        "          tns += tn\n",
        "          fps += fp\n",
        "          fns += fn\n",
        "          tps += tp\n",
        "\n",
        "          del tn, fp, fn, tp\n",
        "\n",
        "        precision = tps / (tps + fps)\n",
        "        recall = tps / (tps + fns)\n",
        "        f1 = 2 * (precision * recall) / (precision + recall)\n",
        "\n",
        "        auc = MultilabelAUROC(num_labels=6, average=\"macro\", thresholds=None).to(device)\n",
        "\n",
        "        print(\"Valid Loss : {:.3f} | Valid Acc : {:.3f} | Valid F1 : {:.3f} | Valid AUC : {:.3f}\" .format(\n",
        "            torch.tensor(losses).mean(), (tps+tns)/(tns+fps+fns+tps), f1, auc(out, Y_shuffled.to(torch.long))))\n",
        "  \n",
        "        del precision, recall\n",
        "\n",
        "        return Y_shuffled, out, f1, auc(out, Y_shuffled.to(torch.long)), torch.tensor(losses).mean(), (tps+tns)/(tns+fps+fns+tps)\n",
        "\n",
        "def TrainModel(model, loss_fn, optimizer, train_loader, val_loader, epochs=10, patient=3):\n",
        "\n",
        "    epoch_tr_loss, epoch_vl_loss, epoch_tr_acc, epoch_vl_acc = [], [], [], []\n",
        "    epoch_tr_f1, epoch_vl_f1, epoch_tr_auc, epoch_vl_auc = [], [], [], []\n",
        "\n",
        "    best_model = 100\n",
        "    patient_counter = 0\n",
        "    for i in range(1, epochs+1):\n",
        "        print(\"Epochs : {}\".format(i))\n",
        "        Y_shuffled, Y_preds, losses= [],[],[]\n",
        "        for X, Y in tqdm(train_loader):\n",
        "            X, Y = X.to(device), Y.to(device)\n",
        "\n",
        "            preds = model(X)\n",
        "\n",
        "            Y = Y.to(torch.float32)\n",
        "            loss = loss_fn(preds, Y)\n",
        "            losses.append(loss.item())\n",
        "\n",
        "            Y_shuffled.append(Y)\n",
        "            Y_preds.append(preds)\n",
        "\n",
        "            optimizer.zero_grad()\n",
        "            loss.backward()\n",
        "            optimizer.step()\n",
        "\n",
        "        Y_shuffled = torch.cat(Y_shuffled)\n",
        "        Y_preds = torch.cat(Y_preds)\n",
        "\n",
        "\n",
        "        tns, fps, fns, tps = 0, 0, 0, 0\n",
        "\n",
        "        out = (Y_preds > 0.5).float() * 1\n",
        "        for i in range(6):\n",
        "          tn, fp, fn, tp = confusion_matrix(Y_shuffled[:,i].cpu().detach().numpy(), \n",
        "                                            out[:, i].cpu().detach().numpy()).ravel()\n",
        "\n",
        "          tns += tn\n",
        "          fps += fp\n",
        "          fns += fn\n",
        "          tps += tp\n",
        "\n",
        "          del tn, fp, fn, tp\n",
        "        precision = tps / (tps + fps)\n",
        "        recall = tps / (tps + fns)\n",
        "        f1 = 2 * (precision * recall) / (precision + recall)\n",
        "\n",
        "        auc = MultilabelAUROC(num_labels=6, average=\"macro\", thresholds=None).to(device)\n",
        "\n",
        "        print(\"Train Loss : {:.3f} | Train Acc : {:.3f} | Train F1 : {:.3f} | Train AUC : {:.3f}\" .format(\n",
        "            torch.tensor(losses).mean(), (tps+tns)/(tns+fps+fns+tps), f1, auc(out, Y_shuffled.to(torch.long))))\n",
        "\n",
        "        \n",
        "        _, _, val_f1, val_auc, val_loss, val_acc = CalcValLossAndAccuracy(model, loss_fn, val_loader)\n",
        "        print(\"-\"*80)\n",
        "        \n",
        "        if val_loss <= best_model:\n",
        "          best_model = val_loss\n",
        "          patient_counter = 0\n",
        "          torch.save(model.state_dict(), './drive/MyDrive/NLP_project/TCC_GloVe-model.pt')\n",
        "        else:\n",
        "          patient_counter += 1\n",
        "          print(f\"The Val loss does not improve with {patient_counter} patient counter\")\n",
        "\n",
        "        epoch_tr_loss.append(torch.tensor(losses).mean())\n",
        "        epoch_tr_acc.append((tps+tns)/(tns+fps+fns+tps))\n",
        "        epoch_vl_loss.append(val_loss)\n",
        "        epoch_vl_acc.append(val_acc)\n",
        "\n",
        "        epoch_tr_f1.append(f1)\n",
        "        epoch_tr_auc.append(auc(out, Y_shuffled.to(torch.long)))\n",
        "        epoch_vl_f1.append(val_f1)\n",
        "        epoch_vl_auc.append(val_auc)\n",
        "\n",
        "        del precision, recall, f1\n",
        "\n",
        "\n",
        "        if patient_counter == patient:\n",
        "           break\n",
        "      \n",
        "    return [epoch_tr_loss, epoch_vl_loss, epoch_tr_acc, epoch_vl_acc,  epoch_tr_f1, epoch_vl_f1, epoch_tr_auc, epoch_vl_auc]"
      ],
      "id": "fvSnAtm8EV8W"
    },
    {
      "cell_type": "code",
      "execution_count": null,
      "metadata": {
        "colab": {
          "base_uri": "https://localhost:8080/"
        },
        "id": "jUj6N94uE-XS",
        "outputId": "d022ee59-bb33-444b-ffe6-179d918f6d5c"
      },
      "outputs": [
        {
          "output_type": "stream",
          "name": "stdout",
          "text": [
            "Epochs : 1\n"
          ]
        },
        {
          "output_type": "stream",
          "name": "stderr",
          "text": [
            "100%|██████████| 2369/2369 [04:59<00:00,  7.91it/s]\n"
          ]
        },
        {
          "output_type": "stream",
          "name": "stdout",
          "text": [
            "Train Loss : 0.167 | Train Acc : 0.954 | Train F1 : 0.066 | Train AUC : 0.509\n"
          ]
        },
        {
          "output_type": "stream",
          "name": "stderr",
          "text": [
            "100%|██████████| 125/125 [00:17<00:00,  7.14it/s]\n"
          ]
        },
        {
          "output_type": "stream",
          "name": "stdout",
          "text": [
            "Valid Loss : 0.112 | Valid Acc : 0.965 | Valid F1 : 0.166 | Valid AUC : 0.524\n",
            "--------------------------------------------------------------------------------\n",
            "Epochs : 2\n"
          ]
        },
        {
          "output_type": "stream",
          "name": "stderr",
          "text": [
            "100%|██████████| 2369/2369 [04:47<00:00,  8.24it/s]\n"
          ]
        },
        {
          "output_type": "stream",
          "name": "stdout",
          "text": [
            "Train Loss : 0.097 | Train Acc : 0.968 | Train F1 : 0.314 | Train AUC : 0.553\n"
          ]
        },
        {
          "output_type": "stream",
          "name": "stderr",
          "text": [
            "100%|██████████| 125/125 [00:15<00:00,  8.31it/s]\n"
          ]
        },
        {
          "output_type": "stream",
          "name": "stdout",
          "text": [
            "Valid Loss : 0.086 | Valid Acc : 0.972 | Valid F1 : 0.451 | Valid AUC : 0.589\n",
            "--------------------------------------------------------------------------------\n",
            "Epochs : 3\n"
          ]
        },
        {
          "output_type": "stream",
          "name": "stderr",
          "text": [
            "100%|██████████| 2369/2369 [04:44<00:00,  8.33it/s]\n"
          ]
        },
        {
          "output_type": "stream",
          "name": "stdout",
          "text": [
            "Train Loss : 0.079 | Train Acc : 0.973 | Train F1 : 0.505 | Train AUC : 0.607\n"
          ]
        },
        {
          "output_type": "stream",
          "name": "stderr",
          "text": [
            "100%|██████████| 125/125 [00:15<00:00,  8.18it/s]\n"
          ]
        },
        {
          "output_type": "stream",
          "name": "stdout",
          "text": [
            "Valid Loss : 0.076 | Valid Acc : 0.975 | Valid F1 : 0.547 | Valid AUC : 0.620\n",
            "--------------------------------------------------------------------------------\n",
            "Epochs : 4\n"
          ]
        },
        {
          "output_type": "stream",
          "name": "stderr",
          "text": [
            "100%|██████████| 2369/2369 [04:47<00:00,  8.25it/s]\n"
          ]
        },
        {
          "output_type": "stream",
          "name": "stdout",
          "text": [
            "Train Loss : 0.071 | Train Acc : 0.976 | Train F1 : 0.578 | Train AUC : 0.639\n"
          ]
        },
        {
          "output_type": "stream",
          "name": "stderr",
          "text": [
            "100%|██████████| 125/125 [00:15<00:00,  7.86it/s]\n"
          ]
        },
        {
          "output_type": "stream",
          "name": "stdout",
          "text": [
            "Valid Loss : 0.071 | Valid Acc : 0.975 | Valid F1 : 0.583 | Valid AUC : 0.642\n",
            "--------------------------------------------------------------------------------\n",
            "Epochs : 5\n"
          ]
        },
        {
          "output_type": "stream",
          "name": "stderr",
          "text": [
            "100%|██████████| 2369/2369 [04:55<00:00,  8.02it/s]\n"
          ]
        },
        {
          "output_type": "stream",
          "name": "stdout",
          "text": [
            "Train Loss : 0.066 | Train Acc : 0.977 | Train F1 : 0.614 | Train AUC : 0.656\n"
          ]
        },
        {
          "output_type": "stream",
          "name": "stderr",
          "text": [
            "100%|██████████| 125/125 [00:16<00:00,  7.54it/s]\n"
          ]
        },
        {
          "output_type": "stream",
          "name": "stdout",
          "text": [
            "Valid Loss : 0.069 | Valid Acc : 0.976 | Valid F1 : 0.603 | Valid AUC : 0.653\n",
            "--------------------------------------------------------------------------------\n",
            "Epochs : 6\n"
          ]
        },
        {
          "output_type": "stream",
          "name": "stderr",
          "text": [
            "100%|██████████| 2369/2369 [04:51<00:00,  8.12it/s]\n"
          ]
        },
        {
          "output_type": "stream",
          "name": "stdout",
          "text": [
            "Train Loss : 0.062 | Train Acc : 0.978 | Train F1 : 0.639 | Train AUC : 0.669\n"
          ]
        },
        {
          "output_type": "stream",
          "name": "stderr",
          "text": [
            "100%|██████████| 125/125 [00:14<00:00,  8.38it/s]\n"
          ]
        },
        {
          "output_type": "stream",
          "name": "stdout",
          "text": [
            "Valid Loss : 0.066 | Valid Acc : 0.976 | Valid F1 : 0.614 | Valid AUC : 0.659\n",
            "--------------------------------------------------------------------------------\n",
            "Epochs : 7\n"
          ]
        },
        {
          "output_type": "stream",
          "name": "stderr",
          "text": [
            "100%|██████████| 2369/2369 [04:46<00:00,  8.28it/s]\n"
          ]
        },
        {
          "output_type": "stream",
          "name": "stdout",
          "text": [
            "Train Loss : 0.060 | Train Acc : 0.979 | Train F1 : 0.658 | Train AUC : 0.677\n"
          ]
        },
        {
          "output_type": "stream",
          "name": "stderr",
          "text": [
            "100%|██████████| 125/125 [00:14<00:00,  8.37it/s]\n"
          ]
        },
        {
          "output_type": "stream",
          "name": "stdout",
          "text": [
            "Valid Loss : 0.065 | Valid Acc : 0.977 | Valid F1 : 0.630 | Valid AUC : 0.666\n",
            "--------------------------------------------------------------------------------\n",
            "Epochs : 8\n"
          ]
        },
        {
          "output_type": "stream",
          "name": "stderr",
          "text": [
            "100%|██████████| 2369/2369 [04:40<00:00,  8.44it/s]\n"
          ]
        },
        {
          "output_type": "stream",
          "name": "stdout",
          "text": [
            "Train Loss : 0.057 | Train Acc : 0.980 | Train F1 : 0.674 | Train AUC : 0.684\n"
          ]
        },
        {
          "output_type": "stream",
          "name": "stderr",
          "text": [
            "100%|██████████| 125/125 [00:14<00:00,  8.34it/s]\n"
          ]
        },
        {
          "output_type": "stream",
          "name": "stdout",
          "text": [
            "Valid Loss : 0.065 | Valid Acc : 0.977 | Valid F1 : 0.628 | Valid AUC : 0.660\n",
            "--------------------------------------------------------------------------------\n",
            "Epochs : 9\n"
          ]
        },
        {
          "output_type": "stream",
          "name": "stderr",
          "text": [
            "100%|██████████| 2369/2369 [04:41<00:00,  8.41it/s]\n"
          ]
        },
        {
          "output_type": "stream",
          "name": "stdout",
          "text": [
            "Train Loss : 0.055 | Train Acc : 0.981 | Train F1 : 0.691 | Train AUC : 0.693\n"
          ]
        },
        {
          "output_type": "stream",
          "name": "stderr",
          "text": [
            "100%|██████████| 125/125 [00:14<00:00,  8.45it/s]\n"
          ]
        },
        {
          "output_type": "stream",
          "name": "stdout",
          "text": [
            "Valid Loss : 0.064 | Valid Acc : 0.977 | Valid F1 : 0.635 | Valid AUC : 0.669\n",
            "--------------------------------------------------------------------------------\n",
            "Epochs : 10\n"
          ]
        },
        {
          "output_type": "stream",
          "name": "stderr",
          "text": [
            "100%|██████████| 2369/2369 [04:41<00:00,  8.42it/s]\n"
          ]
        },
        {
          "output_type": "stream",
          "name": "stdout",
          "text": [
            "Train Loss : 0.052 | Train Acc : 0.981 | Train F1 : 0.706 | Train AUC : 0.699\n"
          ]
        },
        {
          "output_type": "stream",
          "name": "stderr",
          "text": [
            "100%|██████████| 125/125 [00:14<00:00,  8.34it/s]\n"
          ]
        },
        {
          "output_type": "stream",
          "name": "stdout",
          "text": [
            "Valid Loss : 0.063 | Valid Acc : 0.978 | Valid F1 : 0.640 | Valid AUC : 0.673\n",
            "--------------------------------------------------------------------------------\n",
            "Epochs : 11\n"
          ]
        },
        {
          "output_type": "stream",
          "name": "stderr",
          "text": [
            "100%|██████████| 2369/2369 [04:39<00:00,  8.47it/s]\n"
          ]
        },
        {
          "output_type": "stream",
          "name": "stdout",
          "text": [
            "Train Loss : 0.050 | Train Acc : 0.982 | Train F1 : 0.723 | Train AUC : 0.708\n"
          ]
        },
        {
          "output_type": "stream",
          "name": "stderr",
          "text": [
            "100%|██████████| 125/125 [00:15<00:00,  8.33it/s]\n"
          ]
        },
        {
          "output_type": "stream",
          "name": "stdout",
          "text": [
            "Valid Loss : 0.064 | Valid Acc : 0.978 | Valid F1 : 0.645 | Valid AUC : 0.674\n",
            "--------------------------------------------------------------------------------\n",
            "The Val loss does not improve with 1 patient counter\n",
            "Epochs : 12\n"
          ]
        },
        {
          "output_type": "stream",
          "name": "stderr",
          "text": [
            "100%|██████████| 2369/2369 [04:41<00:00,  8.42it/s]\n"
          ]
        },
        {
          "output_type": "stream",
          "name": "stdout",
          "text": [
            "Train Loss : 0.047 | Train Acc : 0.983 | Train F1 : 0.738 | Train AUC : 0.714\n"
          ]
        },
        {
          "output_type": "stream",
          "name": "stderr",
          "text": [
            "100%|██████████| 125/125 [00:14<00:00,  8.47it/s]\n"
          ]
        },
        {
          "output_type": "stream",
          "name": "stdout",
          "text": [
            "Valid Loss : 0.064 | Valid Acc : 0.977 | Valid F1 : 0.639 | Valid AUC : 0.671\n",
            "--------------------------------------------------------------------------------\n",
            "The Val loss does not improve with 2 patient counter\n",
            "Epochs : 13\n"
          ]
        },
        {
          "output_type": "stream",
          "name": "stderr",
          "text": [
            "100%|██████████| 2369/2369 [04:40<00:00,  8.45it/s]\n"
          ]
        },
        {
          "output_type": "stream",
          "name": "stdout",
          "text": [
            "Train Loss : 0.045 | Train Acc : 0.984 | Train F1 : 0.755 | Train AUC : 0.723\n"
          ]
        },
        {
          "output_type": "stream",
          "name": "stderr",
          "text": [
            "100%|██████████| 125/125 [00:14<00:00,  8.48it/s]"
          ]
        },
        {
          "output_type": "stream",
          "name": "stdout",
          "text": [
            "Valid Loss : 0.065 | Valid Acc : 0.977 | Valid F1 : 0.636 | Valid AUC : 0.668\n",
            "--------------------------------------------------------------------------------\n",
            "The Val loss does not improve with 3 patient counter\n"
          ]
        },
        {
          "output_type": "stream",
          "name": "stderr",
          "text": [
            "\n"
          ]
        }
      ],
      "source": [
        "from torch.optim import Adam\n",
        "\n",
        "epochs = 30\n",
        "learning_rate = 1e-6 * 5\n",
        "\n",
        "loss_fn = torch.nn.BCELoss().to(device)\n",
        "model = EmbeddingClassifier().to(device)\n",
        "optimizer = Adam(model.parameters(), lr=learning_rate)\n",
        "\n",
        "graph = TrainModel(model, \n",
        "                   loss_fn, \n",
        "                   optimizer, \n",
        "                   train_loader, \n",
        "                   val_loader, \n",
        "                   epochs)"
      ],
      "id": "jUj6N94uE-XS"
    },
    {
      "cell_type": "code",
      "execution_count": null,
      "metadata": {
        "id": "h5P873o-D7IA"
      },
      "outputs": [],
      "source": [],
      "id": "h5P873o-D7IA"
    },
    {
      "cell_type": "code",
      "execution_count": null,
      "metadata": {
        "colab": {
          "base_uri": "https://localhost:8080/"
        },
        "id": "wCTrOhOXaHCM",
        "outputId": "605e3142-71f2-4cf5-bdb9-27c3fb5b64d0"
      },
      "outputs": [
        {
          "output_type": "execute_result",
          "data": {
            "text/plain": [
              "<All keys matched successfully>"
            ]
          },
          "metadata": {},
          "execution_count": 25
        }
      ],
      "source": [
        "model.load_state_dict(torch.load('./drive/MyDrive/NLP_project/TCC_GloVe-model.pt'))"
      ],
      "id": "wCTrOhOXaHCM"
    },
    {
      "cell_type": "markdown",
      "metadata": {
        "id": "Ff7rikuDNT1r"
      },
      "source": [
        "# Test"
      ],
      "id": "Ff7rikuDNT1r"
    },
    {
      "cell_type": "code",
      "execution_count": null,
      "metadata": {
        "id": "Rw0anYH1Eya-"
      },
      "outputs": [],
      "source": [
        "test = pd.read_csv('./drive/MyDrive/NLP_project/test_tokenized.csv')\n",
        "test.dropna(inplace=True)"
      ],
      "id": "Rw0anYH1Eya-"
    },
    {
      "cell_type": "code",
      "execution_count": null,
      "metadata": {
        "id": "YXTu3uyoKpGT"
      },
      "outputs": [],
      "source": [
        "test_dataset = ToxicCommentsDataset(test)\n",
        "test_loader  = DataLoader(test_dataset, batch_size=64, collate_fn=vectorize_batch)"
      ],
      "id": "YXTu3uyoKpGT"
    },
    {
      "cell_type": "code",
      "execution_count": null,
      "metadata": {
        "colab": {
          "base_uri": "https://localhost:8080/"
        },
        "id": "TWdCU6cF17yd",
        "outputId": "c453df5c-c492-454c-f049-a2ca9ae701db"
      },
      "outputs": [
        {
          "output_type": "stream",
          "name": "stdout",
          "text": [
            "Sample batch size:  torch.Size([64, 76800])\n",
            "Sample batch input: \n",
            " tensor([[-0.4013,  0.4825, -0.5357,  ...,  0.0000,  0.0000,  0.0000],\n",
            "        [-0.3281, -0.1802, -0.7084,  ...,  0.0000,  0.0000,  0.0000],\n",
            "        [-0.1948,  0.2567,  0.3374,  ...,  0.0000,  0.0000,  0.0000],\n",
            "        ...,\n",
            "        [ 0.1941,  0.2260, -0.4376,  ...,  0.0000,  0.0000,  0.0000],\n",
            "        [-0.6130,  0.3595,  0.6137,  ..., -0.1844,  0.7163,  0.1934],\n",
            "        [-0.3112,  0.2897, -0.3098,  ...,  0.0000,  0.0000,  0.0000]])\n",
            "\n",
            "Sample label size:  torch.Size([64, 6])\n",
            "Sample label input: \n",
            " tensor([[0., 0., 0., 0., 0., 0.],\n",
            "        [0., 0., 0., 0., 0., 0.],\n",
            "        [0., 0., 0., 0., 0., 0.],\n",
            "        [0., 0., 0., 0., 0., 0.],\n",
            "        [0., 0., 0., 0., 0., 0.],\n",
            "        [0., 0., 0., 0., 0., 0.],\n",
            "        [0., 0., 0., 0., 0., 0.],\n",
            "        [0., 0., 0., 0., 0., 0.],\n",
            "        [1., 0., 0., 0., 0., 0.],\n",
            "        [0., 0., 0., 0., 0., 0.],\n",
            "        [0., 0., 0., 0., 0., 0.],\n",
            "        [0., 0., 0., 0., 0., 0.],\n",
            "        [0., 0., 0., 0., 0., 0.],\n",
            "        [0., 0., 0., 0., 0., 0.],\n",
            "        [0., 0., 0., 0., 0., 0.],\n",
            "        [0., 0., 0., 0., 0., 0.],\n",
            "        [0., 0., 0., 0., 0., 0.],\n",
            "        [0., 0., 0., 0., 0., 0.],\n",
            "        [0., 0., 0., 0., 0., 0.],\n",
            "        [0., 0., 0., 0., 0., 0.],\n",
            "        [0., 0., 0., 0., 0., 0.],\n",
            "        [0., 0., 0., 0., 0., 0.],\n",
            "        [0., 0., 0., 0., 0., 0.],\n",
            "        [1., 0., 1., 0., 1., 1.],\n",
            "        [0., 0., 0., 0., 0., 0.],\n",
            "        [0., 0., 0., 0., 0., 0.],\n",
            "        [0., 0., 0., 0., 0., 0.],\n",
            "        [0., 0., 0., 0., 0., 0.],\n",
            "        [1., 0., 1., 0., 1., 0.],\n",
            "        [0., 0., 0., 0., 0., 0.],\n",
            "        [0., 0., 0., 0., 0., 0.],\n",
            "        [0., 0., 0., 0., 0., 0.],\n",
            "        [0., 0., 0., 0., 0., 0.],\n",
            "        [0., 0., 0., 0., 0., 0.],\n",
            "        [0., 0., 0., 0., 0., 0.],\n",
            "        [0., 0., 0., 0., 0., 0.],\n",
            "        [0., 0., 0., 0., 0., 0.],\n",
            "        [1., 0., 0., 0., 0., 0.],\n",
            "        [0., 0., 0., 0., 0., 0.],\n",
            "        [1., 0., 1., 0., 1., 0.],\n",
            "        [0., 0., 0., 0., 0., 0.],\n",
            "        [0., 0., 0., 0., 0., 0.],\n",
            "        [0., 0., 0., 0., 0., 0.],\n",
            "        [0., 0., 0., 0., 0., 0.],\n",
            "        [0., 0., 0., 0., 0., 0.],\n",
            "        [0., 0., 0., 0., 0., 0.],\n",
            "        [0., 0., 0., 0., 0., 0.],\n",
            "        [0., 0., 0., 0., 0., 0.],\n",
            "        [0., 0., 0., 0., 0., 0.],\n",
            "        [0., 0., 0., 0., 0., 0.],\n",
            "        [0., 0., 0., 0., 0., 0.],\n",
            "        [0., 0., 0., 0., 0., 0.],\n",
            "        [0., 0., 0., 0., 0., 0.],\n",
            "        [0., 0., 0., 0., 0., 0.],\n",
            "        [0., 0., 0., 0., 0., 0.],\n",
            "        [0., 0., 0., 0., 0., 0.],\n",
            "        [0., 0., 0., 0., 0., 0.],\n",
            "        [0., 0., 0., 0., 0., 0.],\n",
            "        [0., 0., 0., 0., 0., 0.],\n",
            "        [0., 0., 0., 0., 0., 0.],\n",
            "        [0., 0., 0., 0., 0., 0.],\n",
            "        [0., 0., 0., 0., 0., 0.],\n",
            "        [0., 0., 0., 0., 0., 0.],\n",
            "        [0., 0., 0., 0., 0., 0.]], dtype=torch.float64)\n"
          ]
        }
      ],
      "source": [
        "# check our batches\n",
        "dataiter = iter(test_loader)\n",
        "x, y = next(dataiter)\n",
        "\n",
        "print('Sample batch size: ', x.size())   # batch_size, seq_length\n",
        "print('Sample batch input: \\n', x)\n",
        "print()\n",
        "print('Sample label size: ', y.size())   # batch_size\n",
        "print('Sample label input: \\n', y)"
      ],
      "id": "TWdCU6cF17yd"
    },
    {
      "cell_type": "code",
      "execution_count": null,
      "metadata": {
        "id": "yOuHtOjXOAzw"
      },
      "outputs": [],
      "source": [],
      "id": "yOuHtOjXOAzw"
    },
    {
      "cell_type": "code",
      "execution_count": null,
      "metadata": {
        "colab": {
          "base_uri": "https://localhost:8080/"
        },
        "id": "3qrmtu6XNn4z",
        "outputId": "e24338df-d624-4f7a-bb0b-7f84cc9edbd8"
      },
      "outputs": [
        {
          "output_type": "stream",
          "name": "stderr",
          "text": [
            "100%|██████████| 993/993 [02:00<00:00,  8.27it/s]\n"
          ]
        },
        {
          "output_type": "stream",
          "name": "stdout",
          "text": [
            "Valid Loss : 0.088 | Valid Acc : 0.968 | Valid F1 : 0.558 | Valid AUC : 0.670\n",
            "0\n",
            "3849 2774\n",
            "2240 54688\n",
            "1\n",
            "134 314\n",
            "233 62870\n",
            "2\n",
            "2058 1209\n",
            "1632 58652\n",
            "3\n",
            "1 40\n",
            "210 63300\n",
            "4\n",
            "1670 1120\n",
            "1757 59004\n",
            "5\n",
            "61 150\n",
            "651 62689\n",
            "----------------------------------------\n",
            "7773 5607\n",
            "6723 361203\n"
          ]
        }
      ],
      "source": [
        "loss_fn = torch.nn.BCELoss().to(device)\n",
        "model.to(device)\n",
        "pred, true, _, _, _,_= CalcValLossAndAccuracy(model, loss_fn, test_loader)\n",
        "\n",
        "tns, fps, fns, tps = 0, 0, 0, 0\n",
        "for i in range(6):\n",
        "  tn, fp, fn, tp = confusion_matrix(pred[:,i].cpu(), \n",
        "                                    true[:, i].cpu()).ravel()\n",
        "\n",
        "  tns += tn\n",
        "  fps += fp\n",
        "  fns += fn\n",
        "  tps += tp\n",
        "  print(i)\n",
        "  print(tp, fp)\n",
        "  print(fn, tn)\n",
        "\n",
        "  del tn, fp, fn, tp\n",
        "print('-'*40)\n",
        "print(tps, fps)\n",
        "print(fns, tns)"
      ],
      "id": "3qrmtu6XNn4z"
    },
    {
      "cell_type": "code",
      "execution_count": null,
      "metadata": {
        "id": "BCNjBwWNohI1",
        "colab": {
          "base_uri": "https://localhost:8080/"
        },
        "outputId": "6006263a-a7ae-424e-93aa-8e22cb3cc47c"
      },
      "outputs": [
        {
          "output_type": "stream",
          "name": "stdout",
          "text": [
            "0.58, 0.54, 0.56\n"
          ]
        }
      ],
      "source": [
        "precision = tps / (tps + fps)\n",
        "recall = tps / (tps + fns)\n",
        "f1 = 2 * (precision * recall) / (precision + recall)\n",
        "\n",
        "print(\"{:.2f}, {:.2f}, {:.2f}\".format(precision, recall, f1))"
      ],
      "id": "BCNjBwWNohI1"
    },
    {
      "cell_type": "code",
      "execution_count": null,
      "metadata": {
        "id": "8zdigVOOptG1",
        "colab": {
          "base_uri": "https://localhost:8080/"
        },
        "outputId": "2222989d-4b11-4c4a-a3b6-b8f61f4093f1"
      },
      "outputs": [
        {
          "output_type": "execute_result",
          "data": {
            "text/plain": [
              "tensor(0.6925, device='cuda:0')"
            ]
          },
          "metadata": {},
          "execution_count": 31
        }
      ],
      "source": [
        "from torchmetrics.classification import MultilabelAUROC\n",
        "auc = MultilabelAUROC(num_labels=6, average=\"macro\", thresholds=None).to(device)\n",
        "auc(pred, true.to(torch.long))\n"
      ],
      "id": "8zdigVOOptG1"
    },
    {
      "cell_type": "code",
      "execution_count": null,
      "metadata": {
        "id": "DGyI01NNDz4h"
      },
      "outputs": [],
      "source": [
        "def get_sigle_prediciton(model, val_loader):\n",
        "  target_names = ['toxic', 'severe_toxic', 'obscene', 'threat','insult', 'identity_hate']\n",
        "  with torch.no_grad():\n",
        "        for X, Y in val_loader:\n",
        "            X, Y = X.to(device), Y.to(device)\n",
        "            preds = model(X)\n",
        "\n",
        "  return preds, Y\n",
        "      \n",
        "def get_prediction(comment):\n",
        "  dataset = ToxicCommentsDataset(comment)\n",
        "  loader  = DataLoader(dataset, collate_fn=vectorize_batch)\n",
        "  pred, true = get_sigle_prediciton(model, loader)\n",
        "\n",
        "  return pred, true"
      ],
      "id": "DGyI01NNDz4h"
    },
    {
      "cell_type": "code",
      "execution_count": null,
      "metadata": {
        "id": "WfBddH6DEiE_",
        "colab": {
          "base_uri": "https://localhost:8080/",
          "height": 411
        },
        "outputId": "b4d0dfe3-f7e3-4c28-f42e-ef925a9846e8"
      },
      "outputs": [
        {
          "output_type": "execute_result",
          "data": {
            "text/plain": [
              "                                                  tokens  toxic  severe_toxic  \\\n",
              "24                   DJ Robinson gay hell suck dick much    1.0           0.0   \n",
              "138                              HE IS A GHAY ASS FUCKER    1.0           0.0   \n",
              "159    Random Deletion Deleted xanax bar fuck mah nig...    1.0           0.0   \n",
              "200    WARNING This first warning If stop gay raped i...    1.0           0.0   \n",
              "331               willeys u male willey u likley gay lol    1.0           0.0   \n",
              "...                                                  ...    ...           ...   \n",
              "63408  ZANGIEF IS NOT GAY HEY LINDSAY DUDE IS YOU ARE...    1.0           0.0   \n",
              "63503  WTF Who F put userbox saying I faggot I I supp...    1.0           0.0   \n",
              "63638  b style font size px CALVIN IS A FUCKING NIGGE...    1.0           1.0   \n",
              "63639  I meet one day stab death prepared say goodbye...    1.0           1.0   \n",
              "63723  His career aspiration become Christian Preache...    1.0           0.0   \n",
              "\n",
              "       obscene  threat  insult  identity_hate  \n",
              "24         1.0     0.0     1.0            1.0  \n",
              "138        1.0     0.0     1.0            1.0  \n",
              "159        1.0     0.0     1.0            1.0  \n",
              "200        1.0     0.0     1.0            1.0  \n",
              "331        0.0     0.0     0.0            1.0  \n",
              "...        ...     ...     ...            ...  \n",
              "63408      1.0     0.0     1.0            1.0  \n",
              "63503      1.0     0.0     1.0            1.0  \n",
              "63638      1.0     0.0     1.0            1.0  \n",
              "63639      1.0     1.0     1.0            1.0  \n",
              "63723      1.0     0.0     1.0            1.0  \n",
              "\n",
              "[712 rows x 7 columns]"
            ],
            "text/html": [
              "\n",
              "  <div id=\"df-af02a0b5-a464-4ada-ad38-8029ed7b220c\">\n",
              "    <div class=\"colab-df-container\">\n",
              "      <div>\n",
              "<style scoped>\n",
              "    .dataframe tbody tr th:only-of-type {\n",
              "        vertical-align: middle;\n",
              "    }\n",
              "\n",
              "    .dataframe tbody tr th {\n",
              "        vertical-align: top;\n",
              "    }\n",
              "\n",
              "    .dataframe thead th {\n",
              "        text-align: right;\n",
              "    }\n",
              "</style>\n",
              "<table border=\"1\" class=\"dataframe\">\n",
              "  <thead>\n",
              "    <tr style=\"text-align: right;\">\n",
              "      <th></th>\n",
              "      <th>tokens</th>\n",
              "      <th>toxic</th>\n",
              "      <th>severe_toxic</th>\n",
              "      <th>obscene</th>\n",
              "      <th>threat</th>\n",
              "      <th>insult</th>\n",
              "      <th>identity_hate</th>\n",
              "    </tr>\n",
              "  </thead>\n",
              "  <tbody>\n",
              "    <tr>\n",
              "      <th>24</th>\n",
              "      <td>DJ Robinson gay hell suck dick much</td>\n",
              "      <td>1.0</td>\n",
              "      <td>0.0</td>\n",
              "      <td>1.0</td>\n",
              "      <td>0.0</td>\n",
              "      <td>1.0</td>\n",
              "      <td>1.0</td>\n",
              "    </tr>\n",
              "    <tr>\n",
              "      <th>138</th>\n",
              "      <td>HE IS A GHAY ASS FUCKER</td>\n",
              "      <td>1.0</td>\n",
              "      <td>0.0</td>\n",
              "      <td>1.0</td>\n",
              "      <td>0.0</td>\n",
              "      <td>1.0</td>\n",
              "      <td>1.0</td>\n",
              "    </tr>\n",
              "    <tr>\n",
              "      <th>159</th>\n",
              "      <td>Random Deletion Deleted xanax bar fuck mah nig...</td>\n",
              "      <td>1.0</td>\n",
              "      <td>0.0</td>\n",
              "      <td>1.0</td>\n",
              "      <td>0.0</td>\n",
              "      <td>1.0</td>\n",
              "      <td>1.0</td>\n",
              "    </tr>\n",
              "    <tr>\n",
              "      <th>200</th>\n",
              "      <td>WARNING This first warning If stop gay raped i...</td>\n",
              "      <td>1.0</td>\n",
              "      <td>0.0</td>\n",
              "      <td>1.0</td>\n",
              "      <td>0.0</td>\n",
              "      <td>1.0</td>\n",
              "      <td>1.0</td>\n",
              "    </tr>\n",
              "    <tr>\n",
              "      <th>331</th>\n",
              "      <td>willeys u male willey u likley gay lol</td>\n",
              "      <td>1.0</td>\n",
              "      <td>0.0</td>\n",
              "      <td>0.0</td>\n",
              "      <td>0.0</td>\n",
              "      <td>0.0</td>\n",
              "      <td>1.0</td>\n",
              "    </tr>\n",
              "    <tr>\n",
              "      <th>...</th>\n",
              "      <td>...</td>\n",
              "      <td>...</td>\n",
              "      <td>...</td>\n",
              "      <td>...</td>\n",
              "      <td>...</td>\n",
              "      <td>...</td>\n",
              "      <td>...</td>\n",
              "    </tr>\n",
              "    <tr>\n",
              "      <th>63408</th>\n",
              "      <td>ZANGIEF IS NOT GAY HEY LINDSAY DUDE IS YOU ARE...</td>\n",
              "      <td>1.0</td>\n",
              "      <td>0.0</td>\n",
              "      <td>1.0</td>\n",
              "      <td>0.0</td>\n",
              "      <td>1.0</td>\n",
              "      <td>1.0</td>\n",
              "    </tr>\n",
              "    <tr>\n",
              "      <th>63503</th>\n",
              "      <td>WTF Who F put userbox saying I faggot I I supp...</td>\n",
              "      <td>1.0</td>\n",
              "      <td>0.0</td>\n",
              "      <td>1.0</td>\n",
              "      <td>0.0</td>\n",
              "      <td>1.0</td>\n",
              "      <td>1.0</td>\n",
              "    </tr>\n",
              "    <tr>\n",
              "      <th>63638</th>\n",
              "      <td>b style font size px CALVIN IS A FUCKING NIGGE...</td>\n",
              "      <td>1.0</td>\n",
              "      <td>1.0</td>\n",
              "      <td>1.0</td>\n",
              "      <td>0.0</td>\n",
              "      <td>1.0</td>\n",
              "      <td>1.0</td>\n",
              "    </tr>\n",
              "    <tr>\n",
              "      <th>63639</th>\n",
              "      <td>I meet one day stab death prepared say goodbye...</td>\n",
              "      <td>1.0</td>\n",
              "      <td>1.0</td>\n",
              "      <td>1.0</td>\n",
              "      <td>1.0</td>\n",
              "      <td>1.0</td>\n",
              "      <td>1.0</td>\n",
              "    </tr>\n",
              "    <tr>\n",
              "      <th>63723</th>\n",
              "      <td>His career aspiration become Christian Preache...</td>\n",
              "      <td>1.0</td>\n",
              "      <td>0.0</td>\n",
              "      <td>1.0</td>\n",
              "      <td>0.0</td>\n",
              "      <td>1.0</td>\n",
              "      <td>1.0</td>\n",
              "    </tr>\n",
              "  </tbody>\n",
              "</table>\n",
              "<p>712 rows × 7 columns</p>\n",
              "</div>\n",
              "      <button class=\"colab-df-convert\" onclick=\"convertToInteractive('df-af02a0b5-a464-4ada-ad38-8029ed7b220c')\"\n",
              "              title=\"Convert this dataframe to an interactive table.\"\n",
              "              style=\"display:none;\">\n",
              "        \n",
              "  <svg xmlns=\"http://www.w3.org/2000/svg\" height=\"24px\"viewBox=\"0 0 24 24\"\n",
              "       width=\"24px\">\n",
              "    <path d=\"M0 0h24v24H0V0z\" fill=\"none\"/>\n",
              "    <path d=\"M18.56 5.44l.94 2.06.94-2.06 2.06-.94-2.06-.94-.94-2.06-.94 2.06-2.06.94zm-11 1L8.5 8.5l.94-2.06 2.06-.94-2.06-.94L8.5 2.5l-.94 2.06-2.06.94zm10 10l.94 2.06.94-2.06 2.06-.94-2.06-.94-.94-2.06-.94 2.06-2.06.94z\"/><path d=\"M17.41 7.96l-1.37-1.37c-.4-.4-.92-.59-1.43-.59-.52 0-1.04.2-1.43.59L10.3 9.45l-7.72 7.72c-.78.78-.78 2.05 0 2.83L4 21.41c.39.39.9.59 1.41.59.51 0 1.02-.2 1.41-.59l7.78-7.78 2.81-2.81c.8-.78.8-2.07 0-2.86zM5.41 20L4 18.59l7.72-7.72 1.47 1.35L5.41 20z\"/>\n",
              "  </svg>\n",
              "      </button>\n",
              "      \n",
              "  <style>\n",
              "    .colab-df-container {\n",
              "      display:flex;\n",
              "      flex-wrap:wrap;\n",
              "      gap: 12px;\n",
              "    }\n",
              "\n",
              "    .colab-df-convert {\n",
              "      background-color: #E8F0FE;\n",
              "      border: none;\n",
              "      border-radius: 50%;\n",
              "      cursor: pointer;\n",
              "      display: none;\n",
              "      fill: #1967D2;\n",
              "      height: 32px;\n",
              "      padding: 0 0 0 0;\n",
              "      width: 32px;\n",
              "    }\n",
              "\n",
              "    .colab-df-convert:hover {\n",
              "      background-color: #E2EBFA;\n",
              "      box-shadow: 0px 1px 2px rgba(60, 64, 67, 0.3), 0px 1px 3px 1px rgba(60, 64, 67, 0.15);\n",
              "      fill: #174EA6;\n",
              "    }\n",
              "\n",
              "    [theme=dark] .colab-df-convert {\n",
              "      background-color: #3B4455;\n",
              "      fill: #D2E3FC;\n",
              "    }\n",
              "\n",
              "    [theme=dark] .colab-df-convert:hover {\n",
              "      background-color: #434B5C;\n",
              "      box-shadow: 0px 1px 3px 1px rgba(0, 0, 0, 0.15);\n",
              "      filter: drop-shadow(0px 1px 2px rgba(0, 0, 0, 0.3));\n",
              "      fill: #FFFFFF;\n",
              "    }\n",
              "  </style>\n",
              "\n",
              "      <script>\n",
              "        const buttonEl =\n",
              "          document.querySelector('#df-af02a0b5-a464-4ada-ad38-8029ed7b220c button.colab-df-convert');\n",
              "        buttonEl.style.display =\n",
              "          google.colab.kernel.accessAllowed ? 'block' : 'none';\n",
              "\n",
              "        async function convertToInteractive(key) {\n",
              "          const element = document.querySelector('#df-af02a0b5-a464-4ada-ad38-8029ed7b220c');\n",
              "          const dataTable =\n",
              "            await google.colab.kernel.invokeFunction('convertToInteractive',\n",
              "                                                     [key], {});\n",
              "          if (!dataTable) return;\n",
              "\n",
              "          const docLinkHtml = 'Like what you see? Visit the ' +\n",
              "            '<a target=\"_blank\" href=https://colab.research.google.com/notebooks/data_table.ipynb>data table notebook</a>'\n",
              "            + ' to learn more about interactive tables.';\n",
              "          element.innerHTML = '';\n",
              "          dataTable['output_type'] = 'display_data';\n",
              "          await google.colab.output.renderOutput(dataTable, element);\n",
              "          const docLink = document.createElement('div');\n",
              "          docLink.innerHTML = docLinkHtml;\n",
              "          element.appendChild(docLink);\n",
              "        }\n",
              "      </script>\n",
              "    </div>\n",
              "  </div>\n",
              "  "
            ]
          },
          "metadata": {},
          "execution_count": 33
        }
      ],
      "source": [
        "test[test['identity_hate'] == 1]"
      ],
      "id": "WfBddH6DEiE_"
    },
    {
      "cell_type": "code",
      "execution_count": null,
      "metadata": {
        "id": "b6uiQ76vhRpB",
        "colab": {
          "base_uri": "https://localhost:8080/",
          "height": 34
        },
        "outputId": "250468b8-fa59-4a67-ba8e-76252657e54c"
      },
      "outputs": [
        {
          "output_type": "execute_result",
          "data": {
            "text/plain": [
              "'willeys u male willey u likley gay lol'"
            ],
            "application/vnd.google.colaboratory.intrinsic+json": {
              "type": "string"
            }
          },
          "metadata": {},
          "execution_count": 34
        }
      ],
      "source": [
        "test.iloc[test.index == 331].tokens.values[0]"
      ],
      "id": "b6uiQ76vhRpB"
    },
    {
      "cell_type": "code",
      "execution_count": null,
      "metadata": {
        "id": "rkPxaQai4kEF",
        "colab": {
          "base_uri": "https://localhost:8080/"
        },
        "outputId": "2173e593-2c82-44f1-9595-ff5f8776fca7"
      },
      "outputs": [
        {
          "output_type": "stream",
          "name": "stdout",
          "text": [
            "tensor([[0.9943, 0.5357, 0.9735, 0.3435, 0.9494, 0.7213]], device='cuda:0')\n",
            "tensor([[1., 0., 0., 0., 0., 1.]], device='cuda:0', dtype=torch.float64)\n"
          ]
        }
      ],
      "source": [
        "a = 331\n",
        "pred, a = get_prediction(test.iloc[test.index == a])\n",
        "print(pred)\n",
        "print(a)\n"
      ],
      "id": "rkPxaQai4kEF"
    },
    {
      "cell_type": "code",
      "execution_count": null,
      "metadata": {
        "id": "VYgcDm2Sh0gq"
      },
      "outputs": [],
      "source": [
        "def predict_random(comment):\n",
        "  def get_prediciton(model, val_loader):\n",
        "      with torch.no_grad():\n",
        "          for X, _ in val_loader:\n",
        "              X  = X.to(device)\n",
        "              preds = model(X)\n",
        "      \n",
        "      return preds\n",
        "        \n",
        "  df = pd.DataFrame({'tokens': comment, \n",
        "                     'toxic': 0,\n",
        "                     'severe_toxic':0,\n",
        "                     'obscene': 0,\n",
        "                     'threat': 0,\n",
        "                     'insult':0,\n",
        "                     'identity_hate':0\n",
        "                     }, index=[0])\n",
        "  \n",
        "  dataset = ToxicCommentsDataset(df)\n",
        "  loader  = DataLoader(dataset, collate_fn=vectorize_batch)\n",
        "\n",
        "  return get_prediciton(model, loader)"
      ],
      "id": "VYgcDm2Sh0gq"
    },
    {
      "cell_type": "code",
      "execution_count": null,
      "metadata": {
        "id": "TDByixaPiddP",
        "colab": {
          "base_uri": "https://localhost:8080/"
        },
        "outputId": "384106ba-0be4-489e-becd-87a29076bd52"
      },
      "outputs": [
        {
          "output_type": "execute_result",
          "data": {
            "text/plain": [
              "tensor([[0.9984, 0.3543, 0.9808, 0.1870, 0.9923, 0.4610]], device='cuda:0')"
            ]
          },
          "metadata": {},
          "execution_count": 37
        }
      ],
      "source": [
        "predict_random(\"No arrogant self serving immature idiot Get right\")\n"
      ],
      "id": "TDByixaPiddP"
    },
    {
      "cell_type": "code",
      "execution_count": null,
      "metadata": {
        "id": "bOm5zRzUVqmL"
      },
      "outputs": [],
      "source": [
        "\n",
        "epoch_tr_loss = graph[0]\n",
        "epoch_vl_loss = graph[1]\n",
        "epoch_tr_acc = graph[2]\n",
        "epoch_vl_acc = graph[3]\n",
        "epoch_tr_f1 = graph[4]\n",
        "epoch_vl_f1 = graph[5]\n",
        "epoch_tr_auc = [x.item() for x in graph[6]]\n",
        "epoch_vl_auc = [x.item() for x in graph[7]]"
      ],
      "id": "bOm5zRzUVqmL"
    },
    {
      "cell_type": "code",
      "execution_count": null,
      "metadata": {
        "id": "PrBsUbQfsAHd",
        "colab": {
          "base_uri": "https://localhost:8080/",
          "height": 396
        },
        "outputId": "d0578a63-4fac-486c-91a8-8af0e7b6cb56"
      },
      "outputs": [
        {
          "output_type": "display_data",
          "data": {
            "text/plain": [
              "<Figure size 1440x432 with 2 Axes>"
            ],
            "image/png": "[encoded data removed]"
          },
          "metadata": {
            "image/png": {
              "width": 1177,
              "height": 380
            }
          }
        }
      ],
      "source": [
        "fig = plt.figure(figsize = (20, 6))\n",
        "plt.subplot(1, 2, 1)\n",
        "plt.plot(epoch_tr_acc, label='Train Acc')\n",
        "plt.plot(epoch_vl_acc, label='Validation Acc')\n",
        "plt.title(\"Accuracy\")\n",
        "plt.legend()\n",
        "plt.grid()\n",
        "    \n",
        "plt.subplot(1, 2, 2)\n",
        "plt.plot(epoch_tr_loss, label='Train loss')\n",
        "plt.plot(epoch_vl_loss, label='Validation loss')\n",
        "plt.title(\"Loss\")\n",
        "plt.legend()\n",
        "plt.grid()\n",
        "\n",
        "plt.show()"
      ],
      "id": "PrBsUbQfsAHd"
    },
    {
      "cell_type": "code",
      "execution_count": null,
      "metadata": {
        "id": "RpR_-AI54kM5",
        "colab": {
          "base_uri": "https://localhost:8080/",
          "height": 396
        },
        "outputId": "d04402be-9d0e-4e7f-8548-3b6b9a7f9900"
      },
      "outputs": [
        {
          "output_type": "display_data",
          "data": {
            "text/plain": [
              "<Figure size 1440x432 with 2 Axes>"
            ],
            "image/png": "[encoded data removed]"
          },
          "metadata": {
            "image/png": {
              "width": 1160,
              "height": 380
            }
          }
        }
      ],
      "source": [
        "fig = plt.figure(figsize = (20, 6))\n",
        "plt.subplot(1, 2, 1)\n",
        "plt.plot(epoch_tr_f1, label='Train F1')\n",
        "plt.plot(epoch_vl_f1, label='Validation F1')\n",
        "plt.title(\"F1\")\n",
        "plt.legend()\n",
        "plt.grid()\n",
        "    \n",
        "plt.subplot(1, 2, 2)\n",
        "plt.plot(epoch_tr_auc, label='Train AUC')\n",
        "plt.plot(epoch_vl_auc, label='Validation AUC')\n",
        "plt.title(\"AUC\")\n",
        "plt.legend()\n",
        "plt.grid()\n",
        "\n",
        "plt.show()"
      ],
      "id": "RpR_-AI54kM5"
    },
    {
      "cell_type": "code",
      "execution_count": null,
      "metadata": {
        "id": "wCXR1m39nWWx"
      },
      "outputs": [],
      "source": [],
      "id": "wCXR1m39nWWx"
    }
  ],
  "metadata": {
    "accelerator": "GPU",
    "colab": {
      "provenance": []
    },
    "gpuClass": "standard",
    "kernelspec": {
      "display_name": "Python 3.9 (tensorflow)",
      "language": "python",
      "name": "tensorflow"
    },
    "language_info": {
      "codemirror_mode": {
        "name": "ipython",
        "version": 3
      },
      "file_extension": ".py",
      "mimetype": "text/x-python",
      "name": "python",
      "nbconvert_exporter": "python",
      "pygments_lexer": "ipython3",
      "version": "3.9.13"
    }
  },
  "nbformat": 4,
  "nbformat_minor": 5
}