{
  "cells": [
    {
      "cell_type": "code",
      "execution_count": null,
      "metadata": {
        "colab": {
          "base_uri": "https://localhost:8080/"
        },
        "id": "REjsyWCfD27s",
        "outputId": "e444cf29-59dc-4f89-9735-3fefdd678165"
      },
      "outputs": [
        {
          "output_type": "stream",
          "name": "stdout",
          "text": [
            "Mounted at /content/drive\n"
          ]
        }
      ],
      "source": [
        "from google.colab import drive\n",
        "drive.mount('/content/drive')"
      ],
      "id": "REjsyWCfD27s"
    },
    {
      "cell_type": "code",
      "execution_count": null,
      "metadata": {
        "id": "NlbtQLegtF-Y"
      },
      "outputs": [],
      "source": [],
      "id": "NlbtQLegtF-Y"
    },
    {
      "cell_type": "code",
      "execution_count": null,
      "metadata": {
        "colab": {
          "base_uri": "https://localhost:8080/"
        },
        "id": "fmdeE95QkZoD",
        "outputId": "9ea16bd7-31b2-4274-c375-463e4b8e329b"
      },
      "outputs": [
        {
          "output_type": "stream",
          "name": "stdout",
          "text": [
            "\u001b[2K     \u001b[90m━━━━━━━━━━━━━━━━━━━━━━━━━━━━━━━━━━━━━━\u001b[0m \u001b[32m517.2/517.2 KB\u001b[0m \u001b[31m22.8 MB/s\u001b[0m eta \u001b[36m0:00:00\u001b[0m\n",
            "\u001b[2K     \u001b[90m━━━━━━━━━━━━━━━━━━━━━━━━━━━━━━━━━━━━━━━━\u001b[0m \u001b[32m6.3/6.3 MB\u001b[0m \u001b[31m82.7 MB/s\u001b[0m eta \u001b[36m0:00:00\u001b[0m\n",
            "\u001b[2K     \u001b[90m━━━━━━━━━━━━━━━━━━━━━━━━━━━━━━━━━━━━━━\u001b[0m \u001b[32m190.3/190.3 KB\u001b[0m \u001b[31m24.8 MB/s\u001b[0m eta \u001b[36m0:00:00\u001b[0m\n",
            "\u001b[2K     \u001b[90m━━━━━━━━━━━━━━━━━━━━━━━━━━━━━━━━━━━━━━━━\u001b[0m \u001b[32m7.6/7.6 MB\u001b[0m \u001b[31m105.6 MB/s\u001b[0m eta \u001b[36m0:00:00\u001b[0m\n",
            "\u001b[?25h"
          ]
        }
      ],
      "source": [
        "!pip install torchmetrics --quiet\n",
        "!pip install transformers --quiet"
      ],
      "id": "fmdeE95QkZoD"
    },
    {
      "cell_type": "code",
      "execution_count": null,
      "metadata": {
        "id": "SGkmap6ikY82"
      },
      "outputs": [],
      "source": [
        "from torchmetrics.classification import MultilabelAUROC"
      ],
      "id": "SGkmap6ikY82"
    },
    {
      "cell_type": "code",
      "execution_count": null,
      "metadata": {
        "id": "051cb013-be44-4320-b9d8-c25613d402f4"
      },
      "outputs": [],
      "source": [
        "# import libraries\n",
        "\n",
        "# data manipulation\n",
        "import pandas as pd\n",
        "import numpy as np\n",
        "import math\n",
        "\n",
        "# data visualization\n",
        "import matplotlib.pyplot as plt\n",
        "import seaborn as sns\n",
        "from wordcloud import WordCloud, STOPWORDS\n",
        "from matplotlib import rc\n",
        "from pylab import rcParams\n",
        "\n",
        "\n",
        "# text processing\n",
        "import re\n",
        "import nltk\n",
        "from nltk.tokenize import word_tokenize, sent_tokenize\n",
        "from nltk.corpus import stopwords\n",
        "from nltk.stem.wordnet import WordNetLemmatizer\n",
        "\n",
        "\n",
        "# pytorch\n",
        "import torch\n",
        "import torchtext\n",
        "from torchtext.data import get_tokenizer\n",
        "import torch.nn as nn\n",
        "from torch.optim import Adam, SGD, Adagrad\n",
        "from torch.utils.data import Dataset, DataLoader, TensorDataset\n",
        "from torch.utils.data import DataLoader\n",
        "from torchtext.data.functional import to_map_style_dataset\n",
        "\n",
        "from transformers import BertTokenizerFast as BertTokenizer, BertModel, AdamW, get_linear_schedule_with_warmup\n",
        "\n",
        "# sklearn\n",
        "from sklearn.model_selection import train_test_split\n",
        "from sklearn.metrics import classification_report, multilabel_confusion_matrix, confusion_matrix\n",
        "\n",
        "# utils\n",
        "import os\n",
        "from tqdm import tqdm\n",
        "tqdm.pandas()\n",
        "from collections import Counter\n",
        "\n",
        "\n",
        "%matplotlib inline\n",
        "%config InlineBackend.figure_format='retina'\n",
        "\n",
        "RANDOM_SEED = 42\n",
        "\n",
        "sns.set(style='whitegrid', palette='muted', font_scale=1.2)\n",
        "HAPPY_COLORS_PALETTE = [\"#01BEFE\", \"#FFDD00\", \"#FF7D00\", \"#FF006D\", \"#ADFF02\", \"#8F00FF\"]\n",
        "sns.set_palette(sns.color_palette(HAPPY_COLORS_PALETTE))\n",
        "rcParams['figure.figsize'] = 12, 8\n",
        "\n",
        "import warnings\n",
        "warnings.filterwarnings(\"ignore\")"
      ],
      "id": "051cb013-be44-4320-b9d8-c25613d402f4"
    },
    {
      "cell_type": "markdown",
      "metadata": {
        "id": "w4O2eUvV4E8L"
      },
      "source": [
        "# Build Model"
      ],
      "id": "w4O2eUvV4E8L"
    },
    {
      "cell_type": "markdown",
      "metadata": {
        "id": "YLP9D-FZ4w9U"
      },
      "source": [
        "Tokens -> Build vocab -> embedding -> Model"
      ],
      "id": "YLP9D-FZ4w9U"
    },
    {
      "cell_type": "code",
      "execution_count": null,
      "metadata": {
        "colab": {
          "base_uri": "https://localhost:8080/"
        },
        "id": "clpCHvuvwCr4",
        "outputId": "db2f98a6-ed77-4733-8e29-0949928edc81"
      },
      "outputs": [
        {
          "output_type": "execute_result",
          "data": {
            "text/plain": [
              "device(type='cuda')"
            ]
          },
          "metadata": {},
          "execution_count": 6
        }
      ],
      "source": [
        "device = torch.device('cuda' if torch.cuda.is_available() else 'cpu')\n",
        "device"
      ],
      "id": "clpCHvuvwCr4"
    },
    {
      "cell_type": "code",
      "execution_count": null,
      "metadata": {
        "id": "s-AaTuxXplKV"
      },
      "outputs": [],
      "source": [
        "df = pd.read_csv('./drive/MyDrive/NLP_project/tokenized.csv')\n",
        "df.dropna(inplace=True)"
      ],
      "id": "s-AaTuxXplKV"
    },
    {
      "cell_type": "code",
      "execution_count": null,
      "metadata": {
        "colab": {
          "base_uri": "https://localhost:8080/",
          "height": 201
        },
        "id": "DBpvIqQX66nx",
        "outputId": "0ee3bf01-2711-405f-97db-b0b8d093b453"
      },
      "outputs": [
        {
          "output_type": "execute_result",
          "data": {
            "text/plain": [
              "                                              tokens  toxic  severe_toxic  \\\n",
              "0  Explanation Why edits made username Hardcore M...      0             0   \n",
              "1  D aww He match background colour I seemingly s...      0             0   \n",
              "2  Hey man I really trying edit war It guy consta...      0             0   \n",
              "3  More I make real suggestion improvement I wond...      0             0   \n",
              "4              You sir hero Any chance remember page      0             0   \n",
              "\n",
              "   obscene  threat  insult  identity_hate  \n",
              "0        0       0       0              0  \n",
              "1        0       0       0              0  \n",
              "2        0       0       0              0  \n",
              "3        0       0       0              0  \n",
              "4        0       0       0              0  "
            ],
            "text/html": [
              "\n",
              "  <div id=\"df-458a247c-9958-4a77-a1cd-07a9a43260bf\">\n",
              "    <div class=\"colab-df-container\">\n",
              "      <div>\n",
              "<style scoped>\n",
              "    .dataframe tbody tr th:only-of-type {\n",
              "        vertical-align: middle;\n",
              "    }\n",
              "\n",
              "    .dataframe tbody tr th {\n",
              "        vertical-align: top;\n",
              "    }\n",
              "\n",
              "    .dataframe thead th {\n",
              "        text-align: right;\n",
              "    }\n",
              "</style>\n",
              "<table border=\"1\" class=\"dataframe\">\n",
              "  <thead>\n",
              "    <tr style=\"text-align: right;\">\n",
              "      <th></th>\n",
              "      <th>tokens</th>\n",
              "      <th>toxic</th>\n",
              "      <th>severe_toxic</th>\n",
              "      <th>obscene</th>\n",
              "      <th>threat</th>\n",
              "      <th>insult</th>\n",
              "      <th>identity_hate</th>\n",
              "    </tr>\n",
              "  </thead>\n",
              "  <tbody>\n",
              "    <tr>\n",
              "      <th>0</th>\n",
              "      <td>Explanation Why edits made username Hardcore M...</td>\n",
              "      <td>0</td>\n",
              "      <td>0</td>\n",
              "      <td>0</td>\n",
              "      <td>0</td>\n",
              "      <td>0</td>\n",
              "      <td>0</td>\n",
              "    </tr>\n",
              "    <tr>\n",
              "      <th>1</th>\n",
              "      <td>D aww He match background colour I seemingly s...</td>\n",
              "      <td>0</td>\n",
              "      <td>0</td>\n",
              "      <td>0</td>\n",
              "      <td>0</td>\n",
              "      <td>0</td>\n",
              "      <td>0</td>\n",
              "    </tr>\n",
              "    <tr>\n",
              "      <th>2</th>\n",
              "      <td>Hey man I really trying edit war It guy consta...</td>\n",
              "      <td>0</td>\n",
              "      <td>0</td>\n",
              "      <td>0</td>\n",
              "      <td>0</td>\n",
              "      <td>0</td>\n",
              "      <td>0</td>\n",
              "    </tr>\n",
              "    <tr>\n",
              "      <th>3</th>\n",
              "      <td>More I make real suggestion improvement I wond...</td>\n",
              "      <td>0</td>\n",
              "      <td>0</td>\n",
              "      <td>0</td>\n",
              "      <td>0</td>\n",
              "      <td>0</td>\n",
              "      <td>0</td>\n",
              "    </tr>\n",
              "    <tr>\n",
              "      <th>4</th>\n",
              "      <td>You sir hero Any chance remember page</td>\n",
              "      <td>0</td>\n",
              "      <td>0</td>\n",
              "      <td>0</td>\n",
              "      <td>0</td>\n",
              "      <td>0</td>\n",
              "      <td>0</td>\n",
              "    </tr>\n",
              "  </tbody>\n",
              "</table>\n",
              "</div>\n",
              "      <button class=\"colab-df-convert\" onclick=\"convertToInteractive('df-458a247c-9958-4a77-a1cd-07a9a43260bf')\"\n",
              "              title=\"Convert this dataframe to an interactive table.\"\n",
              "              style=\"display:none;\">\n",
              "        \n",
              "  <svg xmlns=\"http://www.w3.org/2000/svg\" height=\"24px\"viewBox=\"0 0 24 24\"\n",
              "       width=\"24px\">\n",
              "    <path d=\"M0 0h24v24H0V0z\" fill=\"none\"/>\n",
              "    <path d=\"M18.56 5.44l.94 2.06.94-2.06 2.06-.94-2.06-.94-.94-2.06-.94 2.06-2.06.94zm-11 1L8.5 8.5l.94-2.06 2.06-.94-2.06-.94L8.5 2.5l-.94 2.06-2.06.94zm10 10l.94 2.06.94-2.06 2.06-.94-2.06-.94-.94-2.06-.94 2.06-2.06.94z\"/><path d=\"M17.41 7.96l-1.37-1.37c-.4-.4-.92-.59-1.43-.59-.52 0-1.04.2-1.43.59L10.3 9.45l-7.72 7.72c-.78.78-.78 2.05 0 2.83L4 21.41c.39.39.9.59 1.41.59.51 0 1.02-.2 1.41-.59l7.78-7.78 2.81-2.81c.8-.78.8-2.07 0-2.86zM5.41 20L4 18.59l7.72-7.72 1.47 1.35L5.41 20z\"/>\n",
              "  </svg>\n",
              "      </button>\n",
              "      \n",
              "  <style>\n",
              "    .colab-df-container {\n",
              "      display:flex;\n",
              "      flex-wrap:wrap;\n",
              "      gap: 12px;\n",
              "    }\n",
              "\n",
              "    .colab-df-convert {\n",
              "      background-color: #E8F0FE;\n",
              "      border: none;\n",
              "      border-radius: 50%;\n",
              "      cursor: pointer;\n",
              "      display: none;\n",
              "      fill: #1967D2;\n",
              "      height: 32px;\n",
              "      padding: 0 0 0 0;\n",
              "      width: 32px;\n",
              "    }\n",
              "\n",
              "    .colab-df-convert:hover {\n",
              "      background-color: #E2EBFA;\n",
              "      box-shadow: 0px 1px 2px rgba(60, 64, 67, 0.3), 0px 1px 3px 1px rgba(60, 64, 67, 0.15);\n",
              "      fill: #174EA6;\n",
              "    }\n",
              "\n",
              "    [theme=dark] .colab-df-convert {\n",
              "      background-color: #3B4455;\n",
              "      fill: #D2E3FC;\n",
              "    }\n",
              "\n",
              "    [theme=dark] .colab-df-convert:hover {\n",
              "      background-color: #434B5C;\n",
              "      box-shadow: 0px 1px 3px 1px rgba(0, 0, 0, 0.15);\n",
              "      filter: drop-shadow(0px 1px 2px rgba(0, 0, 0, 0.3));\n",
              "      fill: #FFFFFF;\n",
              "    }\n",
              "  </style>\n",
              "\n",
              "      <script>\n",
              "        const buttonEl =\n",
              "          document.querySelector('#df-458a247c-9958-4a77-a1cd-07a9a43260bf button.colab-df-convert');\n",
              "        buttonEl.style.display =\n",
              "          google.colab.kernel.accessAllowed ? 'block' : 'none';\n",
              "\n",
              "        async function convertToInteractive(key) {\n",
              "          const element = document.querySelector('#df-458a247c-9958-4a77-a1cd-07a9a43260bf');\n",
              "          const dataTable =\n",
              "            await google.colab.kernel.invokeFunction('convertToInteractive',\n",
              "                                                     [key], {});\n",
              "          if (!dataTable) return;\n",
              "\n",
              "          const docLinkHtml = 'Like what you see? Visit the ' +\n",
              "            '<a target=\"_blank\" href=https://colab.research.google.com/notebooks/data_table.ipynb>data table notebook</a>'\n",
              "            + ' to learn more about interactive tables.';\n",
              "          element.innerHTML = '';\n",
              "          dataTable['output_type'] = 'display_data';\n",
              "          await google.colab.output.renderOutput(dataTable, element);\n",
              "          const docLink = document.createElement('div');\n",
              "          docLink.innerHTML = docLinkHtml;\n",
              "          element.appendChild(docLink);\n",
              "        }\n",
              "      </script>\n",
              "    </div>\n",
              "  </div>\n",
              "  "
            ]
          },
          "metadata": {},
          "execution_count": 8
        }
      ],
      "source": [
        "df.head()"
      ],
      "id": "DBpvIqQX66nx"
    },
    {
      "cell_type": "code",
      "execution_count": null,
      "metadata": {
        "colab": {
          "base_uri": "https://localhost:8080/"
        },
        "id": "W7Imq3Z4f4r8",
        "outputId": "ed8df30f-72a8-455a-b42a-bbe0de539efe"
      },
      "outputs": [
        {
          "output_type": "stream",
          "name": "stdout",
          "text": [
            "training : (151553, 7)\n",
            "validation : (7977, 7)\n"
          ]
        }
      ],
      "source": [
        "train_df, val_df = train_test_split(df, test_size=0.05)\n",
        "print('training :', train_df.shape)\n",
        "print('validation :', val_df.shape)"
      ],
      "id": "W7Imq3Z4f4r8"
    },
    {
      "cell_type": "code",
      "execution_count": null,
      "metadata": {
        "id": "XaTxaZ6JgdU9"
      },
      "outputs": [],
      "source": [
        "LABEL_COLUMNS = df.columns.tolist()[1:]"
      ],
      "id": "XaTxaZ6JgdU9"
    },
    {
      "cell_type": "code",
      "execution_count": null,
      "metadata": {
        "colab": {
          "base_uri": "https://localhost:8080/"
        },
        "id": "bF67iancoFf4",
        "outputId": "23487014-1eb3-4988-8db6-b9c930f84d62"
      },
      "outputs": [
        {
          "output_type": "execute_result",
          "data": {
            "text/plain": [
              "((151553, 7), (7977, 7))"
            ]
          },
          "metadata": {},
          "execution_count": 11
        }
      ],
      "source": [
        "train_toxic = train_df[train_df[LABEL_COLUMNS].sum(axis=1) > 0]\n",
        "train_clean = train_df[train_df[LABEL_COLUMNS].sum(axis=1) == 0]\n",
        "\n",
        "# resample to reduce training time 2 hrs -> 30 mins / epoch\n",
        "\n",
        "train_df.shape, val_df.shape"
      ],
      "id": "bF67iancoFf4"
    },
    {
      "cell_type": "code",
      "execution_count": null,
      "metadata": {
        "colab": {
          "base_uri": "https://localhost:8080/",
          "height": 411
        },
        "id": "5IQ-HVX61oG6",
        "outputId": "03523b91-1be6-42a9-b8e3-27b94a6ce000"
      },
      "outputs": [
        {
          "output_type": "execute_result",
          "data": {
            "text/plain": [
              "                                                   tokens  toxic  \\\n",
              "128459  Proof Smashville error He say I committed pers...      0   \n",
              "107542  Location Refute largely residential authority ...      0   \n",
              "70981                  No problem thanks keeping eye talk      0   \n",
              "36382                  A piece free advice done Take week      0   \n",
              "42548     What type sterilization think affect taste milk      0   \n",
              "...                                                   ...    ...   \n",
              "129151  Why revert edit I loss explain reverted edit P...      0   \n",
              "76512   I even given chance defend I even warning I po...      0   \n",
              "17562   A barnstar The Modest Barnstar In recognition ...      0   \n",
              "48491   Digeridie made fail They took aussie server mi...      0   \n",
              "55757   May Please stop disruptive editing If vandalis...      0   \n",
              "\n",
              "        severe_toxic  obscene  threat  insult  identity_hate  \n",
              "128459             0        0       0       0              0  \n",
              "107542             0        0       0       0              0  \n",
              "70981              0        0       0       0              0  \n",
              "36382              0        0       0       0              0  \n",
              "42548              0        0       0       0              0  \n",
              "...              ...      ...     ...     ...            ...  \n",
              "129151             0        0       0       0              0  \n",
              "76512              0        0       0       0              0  \n",
              "17562              0        0       0       0              0  \n",
              "48491              0        0       0       0              0  \n",
              "55757              0        0       0       0              0  \n",
              "\n",
              "[151553 rows x 7 columns]"
            ],
            "text/html": [
              "\n",
              "  <div id=\"df-c0039deb-a309-4eea-9fa2-d76bf9e7e756\">\n",
              "    <div class=\"colab-df-container\">\n",
              "      <div>\n",
              "<style scoped>\n",
              "    .dataframe tbody tr th:only-of-type {\n",
              "        vertical-align: middle;\n",
              "    }\n",
              "\n",
              "    .dataframe tbody tr th {\n",
              "        vertical-align: top;\n",
              "    }\n",
              "\n",
              "    .dataframe thead th {\n",
              "        text-align: right;\n",
              "    }\n",
              "</style>\n",
              "<table border=\"1\" class=\"dataframe\">\n",
              "  <thead>\n",
              "    <tr style=\"text-align: right;\">\n",
              "      <th></th>\n",
              "      <th>tokens</th>\n",
              "      <th>toxic</th>\n",
              "      <th>severe_toxic</th>\n",
              "      <th>obscene</th>\n",
              "      <th>threat</th>\n",
              "      <th>insult</th>\n",
              "      <th>identity_hate</th>\n",
              "    </tr>\n",
              "  </thead>\n",
              "  <tbody>\n",
              "    <tr>\n",
              "      <th>128459</th>\n",
              "      <td>Proof Smashville error He say I committed pers...</td>\n",
              "      <td>0</td>\n",
              "      <td>0</td>\n",
              "      <td>0</td>\n",
              "      <td>0</td>\n",
              "      <td>0</td>\n",
              "      <td>0</td>\n",
              "    </tr>\n",
              "    <tr>\n",
              "      <th>107542</th>\n",
              "      <td>Location Refute largely residential authority ...</td>\n",
              "      <td>0</td>\n",
              "      <td>0</td>\n",
              "      <td>0</td>\n",
              "      <td>0</td>\n",
              "      <td>0</td>\n",
              "      <td>0</td>\n",
              "    </tr>\n",
              "    <tr>\n",
              "      <th>70981</th>\n",
              "      <td>No problem thanks keeping eye talk</td>\n",
              "      <td>0</td>\n",
              "      <td>0</td>\n",
              "      <td>0</td>\n",
              "      <td>0</td>\n",
              "      <td>0</td>\n",
              "      <td>0</td>\n",
              "    </tr>\n",
              "    <tr>\n",
              "      <th>36382</th>\n",
              "      <td>A piece free advice done Take week</td>\n",
              "      <td>0</td>\n",
              "      <td>0</td>\n",
              "      <td>0</td>\n",
              "      <td>0</td>\n",
              "      <td>0</td>\n",
              "      <td>0</td>\n",
              "    </tr>\n",
              "    <tr>\n",
              "      <th>42548</th>\n",
              "      <td>What type sterilization think affect taste milk</td>\n",
              "      <td>0</td>\n",
              "      <td>0</td>\n",
              "      <td>0</td>\n",
              "      <td>0</td>\n",
              "      <td>0</td>\n",
              "      <td>0</td>\n",
              "    </tr>\n",
              "    <tr>\n",
              "      <th>...</th>\n",
              "      <td>...</td>\n",
              "      <td>...</td>\n",
              "      <td>...</td>\n",
              "      <td>...</td>\n",
              "      <td>...</td>\n",
              "      <td>...</td>\n",
              "      <td>...</td>\n",
              "    </tr>\n",
              "    <tr>\n",
              "      <th>129151</th>\n",
              "      <td>Why revert edit I loss explain reverted edit P...</td>\n",
              "      <td>0</td>\n",
              "      <td>0</td>\n",
              "      <td>0</td>\n",
              "      <td>0</td>\n",
              "      <td>0</td>\n",
              "      <td>0</td>\n",
              "    </tr>\n",
              "    <tr>\n",
              "      <th>76512</th>\n",
              "      <td>I even given chance defend I even warning I po...</td>\n",
              "      <td>0</td>\n",
              "      <td>0</td>\n",
              "      <td>0</td>\n",
              "      <td>0</td>\n",
              "      <td>0</td>\n",
              "      <td>0</td>\n",
              "    </tr>\n",
              "    <tr>\n",
              "      <th>17562</th>\n",
              "      <td>A barnstar The Modest Barnstar In recognition ...</td>\n",
              "      <td>0</td>\n",
              "      <td>0</td>\n",
              "      <td>0</td>\n",
              "      <td>0</td>\n",
              "      <td>0</td>\n",
              "      <td>0</td>\n",
              "    </tr>\n",
              "    <tr>\n",
              "      <th>48491</th>\n",
              "      <td>Digeridie made fail They took aussie server mi...</td>\n",
              "      <td>0</td>\n",
              "      <td>0</td>\n",
              "      <td>0</td>\n",
              "      <td>0</td>\n",
              "      <td>0</td>\n",
              "      <td>0</td>\n",
              "    </tr>\n",
              "    <tr>\n",
              "      <th>55757</th>\n",
              "      <td>May Please stop disruptive editing If vandalis...</td>\n",
              "      <td>0</td>\n",
              "      <td>0</td>\n",
              "      <td>0</td>\n",
              "      <td>0</td>\n",
              "      <td>0</td>\n",
              "      <td>0</td>\n",
              "    </tr>\n",
              "  </tbody>\n",
              "</table>\n",
              "<p>151553 rows × 7 columns</p>\n",
              "</div>\n",
              "      <button class=\"colab-df-convert\" onclick=\"convertToInteractive('df-c0039deb-a309-4eea-9fa2-d76bf9e7e756')\"\n",
              "              title=\"Convert this dataframe to an interactive table.\"\n",
              "              style=\"display:none;\">\n",
              "        \n",
              "  <svg xmlns=\"http://www.w3.org/2000/svg\" height=\"24px\"viewBox=\"0 0 24 24\"\n",
              "       width=\"24px\">\n",
              "    <path d=\"M0 0h24v24H0V0z\" fill=\"none\"/>\n",
              "    <path d=\"M18.56 5.44l.94 2.06.94-2.06 2.06-.94-2.06-.94-.94-2.06-.94 2.06-2.06.94zm-11 1L8.5 8.5l.94-2.06 2.06-.94-2.06-.94L8.5 2.5l-.94 2.06-2.06.94zm10 10l.94 2.06.94-2.06 2.06-.94-2.06-.94-.94-2.06-.94 2.06-2.06.94z\"/><path d=\"M17.41 7.96l-1.37-1.37c-.4-.4-.92-.59-1.43-.59-.52 0-1.04.2-1.43.59L10.3 9.45l-7.72 7.72c-.78.78-.78 2.05 0 2.83L4 21.41c.39.39.9.59 1.41.59.51 0 1.02-.2 1.41-.59l7.78-7.78 2.81-2.81c.8-.78.8-2.07 0-2.86zM5.41 20L4 18.59l7.72-7.72 1.47 1.35L5.41 20z\"/>\n",
              "  </svg>\n",
              "      </button>\n",
              "      \n",
              "  <style>\n",
              "    .colab-df-container {\n",
              "      display:flex;\n",
              "      flex-wrap:wrap;\n",
              "      gap: 12px;\n",
              "    }\n",
              "\n",
              "    .colab-df-convert {\n",
              "      background-color: #E8F0FE;\n",
              "      border: none;\n",
              "      border-radius: 50%;\n",
              "      cursor: pointer;\n",
              "      display: none;\n",
              "      fill: #1967D2;\n",
              "      height: 32px;\n",
              "      padding: 0 0 0 0;\n",
              "      width: 32px;\n",
              "    }\n",
              "\n",
              "    .colab-df-convert:hover {\n",
              "      background-color: #E2EBFA;\n",
              "      box-shadow: 0px 1px 2px rgba(60, 64, 67, 0.3), 0px 1px 3px 1px rgba(60, 64, 67, 0.15);\n",
              "      fill: #174EA6;\n",
              "    }\n",
              "\n",
              "    [theme=dark] .colab-df-convert {\n",
              "      background-color: #3B4455;\n",
              "      fill: #D2E3FC;\n",
              "    }\n",
              "\n",
              "    [theme=dark] .colab-df-convert:hover {\n",
              "      background-color: #434B5C;\n",
              "      box-shadow: 0px 1px 3px 1px rgba(0, 0, 0, 0.15);\n",
              "      filter: drop-shadow(0px 1px 2px rgba(0, 0, 0, 0.3));\n",
              "      fill: #FFFFFF;\n",
              "    }\n",
              "  </style>\n",
              "\n",
              "      <script>\n",
              "        const buttonEl =\n",
              "          document.querySelector('#df-c0039deb-a309-4eea-9fa2-d76bf9e7e756 button.colab-df-convert');\n",
              "        buttonEl.style.display =\n",
              "          google.colab.kernel.accessAllowed ? 'block' : 'none';\n",
              "\n",
              "        async function convertToInteractive(key) {\n",
              "          const element = document.querySelector('#df-c0039deb-a309-4eea-9fa2-d76bf9e7e756');\n",
              "          const dataTable =\n",
              "            await google.colab.kernel.invokeFunction('convertToInteractive',\n",
              "                                                     [key], {});\n",
              "          if (!dataTable) return;\n",
              "\n",
              "          const docLinkHtml = 'Like what you see? Visit the ' +\n",
              "            '<a target=\"_blank\" href=https://colab.research.google.com/notebooks/data_table.ipynb>data table notebook</a>'\n",
              "            + ' to learn more about interactive tables.';\n",
              "          element.innerHTML = '';\n",
              "          dataTable['output_type'] = 'display_data';\n",
              "          await google.colab.output.renderOutput(dataTable, element);\n",
              "          const docLink = document.createElement('div');\n",
              "          docLink.innerHTML = docLinkHtml;\n",
              "          element.appendChild(docLink);\n",
              "        }\n",
              "      </script>\n",
              "    </div>\n",
              "  </div>\n",
              "  "
            ]
          },
          "metadata": {},
          "execution_count": 12
        }
      ],
      "source": [
        "train_df"
      ],
      "id": "5IQ-HVX61oG6"
    },
    {
      "cell_type": "markdown",
      "metadata": {
        "id": "byWKMbcAO3s5"
      },
      "source": [
        "# Dataloader"
      ],
      "id": "byWKMbcAO3s5"
    },
    {
      "cell_type": "code",
      "execution_count": null,
      "metadata": {
        "colab": {
          "base_uri": "https://localhost:8080/",
          "height": 144,
          "referenced_widgets": [
            "c9f5ca98e22c4cdb9ab22022736defa9",
            "8c31a5e955f64c4eb47e339279f30e20",
            "6358575795014465a1b975b674cb5746",
            "261d186064a7418a8fed288b63cc75d4",
            "6d070200a7f7473ca264134567112d65",
            "04569172192b4f268f1487100d0c894e",
            "00bb9c661b524a478c81f70b094f8d1d",
            "7a688077b88141908c6d3c0c90640815",
            "470428d58dec44d4a73915cd98516049",
            "1676f35e1d3b40a2b7becd3208db90f1",
            "2814b08e28fd48bc999a6af837226857",
            "0ffdb9e771894dd5bd90ab5a60c80c26",
            "78db1966793c4414b97eb263c7e5be88",
            "a5215df5438b426cb42d948eab9e352a",
            "062ba82595714d55b2f1e778e4b57277",
            "5db72fa22ad94241996b6a5f11874d4c",
            "dff23c71fd9642668e74a2658a4a62e1",
            "577a55e367a440138ba1209cc1b673a0",
            "9b877abc40bb4b13975814839672052d",
            "d0053820a56440e6a7f164ce54f341b5",
            "de93c593315d41c6a7a6f34beb4126e9",
            "9059a06379824f0d904a588249b3ffdd",
            "8277192cf9fa4983bf4c78696f42d521",
            "d9a7d254f88647a7b5a82c7879fb5c1a",
            "70a95e5faf66443f86f03e0598ff934b",
            "9e4ceab223e84ffda158d8da0e20d3bd",
            "d5de5665e73d46138dcd305cd27a38cf",
            "fe6eb381511741289acb7d6c19f80a05",
            "c6ddff0d0c914234b105ac69fa025027",
            "50203ea2de664c1fa3f30ca7dde3c81e",
            "908ac5c7aba74ae5b5eca26fa7e64269",
            "5ac9236dffef41f29bfe57a28f3a39d4",
            "29c4a87934554590b4175048a3ae479e",
            "dc7bab312c024899880da1abab07bf43",
            "e1261acf16fe4d2b958ad6b22fdf90b5",
            "5c10df3aff2b4ca08b13b0044d0810d2",
            "c989eb6829164bfb94456e21fae60207",
            "bb5440de89c24bf3afc6a2a8a29ad057",
            "705a337fd4964c2aabad48de2c470cb4",
            "ed646cc5a15a40d7a344f8075e6cbb0b",
            "8e18eba739b440a0b40bffb495609f52",
            "9ddfe47608bd445587bf8e69e02b1577",
            "d0526bd67d8349a1950b37e478436502",
            "ca52e53fea584783aed2431de9d4b770"
          ]
        },
        "id": "WNvECFitgGai",
        "outputId": "e648c20f-8ac2-43e9-c89d-80732092f020"
      },
      "outputs": [
        {
          "output_type": "display_data",
          "data": {
            "text/plain": [
              "Downloading (…)okenizer_config.json:   0%|          | 0.00/29.0 [00:00<?, ?B/s]"
            ],
            "application/vnd.jupyter.widget-view+json": {
              "version_major": 2,
              "version_minor": 0,
              "model_id": "c9f5ca98e22c4cdb9ab22022736defa9"
            }
          },
          "metadata": {}
        },
        {
          "output_type": "display_data",
          "data": {
            "text/plain": [
              "Downloading (…)solve/main/vocab.txt:   0%|          | 0.00/213k [00:00<?, ?B/s]"
            ],
            "application/vnd.jupyter.widget-view+json": {
              "version_major": 2,
              "version_minor": 0,
              "model_id": "0ffdb9e771894dd5bd90ab5a60c80c26"
            }
          },
          "metadata": {}
        },
        {
          "output_type": "display_data",
          "data": {
            "text/plain": [
              "Downloading (…)/main/tokenizer.json:   0%|          | 0.00/436k [00:00<?, ?B/s]"
            ],
            "application/vnd.jupyter.widget-view+json": {
              "version_major": 2,
              "version_minor": 0,
              "model_id": "8277192cf9fa4983bf4c78696f42d521"
            }
          },
          "metadata": {}
        },
        {
          "output_type": "display_data",
          "data": {
            "text/plain": [
              "Downloading (…)lve/main/config.json:   0%|          | 0.00/570 [00:00<?, ?B/s]"
            ],
            "application/vnd.jupyter.widget-view+json": {
              "version_major": 2,
              "version_minor": 0,
              "model_id": "dc7bab312c024899880da1abab07bf43"
            }
          },
          "metadata": {}
        }
      ],
      "source": [
        "BERT_MODEL_NAME = 'bert-base-cased'\n",
        "tokenizer = BertTokenizer.from_pretrained(BERT_MODEL_NAME)"
      ],
      "id": "WNvECFitgGai"
    },
    {
      "cell_type": "code",
      "execution_count": null,
      "metadata": {
        "id": "MehVMZKO0SIj"
      },
      "outputs": [],
      "source": [
        "class ToxicCommentsDataset(Dataset):\n",
        "\n",
        "  def __init__(\n",
        "    self, \n",
        "    data: pd.DataFrame,\n",
        "    tokenizer: BertTokenizer,\n",
        "    max_token_len: int = 128\n",
        "  ):\n",
        "    self.tokenizer = tokenizer\n",
        "    self.data = data\n",
        "    self.max_token_len = max_token_len\n",
        "\n",
        "  def __len__(self):\n",
        "    return len(self.data)\n",
        "\n",
        "  def __getitem__(self, index: int):\n",
        "    data_row = self.data.iloc[index]\n",
        "    comments = data_row.tokens\n",
        "    labels = data_row[LABEL_COLUMNS]\n",
        "\n",
        "    encoding = self.tokenizer.encode_plus(\n",
        "        comments,\n",
        "        add_special_tokens = True,\n",
        "        max_length = self.max_token_len,\n",
        "        return_token_type_ids = False,\n",
        "        padding = \"max_length\",\n",
        "        truncation = True,\n",
        "        return_attention_mask = True,\n",
        "        return_tensors = 'pt'\n",
        "    )\n",
        "\n",
        "    return dict(\n",
        "      comments=comments, \n",
        "      input_ids=encoding[\"input_ids\"].flatten(),\n",
        "      attention_mask=encoding[\"attention_mask\"].flatten(),\n",
        "      labels=torch.FloatTensor(labels)\n",
        "    )\n"
      ],
      "id": "MehVMZKO0SIj"
    },
    {
      "cell_type": "code",
      "execution_count": null,
      "metadata": {
        "id": "C-lIXrX61Jfx"
      },
      "outputs": [],
      "source": [
        "train_dataset = ToxicCommentsDataset(train_df, tokenizer,256)\n",
        "val_dataset = ToxicCommentsDataset(val_df, tokenizer, 256)"
      ],
      "id": "C-lIXrX61Jfx"
    },
    {
      "cell_type": "code",
      "source": [],
      "metadata": {
        "id": "KYwupMLWEL8H"
      },
      "id": "KYwupMLWEL8H",
      "execution_count": null,
      "outputs": []
    },
    {
      "cell_type": "code",
      "execution_count": null,
      "metadata": {
        "colab": {
          "base_uri": "https://localhost:8080/"
        },
        "id": "yGyJn6Qqex3b",
        "outputId": "7c93daff-4dfc-4e33-8ce0-fd0773aa51d3"
      },
      "outputs": [
        {
          "output_type": "execute_result",
          "data": {
            "text/plain": [
              "dict_keys(['comments', 'input_ids', 'attention_mask', 'labels'])"
            ]
          },
          "metadata": {},
          "execution_count": 16
        }
      ],
      "source": [
        "sample_item = train_dataset[0]\n",
        "sample_item.keys()"
      ],
      "id": "yGyJn6Qqex3b"
    },
    {
      "cell_type": "code",
      "execution_count": null,
      "metadata": {
        "id": "4O7-4n1smU6a"
      },
      "outputs": [],
      "source": [
        "train_loader = DataLoader(train_dataset, batch_size=64, num_workers=4, pin_memory=True)\n",
        "val_loader = DataLoader(val_dataset, batch_size=64, num_workers=4, pin_memory=True)"
      ],
      "id": "4O7-4n1smU6a"
    },
    {
      "cell_type": "code",
      "execution_count": null,
      "metadata": {
        "colab": {
          "base_uri": "https://localhost:8080/"
        },
        "id": "Wv3D1EKl3gav",
        "outputId": "ecd3d684-baa8-4c4d-d7dc-c54c5895bc63"
      },
      "outputs": [
        {
          "output_type": "stream",
          "name": "stdout",
          "text": [
            "torch.Size([64, 256]) torch.Size([64, 256]) torch.Size([64, 6])\n",
            "{'input_ids': tensor([[  101,  5096, 10008,  ...,     0,     0,     0],\n",
            "        [  101, 26316, 11336,  ...,     0,     0,     0],\n",
            "        [  101,  1302,  2463,  ...,     0,     0,     0],\n",
            "        ...,\n",
            "        [  101,   146,  1189,  ...,     0,     0,     0],\n",
            "        [  101,  1192,  8037,  ...,  1795,  2199,   102],\n",
            "        [  101,  1109,  1440,  ...,     0,     0,     0]]), 'attention_mask': tensor([[1, 1, 1,  ..., 0, 0, 0],\n",
            "        [1, 1, 1,  ..., 0, 0, 0],\n",
            "        [1, 1, 1,  ..., 0, 0, 0],\n",
            "        ...,\n",
            "        [1, 1, 1,  ..., 0, 0, 0],\n",
            "        [1, 1, 1,  ..., 1, 1, 1],\n",
            "        [1, 1, 1,  ..., 0, 0, 0]])}\n"
          ]
        }
      ],
      "source": [
        "for x in train_loader:\n",
        "    print(x['input_ids'].shape, x['attention_mask'].shape, x['labels'].shape)\n",
        "    a = {'input_ids': x[\"input_ids\"],\n",
        "         'attention_mask': x['attention_mask']}\n",
        "    print(a)\n",
        "    break"
      ],
      "id": "Wv3D1EKl3gav"
    },
    {
      "cell_type": "markdown",
      "metadata": {
        "id": "AwW4CdoNnxuv"
      },
      "source": [
        "# model"
      ],
      "id": "AwW4CdoNnxuv"
    },
    {
      "cell_type": "code",
      "execution_count": null,
      "metadata": {
        "colab": {
          "base_uri": "https://localhost:8080/"
        },
        "id": "LnMfZdBuJ-g0",
        "outputId": "9044a11c-89e9-4c98-fa78-372102daec3e"
      },
      "outputs": [
        {
          "output_type": "stream",
          "name": "stdout",
          "text": [
            "Sample batch size:  torch.Size([64, 256])\n",
            "Sample batch input: \n",
            " tensor([[  101,  5096, 10008,  ...,     0,     0,     0],\n",
            "        [  101, 26316, 11336,  ...,     0,     0,     0],\n",
            "        [  101,  1302,  2463,  ...,     0,     0,     0],\n",
            "        ...,\n",
            "        [  101,   146,  1189,  ...,     0,     0,     0],\n",
            "        [  101,  1192,  8037,  ...,  1795,  2199,   102],\n",
            "        [  101,  1109,  1440,  ...,     0,     0,     0]])\n",
            "\n",
            "Sample label size:  torch.Size([64, 6])\n",
            "Sample label input: \n",
            " tensor([[0., 0., 0., 0., 0., 0.],\n",
            "        [0., 0., 0., 0., 0., 0.],\n",
            "        [0., 0., 0., 0., 0., 0.],\n",
            "        [0., 0., 0., 0., 0., 0.],\n",
            "        [0., 0., 0., 0., 0., 0.],\n",
            "        [0., 0., 0., 0., 0., 0.],\n",
            "        [0., 0., 0., 0., 0., 0.],\n",
            "        [0., 0., 0., 0., 0., 0.],\n",
            "        [0., 0., 0., 0., 0., 0.],\n",
            "        [0., 0., 0., 0., 0., 0.],\n",
            "        [0., 0., 0., 0., 0., 0.],\n",
            "        [0., 0., 0., 0., 0., 0.],\n",
            "        [0., 0., 0., 0., 0., 0.],\n",
            "        [0., 0., 0., 0., 0., 0.],\n",
            "        [0., 0., 0., 0., 0., 0.],\n",
            "        [0., 0., 0., 0., 0., 0.],\n",
            "        [0., 0., 0., 0., 0., 0.],\n",
            "        [0., 0., 0., 0., 0., 0.],\n",
            "        [0., 0., 0., 0., 0., 0.],\n",
            "        [0., 0., 0., 0., 0., 0.],\n",
            "        [0., 0., 0., 0., 0., 0.],\n",
            "        [0., 0., 0., 0., 0., 0.],\n",
            "        [0., 0., 0., 0., 0., 0.],\n",
            "        [0., 0., 0., 0., 0., 0.],\n",
            "        [0., 0., 0., 0., 0., 0.],\n",
            "        [0., 0., 0., 0., 0., 0.],\n",
            "        [0., 0., 0., 0., 0., 0.],\n",
            "        [0., 0., 0., 0., 0., 0.],\n",
            "        [0., 0., 0., 0., 0., 0.],\n",
            "        [0., 0., 0., 0., 0., 0.],\n",
            "        [0., 0., 0., 0., 0., 0.],\n",
            "        [1., 0., 0., 0., 0., 0.],\n",
            "        [0., 0., 0., 0., 0., 0.],\n",
            "        [0., 0., 0., 0., 0., 0.],\n",
            "        [0., 0., 0., 0., 0., 0.],\n",
            "        [0., 0., 0., 0., 0., 0.],\n",
            "        [0., 0., 0., 0., 0., 0.],\n",
            "        [1., 0., 1., 0., 0., 0.],\n",
            "        [0., 0., 0., 0., 0., 0.],\n",
            "        [0., 0., 0., 0., 0., 0.],\n",
            "        [0., 0., 0., 0., 0., 0.],\n",
            "        [1., 0., 0., 0., 0., 0.],\n",
            "        [0., 0., 0., 0., 0., 0.],\n",
            "        [0., 0., 0., 0., 0., 0.],\n",
            "        [0., 0., 0., 0., 0., 0.],\n",
            "        [0., 0., 0., 0., 0., 0.],\n",
            "        [0., 0., 0., 0., 0., 0.],\n",
            "        [0., 0., 0., 0., 0., 0.],\n",
            "        [1., 0., 1., 0., 1., 0.],\n",
            "        [0., 0., 0., 0., 0., 0.],\n",
            "        [0., 0., 0., 0., 0., 0.],\n",
            "        [0., 0., 0., 0., 0., 0.],\n",
            "        [0., 0., 0., 0., 0., 0.],\n",
            "        [0., 0., 0., 0., 0., 0.],\n",
            "        [0., 0., 0., 0., 0., 0.],\n",
            "        [0., 0., 0., 0., 0., 0.],\n",
            "        [0., 0., 0., 0., 0., 0.],\n",
            "        [0., 0., 0., 0., 0., 0.],\n",
            "        [0., 0., 0., 0., 0., 0.],\n",
            "        [0., 0., 0., 0., 0., 0.],\n",
            "        [0., 0., 0., 0., 0., 0.],\n",
            "        [0., 0., 0., 0., 0., 0.],\n",
            "        [0., 0., 0., 0., 0., 0.],\n",
            "        [0., 0., 0., 0., 0., 0.]])\n"
          ]
        }
      ],
      "source": [
        "# check our batches\n",
        "dataiter = iter(train_loader)\n",
        "x = next(dataiter)\n",
        "\n",
        "print('Sample batch size: ', x['input_ids'].size())   # batch_size, seq_length\n",
        "print('Sample batch input: \\n', x['input_ids'])\n",
        "print()\n",
        "print('Sample label size: ', x['labels'].size())   # batch_size\n",
        "print('Sample label input: \\n', x['labels'])"
      ],
      "id": "LnMfZdBuJ-g0"
    },
    {
      "cell_type": "code",
      "execution_count": null,
      "metadata": {
        "id": "OO1-AYIbKJDn"
      },
      "outputs": [],
      "source": [
        "\n",
        "from torch import nn\n",
        "from torch.nn import functional as F\n",
        "\n",
        "class BERTClassifier(nn.Module):\n",
        "    def __init__(self):\n",
        "        super(BERTClassifier, self).__init__()\n",
        "        self.bert = BertModel.from_pretrained(BERT_MODEL_NAME, return_dict=True)\n",
        "        self.classifier = nn.Linear(self.bert.config.hidden_size, 6)\n",
        "        self.sigmoid = nn.Sigmoid()\n",
        "\n",
        "    def forward(self, X_batch):\n",
        "        output = self.bert(X_batch[\"input_ids\"], attention_mask=X_batch[\"attention_mask\"])\n",
        "        output = self.classifier(output.pooler_output)\n",
        "        output = torch.sigmoid(output)\n",
        "\n",
        "        return output"
      ],
      "id": "OO1-AYIbKJDn"
    },
    {
      "cell_type": "code",
      "execution_count": null,
      "metadata": {
        "colab": {
          "base_uri": "https://localhost:8080/",
          "height": 118,
          "referenced_widgets": [
            "282af34868694ad8af3b6f30208564f3",
            "029eaf1344214b2792ed016a7ad6c977",
            "b1418b1d74ad424b9eb24f646f7082ec",
            "a2ca4ffc202f4bc08e549387e76415cd",
            "fef31a342d014fabb0e144a78e44aebf",
            "da21fc04cb9e45629617e5937eef4a55",
            "4943df7890b24c8b971aa1b56a677464",
            "a5da9852f9334f17aef9ad6c5ac72c54",
            "455dbac1a81542e681a4765f6a8c9224",
            "9ddfa6c872ac4f9b8934e5306c12945f",
            "4e2a8d5e2d944d6d9f532d414e160b61"
          ]
        },
        "id": "53VReBCdgUtK",
        "outputId": "beb0c041-a9f8-45fd-bd18-9c4e6acf3f13"
      },
      "outputs": [
        {
          "output_type": "display_data",
          "data": {
            "text/plain": [
              "Downloading (…)\"pytorch_model.bin\";:   0%|          | 0.00/436M [00:00<?, ?B/s]"
            ],
            "application/vnd.jupyter.widget-view+json": {
              "version_major": 2,
              "version_minor": 0,
              "model_id": "282af34868694ad8af3b6f30208564f3"
            }
          },
          "metadata": {}
        },
        {
          "output_type": "stream",
          "name": "stderr",
          "text": [
            "Some weights of the model checkpoint at bert-base-cased were not used when initializing BertModel: ['cls.predictions.transform.dense.bias', 'cls.seq_relationship.weight', 'cls.predictions.transform.LayerNorm.weight', 'cls.predictions.bias', 'cls.seq_relationship.bias', 'cls.predictions.transform.LayerNorm.bias', 'cls.predictions.transform.dense.weight', 'cls.predictions.decoder.weight']\n",
            "- This IS expected if you are initializing BertModel from the checkpoint of a model trained on another task or with another architecture (e.g. initializing a BertForSequenceClassification model from a BertForPreTraining model).\n",
            "- This IS NOT expected if you are initializing BertModel from the checkpoint of a model that you expect to be exactly identical (initializing a BertForSequenceClassification model from a BertForSequenceClassification model).\n"
          ]
        }
      ],
      "source": [
        "model = BERTClassifier()"
      ],
      "id": "53VReBCdgUtK"
    },
    {
      "cell_type": "code",
      "execution_count": null,
      "metadata": {
        "id": "gjLpZsOzOXMj"
      },
      "outputs": [],
      "source": [
        "# %load_ext tensorboard"
      ],
      "id": "gjLpZsOzOXMj"
    },
    {
      "cell_type": "code",
      "execution_count": null,
      "metadata": {
        "id": "suzRMZPyQucM"
      },
      "outputs": [],
      "source": [
        "# %tensorboard --logdir runs"
      ],
      "id": "suzRMZPyQucM"
    },
    {
      "cell_type": "code",
      "execution_count": null,
      "metadata": {
        "id": "uoZhdgb-QxL7"
      },
      "outputs": [],
      "source": [
        "import tensorflow as tf\n",
        "import tensorboard as tb\n",
        "tf.io.gfile = tb.compat.tensorflow_stub.io.gfile"
      ],
      "id": "uoZhdgb-QxL7"
    },
    {
      "cell_type": "code",
      "execution_count": null,
      "metadata": {
        "id": "9FQxjoXZNgu1"
      },
      "outputs": [],
      "source": [
        "from torch.utils.tensorboard import SummaryWriter\n",
        "writer = SummaryWriter('runs/toxic_comment_GloVe')"
      ],
      "id": "9FQxjoXZNgu1"
    },
    {
      "cell_type": "code",
      "source": [
        "from sklearn.metrics import accuracy_score\n",
        "import gc\n",
        "\n",
        "\n",
        "def CalcValLossAndAccuracy(model, loss_fn, val_loader):\n",
        "    target_names = ['toxic', 'severe_toxic', 'obscene', 'threat','insult', 'identity_hate']\n",
        "    with torch.no_grad():\n",
        "        Y_shuffled, Y_preds, losses = [],[],[]\n",
        "        for batch in tqdm(val_loader):\n",
        "            X = { 'input_ids': batch[\"input_ids\"].to(device),\n",
        "                  'attention_mask': batch['attention_mask'].to(device)}\n",
        "\n",
        "            Y = batch['labels'].to(device)\n",
        "\n",
        "            preds = model(X)\n",
        "\n",
        "            Y = Y.to(torch.float32)\n",
        "            loss = loss_fn(preds, Y)\n",
        "            losses.append(loss.item())\n",
        "\n",
        "            Y_shuffled.append(Y)\n",
        "            Y_preds.append(preds)\n",
        "\n",
        "            del X, Y, loss\n",
        "            \n",
        "        Y_shuffled = torch.cat(Y_shuffled)\n",
        "        Y_preds = torch.cat(Y_preds)\n",
        "\n",
        "\n",
        "        out = (Y_preds > 0.5).float() * 1\n",
        "        tns, fps, fns, tps = 0, 0, 0, 0\n",
        "\n",
        "        for i in range(6):\n",
        "          tn, fp, fn, tp = confusion_matrix(Y_shuffled[:,i].cpu(), \n",
        "                                            out[:, i].cpu()).ravel()\n",
        "\n",
        "          tns += tn\n",
        "          fps += fp\n",
        "          fns += fn\n",
        "          tps += tp\n",
        "\n",
        "          del tn, fp, fn, tp\n",
        "\n",
        "        precision = tps / (tps + fps)\n",
        "        recall = tps / (tps + fns)\n",
        "        f1 = 2 * (precision * recall) / (precision + recall)\n",
        "\n",
        "        auc = MultilabelAUROC(num_labels=6, average=\"macro\", thresholds=None).to(device)\n",
        "\n",
        "        print(\"Valid Loss : {:.3f} | Valid Acc : {:.3f} | Valid F1 : {:.3f} | Valid AUC : {:.3f}\" .format(\n",
        "            torch.tensor(losses).mean(), (tps+tns)/(tns+fps+fns+tps), f1, auc(out, Y_shuffled.to(torch.long))))\n",
        "  \n",
        "        del precision, recall\n",
        "\n",
        "        return Y_shuffled, out, f1, auc(out, Y_shuffled.to(torch.long)), torch.tensor(losses).mean(), (tps+tns)/(tns+fps+fns+tps)\n",
        "\n",
        "def TrainModel(model, loss_fn, optimizer, train_loader, val_loader, epochs=10, patient=3):\n",
        "\n",
        "    epoch_tr_loss, epoch_vl_loss, epoch_tr_acc, epoch_vl_acc = [], [], [], []\n",
        "    epoch_tr_f1, epoch_vl_f1, epoch_tr_auc, epoch_vl_auc = [], [], [], []\n",
        "\n",
        "    best_model = 100\n",
        "    patient_counter = 0\n",
        "    for i in range(1, epochs+1):\n",
        "        print(\"Epochs : {}\".format(i))\n",
        "        Y_shuffled, Y_preds, losses= [],[],[]\n",
        "        for batch in tqdm(train_loader):\n",
        "            X = { 'input_ids': batch[\"input_ids\"].to(device),\n",
        "                  'attention_mask': batch['attention_mask'].to(device)}\n",
        "\n",
        "            X, Y = X, batch['labels'].to(device)\n",
        "\n",
        "            preds = model(X)\n",
        "            Y = Y.to(torch.float32)\n",
        "\n",
        "            loss = loss_fn(preds, Y)\n",
        "            losses.append(loss.item())\n",
        "\n",
        "            Y_shuffled.append(Y)\n",
        "            Y_preds.append(preds)\n",
        "\n",
        "            optimizer.zero_grad()\n",
        "            loss.backward()\n",
        "            optimizer.step()\n",
        "\n",
        "            del X, Y, loss, preds\n",
        "\n",
        "        Y_shuffled = torch.cat(Y_shuffled)\n",
        "        Y_preds = torch.cat(Y_preds)\n",
        "\n",
        "\n",
        "        tns, fps, fns, tps = 0, 0, 0, 0\n",
        "\n",
        "        out = (Y_preds > 0.5).float() * 1\n",
        "        for i in range(6):\n",
        "          tn, fp, fn, tp = confusion_matrix(Y_shuffled[:,i].cpu().detach().numpy(), \n",
        "                                            out[:, i].cpu().detach().numpy()).ravel()\n",
        "\n",
        "          tns += tn\n",
        "          fps += fp\n",
        "          fns += fn\n",
        "          tps += tp\n",
        "\n",
        "          del tn, fp, fn, tp\n",
        "        precision = tps / (tps + fps)\n",
        "        recall = tps / (tps + fns)\n",
        "        f1 = 2 * (precision * recall) / (precision + recall)\n",
        "\n",
        "        auc = MultilabelAUROC(num_labels=6, average=\"macro\", thresholds=None).to(device)\n",
        "\n",
        "        print(\"Train Loss : {:.3f} | Train Acc : {:.3f} | Train F1 : {:.3f} | Train AUC : {:.3f}\" .format(\n",
        "            torch.tensor(losses).mean(), (tps+tns)/(tns+fps+fns+tps), f1, auc(out, Y_shuffled.to(torch.long))))\n",
        "\n",
        "        \n",
        "        _, _, val_f1, val_auc, val_loss, val_acc = CalcValLossAndAccuracy(model, loss_fn, val_loader)\n",
        "        print(\"-\"*80)\n",
        "        \n",
        "        if val_loss <= best_model:\n",
        "          best_model = val_loss\n",
        "          patient_counter = 0\n",
        "          torch.save(model.state_dict(), './drive/MyDrive/NLP_project/TCC_BERT-model.pt')\n",
        "        else:\n",
        "          patient_counter += 1\n",
        "          print(f\"The Val loss does not improve with {patient_counter} patient counter\")\n",
        "\n",
        "        epoch_tr_loss.append(torch.tensor(losses).mean())\n",
        "        epoch_tr_acc.append((tps+tns)/(tns+fps+fns+tps))\n",
        "        epoch_vl_loss.append(val_loss)\n",
        "        epoch_vl_acc.append(val_acc)\n",
        "\n",
        "        epoch_tr_f1.append(f1)\n",
        "        epoch_tr_auc.append(auc(out, Y_shuffled.to(torch.long)))\n",
        "        epoch_vl_f1.append(val_f1)\n",
        "        epoch_vl_auc.append(val_auc)\n",
        "\n",
        "        del precision, recall, f1\n",
        "\n",
        "\n",
        "        if patient_counter == patient:\n",
        "           break\n",
        "      \n",
        "    return [epoch_tr_loss, epoch_vl_loss, epoch_tr_acc, epoch_vl_acc,  epoch_tr_f1, epoch_vl_f1, epoch_tr_auc, epoch_vl_auc]"
      ],
      "metadata": {
        "id": "4raCTRqHLIQJ"
      },
      "id": "4raCTRqHLIQJ",
      "execution_count": null,
      "outputs": []
    },
    {
      "cell_type": "code",
      "execution_count": null,
      "metadata": {
        "colab": {
          "base_uri": "https://localhost:8080/"
        },
        "id": "jUj6N94uE-XS",
        "outputId": "60a917a6-ff81-4036-9177-ae54de019f0c"
      },
      "outputs": [
        {
          "output_type": "stream",
          "name": "stdout",
          "text": [
            "Epochs : 1\n"
          ]
        },
        {
          "output_type": "stream",
          "name": "stderr",
          "text": [
            "100%|██████████| 2369/2369 [23:48<00:00,  1.66it/s]\n"
          ]
        },
        {
          "output_type": "stream",
          "name": "stdout",
          "text": [
            "Train Loss : 0.077 | Train Acc : 0.976 | Train F1 : 0.629 | Train AUC : 0.658\n"
          ]
        },
        {
          "output_type": "stream",
          "name": "stderr",
          "text": [
            "100%|██████████| 125/125 [00:24<00:00,  5.09it/s]\n"
          ]
        },
        {
          "output_type": "stream",
          "name": "stdout",
          "text": [
            "Valid Loss : 0.048 | Valid Acc : 0.983 | Valid F1 : 0.742 | Valid AUC : 0.685\n",
            "--------------------------------------------------------------------------------\n",
            "Epochs : 2\n"
          ]
        },
        {
          "output_type": "stream",
          "name": "stderr",
          "text": [
            "100%|██████████| 2369/2369 [23:47<00:00,  1.66it/s]\n"
          ]
        },
        {
          "output_type": "stream",
          "name": "stdout",
          "text": [
            "Train Loss : 0.041 | Train Acc : 0.985 | Train F1 : 0.779 | Train AUC : 0.731\n"
          ]
        },
        {
          "output_type": "stream",
          "name": "stderr",
          "text": [
            "100%|██████████| 125/125 [00:24<00:00,  5.09it/s]\n"
          ]
        },
        {
          "output_type": "stream",
          "name": "stdout",
          "text": [
            "Valid Loss : 0.045 | Valid Acc : 0.983 | Valid F1 : 0.758 | Valid AUC : 0.719\n",
            "--------------------------------------------------------------------------------\n",
            "Epochs : 3\n"
          ]
        },
        {
          "output_type": "stream",
          "name": "stderr",
          "text": [
            "100%|██████████| 2369/2369 [23:49<00:00,  1.66it/s]\n"
          ]
        },
        {
          "output_type": "stream",
          "name": "stdout",
          "text": [
            "Train Loss : 0.033 | Train Acc : 0.988 | Train F1 : 0.823 | Train AUC : 0.771\n"
          ]
        },
        {
          "output_type": "stream",
          "name": "stderr",
          "text": [
            "100%|██████████| 125/125 [00:24<00:00,  5.09it/s]\n"
          ]
        },
        {
          "output_type": "stream",
          "name": "stdout",
          "text": [
            "Valid Loss : 0.047 | Valid Acc : 0.983 | Valid F1 : 0.757 | Valid AUC : 0.740\n",
            "--------------------------------------------------------------------------------\n",
            "The Val loss does not improve with 1 patient counter\n",
            "Epochs : 4\n"
          ]
        },
        {
          "output_type": "stream",
          "name": "stderr",
          "text": [
            "100%|██████████| 2369/2369 [23:48<00:00,  1.66it/s]\n"
          ]
        },
        {
          "output_type": "stream",
          "name": "stdout",
          "text": [
            "Train Loss : 0.025 | Train Acc : 0.991 | Train F1 : 0.871 | Train AUC : 0.820\n"
          ]
        },
        {
          "output_type": "stream",
          "name": "stderr",
          "text": [
            "100%|██████████| 125/125 [00:24<00:00,  5.09it/s]\n"
          ]
        },
        {
          "output_type": "stream",
          "name": "stdout",
          "text": [
            "Valid Loss : 0.052 | Valid Acc : 0.983 | Valid F1 : 0.737 | Valid AUC : 0.733\n",
            "--------------------------------------------------------------------------------\n",
            "The Val loss does not improve with 2 patient counter\n",
            "Epochs : 5\n"
          ]
        },
        {
          "output_type": "stream",
          "name": "stderr",
          "text": [
            "100%|██████████| 2369/2369 [23:48<00:00,  1.66it/s]\n"
          ]
        },
        {
          "output_type": "stream",
          "name": "stdout",
          "text": [
            "Train Loss : 0.021 | Train Acc : 0.993 | Train F1 : 0.898 | Train AUC : 0.864\n"
          ]
        },
        {
          "output_type": "stream",
          "name": "stderr",
          "text": [
            "100%|██████████| 125/125 [00:24<00:00,  5.08it/s]\n"
          ]
        },
        {
          "output_type": "stream",
          "name": "stdout",
          "text": [
            "Valid Loss : 0.059 | Valid Acc : 0.982 | Valid F1 : 0.727 | Valid AUC : 0.745\n",
            "--------------------------------------------------------------------------------\n",
            "The Val loss does not improve with 3 patient counter\n"
          ]
        }
      ],
      "source": [
        "from torch.optim import Adam\n",
        "from transformers import logging\n",
        "logging.set_verbosity_error()\n",
        "\n",
        "epochs = 10\n",
        "learning_rate = 1e-6 * 5\n",
        "\n",
        "loss_fn = torch.nn.BCELoss().to(device)\n",
        "model = BERTClassifier().to(device)\n",
        "optimizer = Adam(model.parameters(), lr=learning_rate)\n",
        "\n",
        "graph = TrainModel(model, \n",
        "                   loss_fn, \n",
        "                   optimizer, \n",
        "                   train_loader, \n",
        "                   val_loader, \n",
        "                   epochs)"
      ],
      "id": "jUj6N94uE-XS"
    },
    {
      "cell_type": "code",
      "execution_count": null,
      "metadata": {
        "id": "wCTrOhOXaHCM",
        "colab": {
          "base_uri": "https://localhost:8080/"
        },
        "outputId": "80aa2d12-175f-4378-d520-469798872c59"
      },
      "outputs": [
        {
          "output_type": "execute_result",
          "data": {
            "text/plain": [
              "<All keys matched successfully>"
            ]
          },
          "metadata": {},
          "execution_count": 32
        }
      ],
      "source": [
        "model.load_state_dict(torch.load('./drive/MyDrive/NLP_project/TCC_BERT-model.pt'))"
      ],
      "id": "wCTrOhOXaHCM"
    },
    {
      "cell_type": "markdown",
      "metadata": {
        "id": "Ff7rikuDNT1r"
      },
      "source": [
        "# Test"
      ],
      "id": "Ff7rikuDNT1r"
    },
    {
      "cell_type": "code",
      "execution_count": null,
      "metadata": {
        "id": "Rw0anYH1Eya-"
      },
      "outputs": [],
      "source": [
        "test = pd.read_csv('./drive/MyDrive/NLP_project/test_tokenized.csv')\n",
        "test.dropna(inplace=True)"
      ],
      "id": "Rw0anYH1Eya-"
    },
    {
      "cell_type": "code",
      "execution_count": null,
      "metadata": {
        "id": "YXTu3uyoKpGT"
      },
      "outputs": [],
      "source": [
        "test_dataset = ToxicCommentsDataset(test, tokenizer,256)\n",
        "test_loader = DataLoader(test_dataset, batch_size=64, num_workers=4, pin_memory=True)\n"
      ],
      "id": "YXTu3uyoKpGT"
    },
    {
      "cell_type": "code",
      "execution_count": null,
      "metadata": {
        "id": "3qrmtu6XNn4z",
        "colab": {
          "base_uri": "https://localhost:8080/"
        },
        "outputId": "fb770bd5-0f7f-4b1c-f8a7-40ff701c9763"
      },
      "outputs": [
        {
          "output_type": "stream",
          "name": "stderr",
          "text": [
            "100%|██████████| 993/993 [03:12<00:00,  5.15it/s]\n"
          ]
        },
        {
          "output_type": "stream",
          "name": "stdout",
          "text": [
            "Valid Loss : 0.069 | Valid Acc : 0.971 | Valid F1 : 0.659 | Valid AUC : 0.724\n",
            "0\n",
            "5184 4234\n",
            "905 53228\n",
            "1\n",
            "87 90\n",
            "280 63094\n",
            "2\n",
            "2826 1517\n",
            "864 58344\n",
            "3\n",
            "0 0\n",
            "211 63340\n",
            "4\n",
            "2335 1216\n",
            "1092 58908\n",
            "5\n",
            "195 50\n",
            "517 62789\n",
            "----------------------------------------\n",
            "10627 7107\n",
            "3869 359703\n"
          ]
        }
      ],
      "source": [
        "loss_fn = torch.nn.BCELoss().to(device)\n",
        "model.to(device)\n",
        "pred, true, _, _, _, _= CalcValLossAndAccuracy(model, loss_fn, test_loader)\n",
        "\n",
        "tns, fps, fns, tps = 0, 0, 0, 0\n",
        "for i in range(6):\n",
        "  tn, fp, fn, tp = confusion_matrix(pred[:,i].cpu(), \n",
        "                                    true[:, i].cpu()).ravel()\n",
        "\n",
        "  tns += tn\n",
        "  fps += fp\n",
        "  fns += fn\n",
        "  tps += tp\n",
        "  print(i)\n",
        "  print(tp, fp)\n",
        "  print(fn, tn)\n",
        "\n",
        "  del tn, fp, fn, tp\n",
        "print('-'*40)\n",
        "print(tps, fps)\n",
        "print(fns, tns)"
      ],
      "id": "3qrmtu6XNn4z"
    },
    {
      "cell_type": "code",
      "execution_count": null,
      "metadata": {
        "id": "BCNjBwWNohI1",
        "colab": {
          "base_uri": "https://localhost:8080/"
        },
        "outputId": "5edaf09e-53ea-4e7f-d6dc-eca0b11a09ab"
      },
      "outputs": [
        {
          "output_type": "stream",
          "name": "stdout",
          "text": [
            "0.60, 0.73, 0.66\n"
          ]
        }
      ],
      "source": [
        "precision = tps / (tps + fps)\n",
        "recall = tps / (tps + fns)\n",
        "f1 = 2 * (precision * recall) / (precision + recall)\n",
        "\n",
        "print(\"{:.2f}, {:.2f}, {:.2f}\".format(precision, recall, f1))"
      ],
      "id": "BCNjBwWNohI1"
    },
    {
      "cell_type": "code",
      "execution_count": null,
      "metadata": {
        "id": "DGyI01NNDz4h"
      },
      "outputs": [],
      "source": [
        "def get_sigle_prediciton(model, val_loader):\n",
        "  target_names = ['toxic', 'severe_toxic', 'obscene', 'threat','insult', 'identity_hate']\n",
        "  with torch.no_grad():\n",
        "        for batch in val_loader:\n",
        "            X = { 'input_ids': batch[\"input_ids\"].to(device),\n",
        "                  'attention_mask': batch['attention_mask'].to(device)}\n",
        "\n",
        "            X, Y = X, batch['labels'].to(device)\n",
        "\n",
        "            preds = model(X)\n",
        "\n",
        "\n",
        "  return preds, Y\n",
        "      \n",
        "def get_prediction(comment):\n",
        "  test_dataset = ToxicCommentsDataset(comment, tokenizer,256)\n",
        "  test_aloader = DataLoader(test_dataset, batch_size=64, num_workers=4, pin_memory=True)\n",
        "\n",
        "  pred, true = get_sigle_prediciton(model, test_aloader)\n",
        "\n",
        "  return pred, true"
      ],
      "id": "DGyI01NNDz4h"
    },
    {
      "cell_type": "code",
      "execution_count": null,
      "metadata": {
        "id": "WfBddH6DEiE_",
        "colab": {
          "base_uri": "https://localhost:8080/",
          "height": 411
        },
        "outputId": "992b2dfe-e267-459b-f904-65b8c84fed21"
      },
      "outputs": [
        {
          "output_type": "execute_result",
          "data": {
            "text/plain": [
              "                                                  tokens  toxic  severe_toxic  \\\n",
              "24                   DJ Robinson gay hell suck dick much    1.0           0.0   \n",
              "138                              HE IS A GHAY ASS FUCKER    1.0           0.0   \n",
              "159    Random Deletion Deleted xanax bar fuck mah nig...    1.0           0.0   \n",
              "200    WARNING This first warning If stop gay raped i...    1.0           0.0   \n",
              "331               willeys u male willey u likley gay lol    1.0           0.0   \n",
              "...                                                  ...    ...           ...   \n",
              "63408  ZANGIEF IS NOT GAY HEY LINDSAY DUDE IS YOU ARE...    1.0           0.0   \n",
              "63503  WTF Who F put userbox saying I faggot I I supp...    1.0           0.0   \n",
              "63638  b style font size px CALVIN IS A FUCKING NIGGE...    1.0           1.0   \n",
              "63639  I meet one day stab death prepared say goodbye...    1.0           1.0   \n",
              "63723  His career aspiration become Christian Preache...    1.0           0.0   \n",
              "\n",
              "       obscene  threat  insult  identity_hate  \n",
              "24         1.0     0.0     1.0            1.0  \n",
              "138        1.0     0.0     1.0            1.0  \n",
              "159        1.0     0.0     1.0            1.0  \n",
              "200        1.0     0.0     1.0            1.0  \n",
              "331        0.0     0.0     0.0            1.0  \n",
              "...        ...     ...     ...            ...  \n",
              "63408      1.0     0.0     1.0            1.0  \n",
              "63503      1.0     0.0     1.0            1.0  \n",
              "63638      1.0     0.0     1.0            1.0  \n",
              "63639      1.0     1.0     1.0            1.0  \n",
              "63723      1.0     0.0     1.0            1.0  \n",
              "\n",
              "[712 rows x 7 columns]"
            ],
            "text/html": [
              "\n",
              "  <div id=\"df-2b273cb0-6490-4229-a639-03054753f418\">\n",
              "    <div class=\"colab-df-container\">\n",
              "      <div>\n",
              "<style scoped>\n",
              "    .dataframe tbody tr th:only-of-type {\n",
              "        vertical-align: middle;\n",
              "    }\n",
              "\n",
              "    .dataframe tbody tr th {\n",
              "        vertical-align: top;\n",
              "    }\n",
              "\n",
              "    .dataframe thead th {\n",
              "        text-align: right;\n",
              "    }\n",
              "</style>\n",
              "<table border=\"1\" class=\"dataframe\">\n",
              "  <thead>\n",
              "    <tr style=\"text-align: right;\">\n",
              "      <th></th>\n",
              "      <th>tokens</th>\n",
              "      <th>toxic</th>\n",
              "      <th>severe_toxic</th>\n",
              "      <th>obscene</th>\n",
              "      <th>threat</th>\n",
              "      <th>insult</th>\n",
              "      <th>identity_hate</th>\n",
              "    </tr>\n",
              "  </thead>\n",
              "  <tbody>\n",
              "    <tr>\n",
              "      <th>24</th>\n",
              "      <td>DJ Robinson gay hell suck dick much</td>\n",
              "      <td>1.0</td>\n",
              "      <td>0.0</td>\n",
              "      <td>1.0</td>\n",
              "      <td>0.0</td>\n",
              "      <td>1.0</td>\n",
              "      <td>1.0</td>\n",
              "    </tr>\n",
              "    <tr>\n",
              "      <th>138</th>\n",
              "      <td>HE IS A GHAY ASS FUCKER</td>\n",
              "      <td>1.0</td>\n",
              "      <td>0.0</td>\n",
              "      <td>1.0</td>\n",
              "      <td>0.0</td>\n",
              "      <td>1.0</td>\n",
              "      <td>1.0</td>\n",
              "    </tr>\n",
              "    <tr>\n",
              "      <th>159</th>\n",
              "      <td>Random Deletion Deleted xanax bar fuck mah nig...</td>\n",
              "      <td>1.0</td>\n",
              "      <td>0.0</td>\n",
              "      <td>1.0</td>\n",
              "      <td>0.0</td>\n",
              "      <td>1.0</td>\n",
              "      <td>1.0</td>\n",
              "    </tr>\n",
              "    <tr>\n",
              "      <th>200</th>\n",
              "      <td>WARNING This first warning If stop gay raped i...</td>\n",
              "      <td>1.0</td>\n",
              "      <td>0.0</td>\n",
              "      <td>1.0</td>\n",
              "      <td>0.0</td>\n",
              "      <td>1.0</td>\n",
              "      <td>1.0</td>\n",
              "    </tr>\n",
              "    <tr>\n",
              "      <th>331</th>\n",
              "      <td>willeys u male willey u likley gay lol</td>\n",
              "      <td>1.0</td>\n",
              "      <td>0.0</td>\n",
              "      <td>0.0</td>\n",
              "      <td>0.0</td>\n",
              "      <td>0.0</td>\n",
              "      <td>1.0</td>\n",
              "    </tr>\n",
              "    <tr>\n",
              "      <th>...</th>\n",
              "      <td>...</td>\n",
              "      <td>...</td>\n",
              "      <td>...</td>\n",
              "      <td>...</td>\n",
              "      <td>...</td>\n",
              "      <td>...</td>\n",
              "      <td>...</td>\n",
              "    </tr>\n",
              "    <tr>\n",
              "      <th>63408</th>\n",
              "      <td>ZANGIEF IS NOT GAY HEY LINDSAY DUDE IS YOU ARE...</td>\n",
              "      <td>1.0</td>\n",
              "      <td>0.0</td>\n",
              "      <td>1.0</td>\n",
              "      <td>0.0</td>\n",
              "      <td>1.0</td>\n",
              "      <td>1.0</td>\n",
              "    </tr>\n",
              "    <tr>\n",
              "      <th>63503</th>\n",
              "      <td>WTF Who F put userbox saying I faggot I I supp...</td>\n",
              "      <td>1.0</td>\n",
              "      <td>0.0</td>\n",
              "      <td>1.0</td>\n",
              "      <td>0.0</td>\n",
              "      <td>1.0</td>\n",
              "      <td>1.0</td>\n",
              "    </tr>\n",
              "    <tr>\n",
              "      <th>63638</th>\n",
              "      <td>b style font size px CALVIN IS A FUCKING NIGGE...</td>\n",
              "      <td>1.0</td>\n",
              "      <td>1.0</td>\n",
              "      <td>1.0</td>\n",
              "      <td>0.0</td>\n",
              "      <td>1.0</td>\n",
              "      <td>1.0</td>\n",
              "    </tr>\n",
              "    <tr>\n",
              "      <th>63639</th>\n",
              "      <td>I meet one day stab death prepared say goodbye...</td>\n",
              "      <td>1.0</td>\n",
              "      <td>1.0</td>\n",
              "      <td>1.0</td>\n",
              "      <td>1.0</td>\n",
              "      <td>1.0</td>\n",
              "      <td>1.0</td>\n",
              "    </tr>\n",
              "    <tr>\n",
              "      <th>63723</th>\n",
              "      <td>His career aspiration become Christian Preache...</td>\n",
              "      <td>1.0</td>\n",
              "      <td>0.0</td>\n",
              "      <td>1.0</td>\n",
              "      <td>0.0</td>\n",
              "      <td>1.0</td>\n",
              "      <td>1.0</td>\n",
              "    </tr>\n",
              "  </tbody>\n",
              "</table>\n",
              "<p>712 rows × 7 columns</p>\n",
              "</div>\n",
              "      <button class=\"colab-df-convert\" onclick=\"convertToInteractive('df-2b273cb0-6490-4229-a639-03054753f418')\"\n",
              "              title=\"Convert this dataframe to an interactive table.\"\n",
              "              style=\"display:none;\">\n",
              "        \n",
              "  <svg xmlns=\"http://www.w3.org/2000/svg\" height=\"24px\"viewBox=\"0 0 24 24\"\n",
              "       width=\"24px\">\n",
              "    <path d=\"M0 0h24v24H0V0z\" fill=\"none\"/>\n",
              "    <path d=\"M18.56 5.44l.94 2.06.94-2.06 2.06-.94-2.06-.94-.94-2.06-.94 2.06-2.06.94zm-11 1L8.5 8.5l.94-2.06 2.06-.94-2.06-.94L8.5 2.5l-.94 2.06-2.06.94zm10 10l.94 2.06.94-2.06 2.06-.94-2.06-.94-.94-2.06-.94 2.06-2.06.94z\"/><path d=\"M17.41 7.96l-1.37-1.37c-.4-.4-.92-.59-1.43-.59-.52 0-1.04.2-1.43.59L10.3 9.45l-7.72 7.72c-.78.78-.78 2.05 0 2.83L4 21.41c.39.39.9.59 1.41.59.51 0 1.02-.2 1.41-.59l7.78-7.78 2.81-2.81c.8-.78.8-2.07 0-2.86zM5.41 20L4 18.59l7.72-7.72 1.47 1.35L5.41 20z\"/>\n",
              "  </svg>\n",
              "      </button>\n",
              "      \n",
              "  <style>\n",
              "    .colab-df-container {\n",
              "      display:flex;\n",
              "      flex-wrap:wrap;\n",
              "      gap: 12px;\n",
              "    }\n",
              "\n",
              "    .colab-df-convert {\n",
              "      background-color: #E8F0FE;\n",
              "      border: none;\n",
              "      border-radius: 50%;\n",
              "      cursor: pointer;\n",
              "      display: none;\n",
              "      fill: #1967D2;\n",
              "      height: 32px;\n",
              "      padding: 0 0 0 0;\n",
              "      width: 32px;\n",
              "    }\n",
              "\n",
              "    .colab-df-convert:hover {\n",
              "      background-color: #E2EBFA;\n",
              "      box-shadow: 0px 1px 2px rgba(60, 64, 67, 0.3), 0px 1px 3px 1px rgba(60, 64, 67, 0.15);\n",
              "      fill: #174EA6;\n",
              "    }\n",
              "\n",
              "    [theme=dark] .colab-df-convert {\n",
              "      background-color: #3B4455;\n",
              "      fill: #D2E3FC;\n",
              "    }\n",
              "\n",
              "    [theme=dark] .colab-df-convert:hover {\n",
              "      background-color: #434B5C;\n",
              "      box-shadow: 0px 1px 3px 1px rgba(0, 0, 0, 0.15);\n",
              "      filter: drop-shadow(0px 1px 2px rgba(0, 0, 0, 0.3));\n",
              "      fill: #FFFFFF;\n",
              "    }\n",
              "  </style>\n",
              "\n",
              "      <script>\n",
              "        const buttonEl =\n",
              "          document.querySelector('#df-2b273cb0-6490-4229-a639-03054753f418 button.colab-df-convert');\n",
              "        buttonEl.style.display =\n",
              "          google.colab.kernel.accessAllowed ? 'block' : 'none';\n",
              "\n",
              "        async function convertToInteractive(key) {\n",
              "          const element = document.querySelector('#df-2b273cb0-6490-4229-a639-03054753f418');\n",
              "          const dataTable =\n",
              "            await google.colab.kernel.invokeFunction('convertToInteractive',\n",
              "                                                     [key], {});\n",
              "          if (!dataTable) return;\n",
              "\n",
              "          const docLinkHtml = 'Like what you see? Visit the ' +\n",
              "            '<a target=\"_blank\" href=https://colab.research.google.com/notebooks/data_table.ipynb>data table notebook</a>'\n",
              "            + ' to learn more about interactive tables.';\n",
              "          element.innerHTML = '';\n",
              "          dataTable['output_type'] = 'display_data';\n",
              "          await google.colab.output.renderOutput(dataTable, element);\n",
              "          const docLink = document.createElement('div');\n",
              "          docLink.innerHTML = docLinkHtml;\n",
              "          element.appendChild(docLink);\n",
              "        }\n",
              "      </script>\n",
              "    </div>\n",
              "  </div>\n",
              "  "
            ]
          },
          "metadata": {},
          "execution_count": 39
        }
      ],
      "source": [
        "test[test['identity_hate'] == 1]"
      ],
      "id": "WfBddH6DEiE_"
    },
    {
      "cell_type": "code",
      "execution_count": null,
      "metadata": {
        "id": "b6uiQ76vhRpB",
        "colab": {
          "base_uri": "https://localhost:8080/",
          "height": 34
        },
        "outputId": "e68a13da-3225-41d9-d216-231eacbad958"
      },
      "outputs": [
        {
          "output_type": "execute_result",
          "data": {
            "text/plain": [
              "'willeys u male willey u likley gay lol'"
            ],
            "application/vnd.google.colaboratory.intrinsic+json": {
              "type": "string"
            }
          },
          "metadata": {},
          "execution_count": 40
        }
      ],
      "source": [
        "test.iloc[test.index == 331].tokens.values[0]"
      ],
      "id": "b6uiQ76vhRpB"
    },
    {
      "cell_type": "code",
      "execution_count": null,
      "metadata": {
        "id": "rkPxaQai4kEF",
        "colab": {
          "base_uri": "https://localhost:8080/"
        },
        "outputId": "152cdd08-e29c-496f-b276-20fe4aa35015"
      },
      "outputs": [
        {
          "output_type": "stream",
          "name": "stdout",
          "text": [
            "tensor([[0.9798, 0.0513, 0.6411, 0.0290, 0.7403, 0.2881]], device='cuda:0')\n",
            "tensor([[1., 0., 0., 0., 0., 1.]], device='cuda:0')\n"
          ]
        }
      ],
      "source": [
        "a = 331\n",
        "pred, a = get_prediction(test.iloc[test.index == a])\n",
        "print(pred)\n",
        "print(a)\n"
      ],
      "id": "rkPxaQai4kEF"
    },
    {
      "cell_type": "code",
      "execution_count": null,
      "metadata": {
        "id": "VYgcDm2Sh0gq"
      },
      "outputs": [],
      "source": [
        "def predict_random(comment):\n",
        "  def get_prediciton(model, val_loader):\n",
        "      with torch.no_grad():\n",
        "          for batch in tqdm(val_loader):\n",
        "            X = { 'input_ids': batch[\"input_ids\"].to(device),\n",
        "                  'attention_mask': batch['attention_mask'].to(device)}\n",
        "\n",
        "            X, Y = X, batch['labels'].to(device)\n",
        "\n",
        "            preds = model(X)\n",
        "      \n",
        "      return preds\n",
        "        \n",
        "  df = pd.DataFrame({'tokens': comment, \n",
        "                     'toxic': 0,\n",
        "                     'severe_toxic':0,\n",
        "                     'obscene': 0,\n",
        "                     'threat': 0,\n",
        "                     'insult':0,\n",
        "                     'identity_hate':0\n",
        "                     }, index=[0])\n",
        "  \n",
        "  test_dataset = ToxicCommentsDataset(df, tokenizer,256)\n",
        "  test_aloader = DataLoader(test_dataset, batch_size=64, num_workers=4, pin_memory=True)\n",
        "\n",
        "  return get_prediciton(model, test_aloader)"
      ],
      "id": "VYgcDm2Sh0gq"
    },
    {
      "cell_type": "code",
      "execution_count": null,
      "metadata": {
        "id": "TDByixaPiddP",
        "colab": {
          "base_uri": "https://localhost:8080/"
        },
        "outputId": "60e474af-9947-4570-a768-eb92dc092286"
      },
      "outputs": [
        {
          "output_type": "stream",
          "name": "stderr",
          "text": [
            "100%|██████████| 1/1 [00:00<00:00,  3.05it/s]\n"
          ]
        },
        {
          "output_type": "execute_result",
          "data": {
            "text/plain": [
              "tensor([[0.9545, 0.0184, 0.3463, 0.0228, 0.7743, 0.0201]], device='cuda:0')"
            ]
          },
          "metadata": {},
          "execution_count": 43
        }
      ],
      "source": [
        "predict_random(\"No arrogant self serving immature idiot Get right\")\n"
      ],
      "id": "TDByixaPiddP"
    },
    {
      "cell_type": "code",
      "execution_count": null,
      "metadata": {
        "id": "bOm5zRzUVqmL"
      },
      "outputs": [],
      "source": [
        "\n",
        "epoch_tr_loss = graph[0]\n",
        "epoch_vl_loss = graph[1]\n",
        "epoch_tr_acc = graph[2]\n",
        "epoch_vl_acc = graph[3]\n",
        "epoch_tr_f1 = graph[4]\n",
        "epoch_vl_f1 = graph[5]\n",
        "epoch_tr_auc = [x.item() for x in graph[6]]\n",
        "epoch_vl_auc = [x.item() for x in graph[7]]"
      ],
      "id": "bOm5zRzUVqmL"
    },
    {
      "cell_type": "code",
      "execution_count": null,
      "metadata": {
        "id": "PrBsUbQfsAHd",
        "colab": {
          "base_uri": "https://localhost:8080/",
          "height": 396
        },
        "outputId": "46658ceb-0eb2-42bf-d302-6de01ce05416"
      },
      "outputs": [
        {
          "output_type": "display_data",
          "data": {
            "text/plain": [
              "<Figure size 1440x432 with 2 Axes>"
            ],
            "image/png": "[encoded data removed]"
          },
          "metadata": {
            "image/png": {
              "width": 1186,
              "height": 380
            }
          }
        }
      ],
      "source": [
        "fig = plt.figure(figsize = (20, 6))\n",
        "plt.subplot(1, 2, 1)\n",
        "plt.plot(epoch_tr_acc, label='Train Acc')\n",
        "plt.plot(epoch_vl_acc, label='Validation Acc')\n",
        "plt.title(\"Accuracy\")\n",
        "plt.legend()\n",
        "plt.grid()\n",
        "    \n",
        "plt.subplot(1, 2, 2)\n",
        "plt.plot(epoch_tr_loss, label='Train loss')\n",
        "plt.plot(epoch_vl_loss, label='Validation loss')\n",
        "plt.title(\"Loss\")\n",
        "plt.legend()\n",
        "plt.grid()\n",
        "\n",
        "plt.show()"
      ],
      "id": "PrBsUbQfsAHd"
    },
    {
      "cell_type": "code",
      "execution_count": null,
      "metadata": {
        "id": "RpR_-AI54kM5",
        "colab": {
          "base_uri": "https://localhost:8080/",
          "height": 396
        },
        "outputId": "a6392339-223d-4285-8456-bd3c84315be2"
      },
      "outputs": [
        {
          "output_type": "display_data",
          "data": {
            "text/plain": [
              "<Figure size 1440x432 with 2 Axes>"
            ],
            "image/png": "[encoded data removed]"
          },
          "metadata": {
            "image/png": {
              "width": 1169,
              "height": 380
            }
          }
        }
      ],
      "source": [
        "fig = plt.figure(figsize = (20, 6))\n",
        "plt.subplot(1, 2, 1)\n",
        "plt.plot(epoch_tr_f1, label='Train F1')\n",
        "plt.plot(epoch_vl_f1, label='Validation F1')\n",
        "plt.title(\"F1\")\n",
        "plt.legend()\n",
        "plt.grid()\n",
        "    \n",
        "plt.subplot(1, 2, 2)\n",
        "plt.plot(epoch_tr_auc, label='Train AUC')\n",
        "plt.plot(epoch_vl_auc, label='Validation AUC')\n",
        "plt.title(\"AUC\")\n",
        "plt.legend()\n",
        "plt.grid()\n",
        "\n",
        "plt.show()"
      ],
      "id": "RpR_-AI54kM5"
    },
    {
      "cell_type": "code",
      "source": [],
      "metadata": {
        "id": "dKiPG1HGwlz3"
      },
      "id": "dKiPG1HGwlz3",
      "execution_count": null,
      "outputs": []
    }
  ],
  "metadata": {
    "accelerator": "GPU",
    "colab": {
      "provenance": []
    },
    "gpuClass": "premium",
    "kernelspec": {
      "display_name": "Python 3.9 (tensorflow)",
      "language": "python",
      "name": "tensorflow"
    },
    "language_info": {
      "codemirror_mode": {
        "name": "ipython",
        "version": 3
      },
      "file_extension": ".py",
      "mimetype": "text/x-python",
      "name": "python",
      "nbconvert_exporter": "python",
      "pygments_lexer": "ipython3",
      "version": "3.9.13"
    },
    "widgets": {
      "application/vnd.jupyter.widget-state+json": {
        "c9f5ca98e22c4cdb9ab22022736defa9": {
          "model_module": "@jupyter-widgets/controls",
          "model_name": "HBoxModel",
          "model_module_version": "1.5.0",
          "state": {
            "_dom_classes": [],
            "_model_module": "@jupyter-widgets/controls",
            "_model_module_version": "1.5.0",
            "_model_name": "HBoxModel",
            "_view_count": null,
            "_view_module": "@jupyter-widgets/controls",
            "_view_module_version": "1.5.0",
            "_view_name": "HBoxView",
            "box_style": "",
            "children": [
              "IPY_MODEL_8c31a5e955f64c4eb47e339279f30e20",
              "IPY_MODEL_6358575795014465a1b975b674cb5746",
              "IPY_MODEL_261d186064a7418a8fed288b63cc75d4"
            ],
            "layout": "IPY_MODEL_6d070200a7f7473ca264134567112d65"
          }
        },
        "8c31a5e955f64c4eb47e339279f30e20": {
          "model_module": "@jupyter-widgets/controls",
          "model_name": "HTMLModel",
          "model_module_version": "1.5.0",
          "state": {
            "_dom_classes": [],
            "_model_module": "@jupyter-widgets/controls",
            "_model_module_version": "1.5.0",
            "_model_name": "HTMLModel",
            "_view_count": null,
            "_view_module": "@jupyter-widgets/controls",
            "_view_module_version": "1.5.0",
            "_view_name": "HTMLView",
            "description": "",
            "description_tooltip": null,
            "layout": "IPY_MODEL_04569172192b4f268f1487100d0c894e",
            "placeholder": "​",
            "style": "IPY_MODEL_00bb9c661b524a478c81f70b094f8d1d",
            "value": "Downloading (…)okenizer_config.json: 100%"
          }
        },
        "6358575795014465a1b975b674cb5746": {
          "model_module": "@jupyter-widgets/controls",
          "model_name": "FloatProgressModel",
          "model_module_version": "1.5.0",
          "state": {
            "_dom_classes": [],
            "_model_module": "@jupyter-widgets/controls",
            "_model_module_version": "1.5.0",
            "_model_name": "FloatProgressModel",
            "_view_count": null,
            "_view_module": "@jupyter-widgets/controls",
            "_view_module_version": "1.5.0",
            "_view_name": "ProgressView",
            "bar_style": "success",
            "description": "",
            "description_tooltip": null,
            "layout": "IPY_MODEL_7a688077b88141908c6d3c0c90640815",
            "max": 29,
            "min": 0,
            "orientation": "horizontal",
            "style": "IPY_MODEL_470428d58dec44d4a73915cd98516049",
            "value": 29
          }
        },
        "261d186064a7418a8fed288b63cc75d4": {
          "model_module": "@jupyter-widgets/controls",
          "model_name": "HTMLModel",
          "model_module_version": "1.5.0",
          "state": {
            "_dom_classes": [],
            "_model_module": "@jupyter-widgets/controls",
            "_model_module_version": "1.5.0",
            "_model_name": "HTMLModel",
            "_view_count": null,
            "_view_module": "@jupyter-widgets/controls",
            "_view_module_version": "1.5.0",
            "_view_name": "HTMLView",
            "description": "",
            "description_tooltip": null,
            "layout": "IPY_MODEL_1676f35e1d3b40a2b7becd3208db90f1",
            "placeholder": "​",
            "style": "IPY_MODEL_2814b08e28fd48bc999a6af837226857",
            "value": " 29.0/29.0 [00:00&lt;00:00, 1.42kB/s]"
          }
        },
        "6d070200a7f7473ca264134567112d65": {
          "model_module": "@jupyter-widgets/base",
          "model_name": "LayoutModel",
          "model_module_version": "1.2.0",
          "state": {
            "_model_module": "@jupyter-widgets/base",
            "_model_module_version": "1.2.0",
            "_model_name": "LayoutModel",
            "_view_count": null,
            "_view_module": "@jupyter-widgets/base",
            "_view_module_version": "1.2.0",
            "_view_name": "LayoutView",
            "align_content": null,
            "align_items": null,
            "align_self": null,
            "border": null,
            "bottom": null,
            "display": null,
            "flex": null,
            "flex_flow": null,
            "grid_area": null,
            "grid_auto_columns": null,
            "grid_auto_flow": null,
            "grid_auto_rows": null,
            "grid_column": null,
            "grid_gap": null,
            "grid_row": null,
            "grid_template_areas": null,
            "grid_template_columns": null,
            "grid_template_rows": null,
            "height": null,
            "justify_content": null,
            "justify_items": null,
            "left": null,
            "margin": null,
            "max_height": null,
            "max_width": null,
            "min_height": null,
            "min_width": null,
            "object_fit": null,
            "object_position": null,
            "order": null,
            "overflow": null,
            "overflow_x": null,
            "overflow_y": null,
            "padding": null,
            "right": null,
            "top": null,
            "visibility": null,
            "width": null
          }
        },
        "04569172192b4f268f1487100d0c894e": {
          "model_module": "@jupyter-widgets/base",
          "model_name": "LayoutModel",
          "model_module_version": "1.2.0",
          "state": {
            "_model_module": "@jupyter-widgets/base",
            "_model_module_version": "1.2.0",
            "_model_name": "LayoutModel",
            "_view_count": null,
            "_view_module": "@jupyter-widgets/base",
            "_view_module_version": "1.2.0",
            "_view_name": "LayoutView",
            "align_content": null,
            "align_items": null,
            "align_self": null,
            "border": null,
            "bottom": null,
            "display": null,
            "flex": null,
            "flex_flow": null,
            "grid_area": null,
            "grid_auto_columns": null,
            "grid_auto_flow": null,
            "grid_auto_rows": null,
            "grid_column": null,
            "grid_gap": null,
            "grid_row": null,
            "grid_template_areas": null,
            "grid_template_columns": null,
            "grid_template_rows": null,
            "height": null,
            "justify_content": null,
            "justify_items": null,
            "left": null,
            "margin": null,
            "max_height": null,
            "max_width": null,
            "min_height": null,
            "min_width": null,
            "object_fit": null,
            "object_position": null,
            "order": null,
            "overflow": null,
            "overflow_x": null,
            "overflow_y": null,
            "padding": null,
            "right": null,
            "top": null,
            "visibility": null,
            "width": null
          }
        },
        "00bb9c661b524a478c81f70b094f8d1d": {
          "model_module": "@jupyter-widgets/controls",
          "model_name": "DescriptionStyleModel",
          "model_module_version": "1.5.0",
          "state": {
            "_model_module": "@jupyter-widgets/controls",
            "_model_module_version": "1.5.0",
            "_model_name": "DescriptionStyleModel",
            "_view_count": null,
            "_view_module": "@jupyter-widgets/base",
            "_view_module_version": "1.2.0",
            "_view_name": "StyleView",
            "description_width": ""
          }
        },
        "7a688077b88141908c6d3c0c90640815": {
          "model_module": "@jupyter-widgets/base",
          "model_name": "LayoutModel",
          "model_module_version": "1.2.0",
          "state": {
            "_model_module": "@jupyter-widgets/base",
            "_model_module_version": "1.2.0",
            "_model_name": "LayoutModel",
            "_view_count": null,
            "_view_module": "@jupyter-widgets/base",
            "_view_module_version": "1.2.0",
            "_view_name": "LayoutView",
            "align_content": null,
            "align_items": null,
            "align_self": null,
            "border": null,
            "bottom": null,
            "display": null,
            "flex": null,
            "flex_flow": null,
            "grid_area": null,
            "grid_auto_columns": null,
            "grid_auto_flow": null,
            "grid_auto_rows": null,
            "grid_column": null,
            "grid_gap": null,
            "grid_row": null,
            "grid_template_areas": null,
            "grid_template_columns": null,
            "grid_template_rows": null,
            "height": null,
            "justify_content": null,
            "justify_items": null,
            "left": null,
            "margin": null,
            "max_height": null,
            "max_width": null,
            "min_height": null,
            "min_width": null,
            "object_fit": null,
            "object_position": null,
            "order": null,
            "overflow": null,
            "overflow_x": null,
            "overflow_y": null,
            "padding": null,
            "right": null,
            "top": null,
            "visibility": null,
            "width": null
          }
        },
        "470428d58dec44d4a73915cd98516049": {
          "model_module": "@jupyter-widgets/controls",
          "model_name": "ProgressStyleModel",
          "model_module_version": "1.5.0",
          "state": {
            "_model_module": "@jupyter-widgets/controls",
            "_model_module_version": "1.5.0",
            "_model_name": "ProgressStyleModel",
            "_view_count": null,
            "_view_module": "@jupyter-widgets/base",
            "_view_module_version": "1.2.0",
            "_view_name": "StyleView",
            "bar_color": null,
            "description_width": ""
          }
        },
        "1676f35e1d3b40a2b7becd3208db90f1": {
          "model_module": "@jupyter-widgets/base",
          "model_name": "LayoutModel",
          "model_module_version": "1.2.0",
          "state": {
            "_model_module": "@jupyter-widgets/base",
            "_model_module_version": "1.2.0",
            "_model_name": "LayoutModel",
            "_view_count": null,
            "_view_module": "@jupyter-widgets/base",
            "_view_module_version": "1.2.0",
            "_view_name": "LayoutView",
            "align_content": null,
            "align_items": null,
            "align_self": null,
            "border": null,
            "bottom": null,
            "display": null,
            "flex": null,
            "flex_flow": null,
            "grid_area": null,
            "grid_auto_columns": null,
            "grid_auto_flow": null,
            "grid_auto_rows": null,
            "grid_column": null,
            "grid_gap": null,
            "grid_row": null,
            "grid_template_areas": null,
            "grid_template_columns": null,
            "grid_template_rows": null,
            "height": null,
            "justify_content": null,
            "justify_items": null,
            "left": null,
            "margin": null,
            "max_height": null,
            "max_width": null,
            "min_height": null,
            "min_width": null,
            "object_fit": null,
            "object_position": null,
            "order": null,
            "overflow": null,
            "overflow_x": null,
            "overflow_y": null,
            "padding": null,
            "right": null,
            "top": null,
            "visibility": null,
            "width": null
          }
        },
        "2814b08e28fd48bc999a6af837226857": {
          "model_module": "@jupyter-widgets/controls",
          "model_name": "DescriptionStyleModel",
          "model_module_version": "1.5.0",
          "state": {
            "_model_module": "@jupyter-widgets/controls",
            "_model_module_version": "1.5.0",
            "_model_name": "DescriptionStyleModel",
            "_view_count": null,
            "_view_module": "@jupyter-widgets/base",
            "_view_module_version": "1.2.0",
            "_view_name": "StyleView",
            "description_width": ""
          }
        },
        "0ffdb9e771894dd5bd90ab5a60c80c26": {
          "model_module": "@jupyter-widgets/controls",
          "model_name": "HBoxModel",
          "model_module_version": "1.5.0",
          "state": {
            "_dom_classes": [],
            "_model_module": "@jupyter-widgets/controls",
            "_model_module_version": "1.5.0",
            "_model_name": "HBoxModel",
            "_view_count": null,
            "_view_module": "@jupyter-widgets/controls",
            "_view_module_version": "1.5.0",
            "_view_name": "HBoxView",
            "box_style": "",
            "children": [
              "IPY_MODEL_78db1966793c4414b97eb263c7e5be88",
              "IPY_MODEL_a5215df5438b426cb42d948eab9e352a",
              "IPY_MODEL_062ba82595714d55b2f1e778e4b57277"
            ],
            "layout": "IPY_MODEL_5db72fa22ad94241996b6a5f11874d4c"
          }
        },
        "78db1966793c4414b97eb263c7e5be88": {
          "model_module": "@jupyter-widgets/controls",
          "model_name": "HTMLModel",
          "model_module_version": "1.5.0",
          "state": {
            "_dom_classes": [],
            "_model_module": "@jupyter-widgets/controls",
            "_model_module_version": "1.5.0",
            "_model_name": "HTMLModel",
            "_view_count": null,
            "_view_module": "@jupyter-widgets/controls",
            "_view_module_version": "1.5.0",
            "_view_name": "HTMLView",
            "description": "",
            "description_tooltip": null,
            "layout": "IPY_MODEL_dff23c71fd9642668e74a2658a4a62e1",
            "placeholder": "​",
            "style": "IPY_MODEL_577a55e367a440138ba1209cc1b673a0",
            "value": "Downloading (…)solve/main/vocab.txt: 100%"
          }
        },
        "a5215df5438b426cb42d948eab9e352a": {
          "model_module": "@jupyter-widgets/controls",
          "model_name": "FloatProgressModel",
          "model_module_version": "1.5.0",
          "state": {
            "_dom_classes": [],
            "_model_module": "@jupyter-widgets/controls",
            "_model_module_version": "1.5.0",
            "_model_name": "FloatProgressModel",
            "_view_count": null,
            "_view_module": "@jupyter-widgets/controls",
            "_view_module_version": "1.5.0",
            "_view_name": "ProgressView",
            "bar_style": "success",
            "description": "",
            "description_tooltip": null,
            "layout": "IPY_MODEL_9b877abc40bb4b13975814839672052d",
            "max": 213450,
            "min": 0,
            "orientation": "horizontal",
            "style": "IPY_MODEL_d0053820a56440e6a7f164ce54f341b5",
            "value": 213450
          }
        },
        "062ba82595714d55b2f1e778e4b57277": {
          "model_module": "@jupyter-widgets/controls",
          "model_name": "HTMLModel",
          "model_module_version": "1.5.0",
          "state": {
            "_dom_classes": [],
            "_model_module": "@jupyter-widgets/controls",
            "_model_module_version": "1.5.0",
            "_model_name": "HTMLModel",
            "_view_count": null,
            "_view_module": "@jupyter-widgets/controls",
            "_view_module_version": "1.5.0",
            "_view_name": "HTMLView",
            "description": "",
            "description_tooltip": null,
            "layout": "IPY_MODEL_de93c593315d41c6a7a6f34beb4126e9",
            "placeholder": "​",
            "style": "IPY_MODEL_9059a06379824f0d904a588249b3ffdd",
            "value": " 213k/213k [00:00&lt;00:00, 625kB/s]"
          }
        },
        "5db72fa22ad94241996b6a5f11874d4c": {
          "model_module": "@jupyter-widgets/base",
          "model_name": "LayoutModel",
          "model_module_version": "1.2.0",
          "state": {
            "_model_module": "@jupyter-widgets/base",
            "_model_module_version": "1.2.0",
            "_model_name": "LayoutModel",
            "_view_count": null,
            "_view_module": "@jupyter-widgets/base",
            "_view_module_version": "1.2.0",
            "_view_name": "LayoutView",
            "align_content": null,
            "align_items": null,
            "align_self": null,
            "border": null,
            "bottom": null,
            "display": null,
            "flex": null,
            "flex_flow": null,
            "grid_area": null,
            "grid_auto_columns": null,
            "grid_auto_flow": null,
            "grid_auto_rows": null,
            "grid_column": null,
            "grid_gap": null,
            "grid_row": null,
            "grid_template_areas": null,
            "grid_template_columns": null,
            "grid_template_rows": null,
            "height": null,
            "justify_content": null,
            "justify_items": null,
            "left": null,
            "margin": null,
            "max_height": null,
            "max_width": null,
            "min_height": null,
            "min_width": null,
            "object_fit": null,
            "object_position": null,
            "order": null,
            "overflow": null,
            "overflow_x": null,
            "overflow_y": null,
            "padding": null,
            "right": null,
            "top": null,
            "visibility": null,
            "width": null
          }
        },
        "dff23c71fd9642668e74a2658a4a62e1": {
          "model_module": "@jupyter-widgets/base",
          "model_name": "LayoutModel",
          "model_module_version": "1.2.0",
          "state": {
            "_model_module": "@jupyter-widgets/base",
            "_model_module_version": "1.2.0",
            "_model_name": "LayoutModel",
            "_view_count": null,
            "_view_module": "@jupyter-widgets/base",
            "_view_module_version": "1.2.0",
            "_view_name": "LayoutView",
            "align_content": null,
            "align_items": null,
            "align_self": null,
            "border": null,
            "bottom": null,
            "display": null,
            "flex": null,
            "flex_flow": null,
            "grid_area": null,
            "grid_auto_columns": null,
            "grid_auto_flow": null,
            "grid_auto_rows": null,
            "grid_column": null,
            "grid_gap": null,
            "grid_row": null,
            "grid_template_areas": null,
            "grid_template_columns": null,
            "grid_template_rows": null,
            "height": null,
            "justify_content": null,
            "justify_items": null,
            "left": null,
            "margin": null,
            "max_height": null,
            "max_width": null,
            "min_height": null,
            "min_width": null,
            "object_fit": null,
            "object_position": null,
            "order": null,
            "overflow": null,
            "overflow_x": null,
            "overflow_y": null,
            "padding": null,
            "right": null,
            "top": null,
            "visibility": null,
            "width": null
          }
        },
        "577a55e367a440138ba1209cc1b673a0": {
          "model_module": "@jupyter-widgets/controls",
          "model_name": "DescriptionStyleModel",
          "model_module_version": "1.5.0",
          "state": {
            "_model_module": "@jupyter-widgets/controls",
            "_model_module_version": "1.5.0",
            "_model_name": "DescriptionStyleModel",
            "_view_count": null,
            "_view_module": "@jupyter-widgets/base",
            "_view_module_version": "1.2.0",
            "_view_name": "StyleView",
            "description_width": ""
          }
        },
        "9b877abc40bb4b13975814839672052d": {
          "model_module": "@jupyter-widgets/base",
          "model_name": "LayoutModel",
          "model_module_version": "1.2.0",
          "state": {
            "_model_module": "@jupyter-widgets/base",
            "_model_module_version": "1.2.0",
            "_model_name": "LayoutModel",
            "_view_count": null,
            "_view_module": "@jupyter-widgets/base",
            "_view_module_version": "1.2.0",
            "_view_name": "LayoutView",
            "align_content": null,
            "align_items": null,
            "align_self": null,
            "border": null,
            "bottom": null,
            "display": null,
            "flex": null,
            "flex_flow": null,
            "grid_area": null,
            "grid_auto_columns": null,
            "grid_auto_flow": null,
            "grid_auto_rows": null,
            "grid_column": null,
            "grid_gap": null,
            "grid_row": null,
            "grid_template_areas": null,
            "grid_template_columns": null,
            "grid_template_rows": null,
            "height": null,
            "justify_content": null,
            "justify_items": null,
            "left": null,
            "margin": null,
            "max_height": null,
            "max_width": null,
            "min_height": null,
            "min_width": null,
            "object_fit": null,
            "object_position": null,
            "order": null,
            "overflow": null,
            "overflow_x": null,
            "overflow_y": null,
            "padding": null,
            "right": null,
            "top": null,
            "visibility": null,
            "width": null
          }
        },
        "d0053820a56440e6a7f164ce54f341b5": {
          "model_module": "@jupyter-widgets/controls",
          "model_name": "ProgressStyleModel",
          "model_module_version": "1.5.0",
          "state": {
            "_model_module": "@jupyter-widgets/controls",
            "_model_module_version": "1.5.0",
            "_model_name": "ProgressStyleModel",
            "_view_count": null,
            "_view_module": "@jupyter-widgets/base",
            "_view_module_version": "1.2.0",
            "_view_name": "StyleView",
            "bar_color": null,
            "description_width": ""
          }
        },
        "de93c593315d41c6a7a6f34beb4126e9": {
          "model_module": "@jupyter-widgets/base",
          "model_name": "LayoutModel",
          "model_module_version": "1.2.0",
          "state": {
            "_model_module": "@jupyter-widgets/base",
            "_model_module_version": "1.2.0",
            "_model_name": "LayoutModel",
            "_view_count": null,
            "_view_module": "@jupyter-widgets/base",
            "_view_module_version": "1.2.0",
            "_view_name": "LayoutView",
            "align_content": null,
            "align_items": null,
            "align_self": null,
            "border": null,
            "bottom": null,
            "display": null,
            "flex": null,
            "flex_flow": null,
            "grid_area": null,
            "grid_auto_columns": null,
            "grid_auto_flow": null,
            "grid_auto_rows": null,
            "grid_column": null,
            "grid_gap": null,
            "grid_row": null,
            "grid_template_areas": null,
            "grid_template_columns": null,
            "grid_template_rows": null,
            "height": null,
            "justify_content": null,
            "justify_items": null,
            "left": null,
            "margin": null,
            "max_height": null,
            "max_width": null,
            "min_height": null,
            "min_width": null,
            "object_fit": null,
            "object_position": null,
            "order": null,
            "overflow": null,
            "overflow_x": null,
            "overflow_y": null,
            "padding": null,
            "right": null,
            "top": null,
            "visibility": null,
            "width": null
          }
        },
        "9059a06379824f0d904a588249b3ffdd": {
          "model_module": "@jupyter-widgets/controls",
          "model_name": "DescriptionStyleModel",
          "model_module_version": "1.5.0",
          "state": {
            "_model_module": "@jupyter-widgets/controls",
            "_model_module_version": "1.5.0",
            "_model_name": "DescriptionStyleModel",
            "_view_count": null,
            "_view_module": "@jupyter-widgets/base",
            "_view_module_version": "1.2.0",
            "_view_name": "StyleView",
            "description_width": ""
          }
        },
        "8277192cf9fa4983bf4c78696f42d521": {
          "model_module": "@jupyter-widgets/controls",
          "model_name": "HBoxModel",
          "model_module_version": "1.5.0",
          "state": {
            "_dom_classes": [],
            "_model_module": "@jupyter-widgets/controls",
            "_model_module_version": "1.5.0",
            "_model_name": "HBoxModel",
            "_view_count": null,
            "_view_module": "@jupyter-widgets/controls",
            "_view_module_version": "1.5.0",
            "_view_name": "HBoxView",
            "box_style": "",
            "children": [
              "IPY_MODEL_d9a7d254f88647a7b5a82c7879fb5c1a",
              "IPY_MODEL_70a95e5faf66443f86f03e0598ff934b",
              "IPY_MODEL_9e4ceab223e84ffda158d8da0e20d3bd"
            ],
            "layout": "IPY_MODEL_d5de5665e73d46138dcd305cd27a38cf"
          }
        },
        "d9a7d254f88647a7b5a82c7879fb5c1a": {
          "model_module": "@jupyter-widgets/controls",
          "model_name": "HTMLModel",
          "model_module_version": "1.5.0",
          "state": {
            "_dom_classes": [],
            "_model_module": "@jupyter-widgets/controls",
            "_model_module_version": "1.5.0",
            "_model_name": "HTMLModel",
            "_view_count": null,
            "_view_module": "@jupyter-widgets/controls",
            "_view_module_version": "1.5.0",
            "_view_name": "HTMLView",
            "description": "",
            "description_tooltip": null,
            "layout": "IPY_MODEL_fe6eb381511741289acb7d6c19f80a05",
            "placeholder": "​",
            "style": "IPY_MODEL_c6ddff0d0c914234b105ac69fa025027",
            "value": "Downloading (…)/main/tokenizer.json: 100%"
          }
        },
        "70a95e5faf66443f86f03e0598ff934b": {
          "model_module": "@jupyter-widgets/controls",
          "model_name": "FloatProgressModel",
          "model_module_version": "1.5.0",
          "state": {
            "_dom_classes": [],
            "_model_module": "@jupyter-widgets/controls",
            "_model_module_version": "1.5.0",
            "_model_name": "FloatProgressModel",
            "_view_count": null,
            "_view_module": "@jupyter-widgets/controls",
            "_view_module_version": "1.5.0",
            "_view_name": "ProgressView",
            "bar_style": "success",
            "description": "",
            "description_tooltip": null,
            "layout": "IPY_MODEL_50203ea2de664c1fa3f30ca7dde3c81e",
            "max": 435797,
            "min": 0,
            "orientation": "horizontal",
            "style": "IPY_MODEL_908ac5c7aba74ae5b5eca26fa7e64269",
            "value": 435797
          }
        },
        "9e4ceab223e84ffda158d8da0e20d3bd": {
          "model_module": "@jupyter-widgets/controls",
          "model_name": "HTMLModel",
          "model_module_version": "1.5.0",
          "state": {
            "_dom_classes": [],
            "_model_module": "@jupyter-widgets/controls",
            "_model_module_version": "1.5.0",
            "_model_name": "HTMLModel",
            "_view_count": null,
            "_view_module": "@jupyter-widgets/controls",
            "_view_module_version": "1.5.0",
            "_view_name": "HTMLView",
            "description": "",
            "description_tooltip": null,
            "layout": "IPY_MODEL_5ac9236dffef41f29bfe57a28f3a39d4",
            "placeholder": "​",
            "style": "IPY_MODEL_29c4a87934554590b4175048a3ae479e",
            "value": " 436k/436k [00:00&lt;00:00, 1.02MB/s]"
          }
        },
        "d5de5665e73d46138dcd305cd27a38cf": {
          "model_module": "@jupyter-widgets/base",
          "model_name": "LayoutModel",
          "model_module_version": "1.2.0",
          "state": {
            "_model_module": "@jupyter-widgets/base",
            "_model_module_version": "1.2.0",
            "_model_name": "LayoutModel",
            "_view_count": null,
            "_view_module": "@jupyter-widgets/base",
            "_view_module_version": "1.2.0",
            "_view_name": "LayoutView",
            "align_content": null,
            "align_items": null,
            "align_self": null,
            "border": null,
            "bottom": null,
            "display": null,
            "flex": null,
            "flex_flow": null,
            "grid_area": null,
            "grid_auto_columns": null,
            "grid_auto_flow": null,
            "grid_auto_rows": null,
            "grid_column": null,
            "grid_gap": null,
            "grid_row": null,
            "grid_template_areas": null,
            "grid_template_columns": null,
            "grid_template_rows": null,
            "height": null,
            "justify_content": null,
            "justify_items": null,
            "left": null,
            "margin": null,
            "max_height": null,
            "max_width": null,
            "min_height": null,
            "min_width": null,
            "object_fit": null,
            "object_position": null,
            "order": null,
            "overflow": null,
            "overflow_x": null,
            "overflow_y": null,
            "padding": null,
            "right": null,
            "top": null,
            "visibility": null,
            "width": null
          }
        },
        "fe6eb381511741289acb7d6c19f80a05": {
          "model_module": "@jupyter-widgets/base",
          "model_name": "LayoutModel",
          "model_module_version": "1.2.0",
          "state": {
            "_model_module": "@jupyter-widgets/base",
            "_model_module_version": "1.2.0",
            "_model_name": "LayoutModel",
            "_view_count": null,
            "_view_module": "@jupyter-widgets/base",
            "_view_module_version": "1.2.0",
            "_view_name": "LayoutView",
            "align_content": null,
            "align_items": null,
            "align_self": null,
            "border": null,
            "bottom": null,
            "display": null,
            "flex": null,
            "flex_flow": null,
            "grid_area": null,
            "grid_auto_columns": null,
            "grid_auto_flow": null,
            "grid_auto_rows": null,
            "grid_column": null,
            "grid_gap": null,
            "grid_row": null,
            "grid_template_areas": null,
            "grid_template_columns": null,
            "grid_template_rows": null,
            "height": null,
            "justify_content": null,
            "justify_items": null,
            "left": null,
            "margin": null,
            "max_height": null,
            "max_width": null,
            "min_height": null,
            "min_width": null,
            "object_fit": null,
            "object_position": null,
            "order": null,
            "overflow": null,
            "overflow_x": null,
            "overflow_y": null,
            "padding": null,
            "right": null,
            "top": null,
            "visibility": null,
            "width": null
          }
        },
        "c6ddff0d0c914234b105ac69fa025027": {
          "model_module": "@jupyter-widgets/controls",
          "model_name": "DescriptionStyleModel",
          "model_module_version": "1.5.0",
          "state": {
            "_model_module": "@jupyter-widgets/controls",
            "_model_module_version": "1.5.0",
            "_model_name": "DescriptionStyleModel",
            "_view_count": null,
            "_view_module": "@jupyter-widgets/base",
            "_view_module_version": "1.2.0",
            "_view_name": "StyleView",
            "description_width": ""
          }
        },
        "50203ea2de664c1fa3f30ca7dde3c81e": {
          "model_module": "@jupyter-widgets/base",
          "model_name": "LayoutModel",
          "model_module_version": "1.2.0",
          "state": {
            "_model_module": "@jupyter-widgets/base",
            "_model_module_version": "1.2.0",
            "_model_name": "LayoutModel",
            "_view_count": null,
            "_view_module": "@jupyter-widgets/base",
            "_view_module_version": "1.2.0",
            "_view_name": "LayoutView",
            "align_content": null,
            "align_items": null,
            "align_self": null,
            "border": null,
            "bottom": null,
            "display": null,
            "flex": null,
            "flex_flow": null,
            "grid_area": null,
            "grid_auto_columns": null,
            "grid_auto_flow": null,
            "grid_auto_rows": null,
            "grid_column": null,
            "grid_gap": null,
            "grid_row": null,
            "grid_template_areas": null,
            "grid_template_columns": null,
            "grid_template_rows": null,
            "height": null,
            "justify_content": null,
            "justify_items": null,
            "left": null,
            "margin": null,
            "max_height": null,
            "max_width": null,
            "min_height": null,
            "min_width": null,
            "object_fit": null,
            "object_position": null,
            "order": null,
            "overflow": null,
            "overflow_x": null,
            "overflow_y": null,
            "padding": null,
            "right": null,
            "top": null,
            "visibility": null,
            "width": null
          }
        },
        "908ac5c7aba74ae5b5eca26fa7e64269": {
          "model_module": "@jupyter-widgets/controls",
          "model_name": "ProgressStyleModel",
          "model_module_version": "1.5.0",
          "state": {
            "_model_module": "@jupyter-widgets/controls",
            "_model_module_version": "1.5.0",
            "_model_name": "ProgressStyleModel",
            "_view_count": null,
            "_view_module": "@jupyter-widgets/base",
            "_view_module_version": "1.2.0",
            "_view_name": "StyleView",
            "bar_color": null,
            "description_width": ""
          }
        },
        "5ac9236dffef41f29bfe57a28f3a39d4": {
          "model_module": "@jupyter-widgets/base",
          "model_name": "LayoutModel",
          "model_module_version": "1.2.0",
          "state": {
            "_model_module": "@jupyter-widgets/base",
            "_model_module_version": "1.2.0",
            "_model_name": "LayoutModel",
            "_view_count": null,
            "_view_module": "@jupyter-widgets/base",
            "_view_module_version": "1.2.0",
            "_view_name": "LayoutView",
            "align_content": null,
            "align_items": null,
            "align_self": null,
            "border": null,
            "bottom": null,
            "display": null,
            "flex": null,
            "flex_flow": null,
            "grid_area": null,
            "grid_auto_columns": null,
            "grid_auto_flow": null,
            "grid_auto_rows": null,
            "grid_column": null,
            "grid_gap": null,
            "grid_row": null,
            "grid_template_areas": null,
            "grid_template_columns": null,
            "grid_template_rows": null,
            "height": null,
            "justify_content": null,
            "justify_items": null,
            "left": null,
            "margin": null,
            "max_height": null,
            "max_width": null,
            "min_height": null,
            "min_width": null,
            "object_fit": null,
            "object_position": null,
            "order": null,
            "overflow": null,
            "overflow_x": null,
            "overflow_y": null,
            "padding": null,
            "right": null,
            "top": null,
            "visibility": null,
            "width": null
          }
        },
        "29c4a87934554590b4175048a3ae479e": {
          "model_module": "@jupyter-widgets/controls",
          "model_name": "DescriptionStyleModel",
          "model_module_version": "1.5.0",
          "state": {
            "_model_module": "@jupyter-widgets/controls",
            "_model_module_version": "1.5.0",
            "_model_name": "DescriptionStyleModel",
            "_view_count": null,
            "_view_module": "@jupyter-widgets/base",
            "_view_module_version": "1.2.0",
            "_view_name": "StyleView",
            "description_width": ""
          }
        },
        "dc7bab312c024899880da1abab07bf43": {
          "model_module": "@jupyter-widgets/controls",
          "model_name": "HBoxModel",
          "model_module_version": "1.5.0",
          "state": {
            "_dom_classes": [],
            "_model_module": "@jupyter-widgets/controls",
            "_model_module_version": "1.5.0",
            "_model_name": "HBoxModel",
            "_view_count": null,
            "_view_module": "@jupyter-widgets/controls",
            "_view_module_version": "1.5.0",
            "_view_name": "HBoxView",
            "box_style": "",
            "children": [
              "IPY_MODEL_e1261acf16fe4d2b958ad6b22fdf90b5",
              "IPY_MODEL_5c10df3aff2b4ca08b13b0044d0810d2",
              "IPY_MODEL_c989eb6829164bfb94456e21fae60207"
            ],
            "layout": "IPY_MODEL_bb5440de89c24bf3afc6a2a8a29ad057"
          }
        },
        "e1261acf16fe4d2b958ad6b22fdf90b5": {
          "model_module": "@jupyter-widgets/controls",
          "model_name": "HTMLModel",
          "model_module_version": "1.5.0",
          "state": {
            "_dom_classes": [],
            "_model_module": "@jupyter-widgets/controls",
            "_model_module_version": "1.5.0",
            "_model_name": "HTMLModel",
            "_view_count": null,
            "_view_module": "@jupyter-widgets/controls",
            "_view_module_version": "1.5.0",
            "_view_name": "HTMLView",
            "description": "",
            "description_tooltip": null,
            "layout": "IPY_MODEL_705a337fd4964c2aabad48de2c470cb4",
            "placeholder": "​",
            "style": "IPY_MODEL_ed646cc5a15a40d7a344f8075e6cbb0b",
            "value": "Downloading (…)lve/main/config.json: 100%"
          }
        },
        "5c10df3aff2b4ca08b13b0044d0810d2": {
          "model_module": "@jupyter-widgets/controls",
          "model_name": "FloatProgressModel",
          "model_module_version": "1.5.0",
          "state": {
            "_dom_classes": [],
            "_model_module": "@jupyter-widgets/controls",
            "_model_module_version": "1.5.0",
            "_model_name": "FloatProgressModel",
            "_view_count": null,
            "_view_module": "@jupyter-widgets/controls",
            "_view_module_version": "1.5.0",
            "_view_name": "ProgressView",
            "bar_style": "success",
            "description": "",
            "description_tooltip": null,
            "layout": "IPY_MODEL_8e18eba739b440a0b40bffb495609f52",
            "max": 570,
            "min": 0,
            "orientation": "horizontal",
            "style": "IPY_MODEL_9ddfe47608bd445587bf8e69e02b1577",
            "value": 570
          }
        },
        "c989eb6829164bfb94456e21fae60207": {
          "model_module": "@jupyter-widgets/controls",
          "model_name": "HTMLModel",
          "model_module_version": "1.5.0",
          "state": {
            "_dom_classes": [],
            "_model_module": "@jupyter-widgets/controls",
            "_model_module_version": "1.5.0",
            "_model_name": "HTMLModel",
            "_view_count": null,
            "_view_module": "@jupyter-widgets/controls",
            "_view_module_version": "1.5.0",
            "_view_name": "HTMLView",
            "description": "",
            "description_tooltip": null,
            "layout": "IPY_MODEL_d0526bd67d8349a1950b37e478436502",
            "placeholder": "​",
            "style": "IPY_MODEL_ca52e53fea584783aed2431de9d4b770",
            "value": " 570/570 [00:00&lt;00:00, 34.7kB/s]"
          }
        },
        "bb5440de89c24bf3afc6a2a8a29ad057": {
          "model_module": "@jupyter-widgets/base",
          "model_name": "LayoutModel",
          "model_module_version": "1.2.0",
          "state": {
            "_model_module": "@jupyter-widgets/base",
            "_model_module_version": "1.2.0",
            "_model_name": "LayoutModel",
            "_view_count": null,
            "_view_module": "@jupyter-widgets/base",
            "_view_module_version": "1.2.0",
            "_view_name": "LayoutView",
            "align_content": null,
            "align_items": null,
            "align_self": null,
            "border": null,
            "bottom": null,
            "display": null,
            "flex": null,
            "flex_flow": null,
            "grid_area": null,
            "grid_auto_columns": null,
            "grid_auto_flow": null,
            "grid_auto_rows": null,
            "grid_column": null,
            "grid_gap": null,
            "grid_row": null,
            "grid_template_areas": null,
            "grid_template_columns": null,
            "grid_template_rows": null,
            "height": null,
            "justify_content": null,
            "justify_items": null,
            "left": null,
            "margin": null,
            "max_height": null,
            "max_width": null,
            "min_height": null,
            "min_width": null,
            "object_fit": null,
            "object_position": null,
            "order": null,
            "overflow": null,
            "overflow_x": null,
            "overflow_y": null,
            "padding": null,
            "right": null,
            "top": null,
            "visibility": null,
            "width": null
          }
        },
        "705a337fd4964c2aabad48de2c470cb4": {
          "model_module": "@jupyter-widgets/base",
          "model_name": "LayoutModel",
          "model_module_version": "1.2.0",
          "state": {
            "_model_module": "@jupyter-widgets/base",
            "_model_module_version": "1.2.0",
            "_model_name": "LayoutModel",
            "_view_count": null,
            "_view_module": "@jupyter-widgets/base",
            "_view_module_version": "1.2.0",
            "_view_name": "LayoutView",
            "align_content": null,
            "align_items": null,
            "align_self": null,
            "border": null,
            "bottom": null,
            "display": null,
            "flex": null,
            "flex_flow": null,
            "grid_area": null,
            "grid_auto_columns": null,
            "grid_auto_flow": null,
            "grid_auto_rows": null,
            "grid_column": null,
            "grid_gap": null,
            "grid_row": null,
            "grid_template_areas": null,
            "grid_template_columns": null,
            "grid_template_rows": null,
            "height": null,
            "justify_content": null,
            "justify_items": null,
            "left": null,
            "margin": null,
            "max_height": null,
            "max_width": null,
            "min_height": null,
            "min_width": null,
            "object_fit": null,
            "object_position": null,
            "order": null,
            "overflow": null,
            "overflow_x": null,
            "overflow_y": null,
            "padding": null,
            "right": null,
            "top": null,
            "visibility": null,
            "width": null
          }
        },
        "ed646cc5a15a40d7a344f8075e6cbb0b": {
          "model_module": "@jupyter-widgets/controls",
          "model_name": "DescriptionStyleModel",
          "model_module_version": "1.5.0",
          "state": {
            "_model_module": "@jupyter-widgets/controls",
            "_model_module_version": "1.5.0",
            "_model_name": "DescriptionStyleModel",
            "_view_count": null,
            "_view_module": "@jupyter-widgets/base",
            "_view_module_version": "1.2.0",
            "_view_name": "StyleView",
            "description_width": ""
          }
        },
        "8e18eba739b440a0b40bffb495609f52": {
          "model_module": "@jupyter-widgets/base",
          "model_name": "LayoutModel",
          "model_module_version": "1.2.0",
          "state": {
            "_model_module": "@jupyter-widgets/base",
            "_model_module_version": "1.2.0",
            "_model_name": "LayoutModel",
            "_view_count": null,
            "_view_module": "@jupyter-widgets/base",
            "_view_module_version": "1.2.0",
            "_view_name": "LayoutView",
            "align_content": null,
            "align_items": null,
            "align_self": null,
            "border": null,
            "bottom": null,
            "display": null,
            "flex": null,
            "flex_flow": null,
            "grid_area": null,
            "grid_auto_columns": null,
            "grid_auto_flow": null,
            "grid_auto_rows": null,
            "grid_column": null,
            "grid_gap": null,
            "grid_row": null,
            "grid_template_areas": null,
            "grid_template_columns": null,
            "grid_template_rows": null,
            "height": null,
            "justify_content": null,
            "justify_items": null,
            "left": null,
            "margin": null,
            "max_height": null,
            "max_width": null,
            "min_height": null,
            "min_width": null,
            "object_fit": null,
            "object_position": null,
            "order": null,
            "overflow": null,
            "overflow_x": null,
            "overflow_y": null,
            "padding": null,
            "right": null,
            "top": null,
            "visibility": null,
            "width": null
          }
        },
        "9ddfe47608bd445587bf8e69e02b1577": {
          "model_module": "@jupyter-widgets/controls",
          "model_name": "ProgressStyleModel",
          "model_module_version": "1.5.0",
          "state": {
            "_model_module": "@jupyter-widgets/controls",
            "_model_module_version": "1.5.0",
            "_model_name": "ProgressStyleModel",
            "_view_count": null,
            "_view_module": "@jupyter-widgets/base",
            "_view_module_version": "1.2.0",
            "_view_name": "StyleView",
            "bar_color": null,
            "description_width": ""
          }
        },
        "d0526bd67d8349a1950b37e478436502": {
          "model_module": "@jupyter-widgets/base",
          "model_name": "LayoutModel",
          "model_module_version": "1.2.0",
          "state": {
            "_model_module": "@jupyter-widgets/base",
            "_model_module_version": "1.2.0",
            "_model_name": "LayoutModel",
            "_view_count": null,
            "_view_module": "@jupyter-widgets/base",
            "_view_module_version": "1.2.0",
            "_view_name": "LayoutView",
            "align_content": null,
            "align_items": null,
            "align_self": null,
            "border": null,
            "bottom": null,
            "display": null,
            "flex": null,
            "flex_flow": null,
            "grid_area": null,
            "grid_auto_columns": null,
            "grid_auto_flow": null,
            "grid_auto_rows": null,
            "grid_column": null,
            "grid_gap": null,
            "grid_row": null,
            "grid_template_areas": null,
            "grid_template_columns": null,
            "grid_template_rows": null,
            "height": null,
            "justify_content": null,
            "justify_items": null,
            "left": null,
            "margin": null,
            "max_height": null,
            "max_width": null,
            "min_height": null,
            "min_width": null,
            "object_fit": null,
            "object_position": null,
            "order": null,
            "overflow": null,
            "overflow_x": null,
            "overflow_y": null,
            "padding": null,
            "right": null,
            "top": null,
            "visibility": null,
            "width": null
          }
        },
        "ca52e53fea584783aed2431de9d4b770": {
          "model_module": "@jupyter-widgets/controls",
          "model_name": "DescriptionStyleModel",
          "model_module_version": "1.5.0",
          "state": {
            "_model_module": "@jupyter-widgets/controls",
            "_model_module_version": "1.5.0",
            "_model_name": "DescriptionStyleModel",
            "_view_count": null,
            "_view_module": "@jupyter-widgets/base",
            "_view_module_version": "1.2.0",
            "_view_name": "StyleView",
            "description_width": ""
          }
        },
        "282af34868694ad8af3b6f30208564f3": {
          "model_module": "@jupyter-widgets/controls",
          "model_name": "HBoxModel",
          "model_module_version": "1.5.0",
          "state": {
            "_dom_classes": [],
            "_model_module": "@jupyter-widgets/controls",
            "_model_module_version": "1.5.0",
            "_model_name": "HBoxModel",
            "_view_count": null,
            "_view_module": "@jupyter-widgets/controls",
            "_view_module_version": "1.5.0",
            "_view_name": "HBoxView",
            "box_style": "",
            "children": [
              "IPY_MODEL_029eaf1344214b2792ed016a7ad6c977",
              "IPY_MODEL_b1418b1d74ad424b9eb24f646f7082ec",
              "IPY_MODEL_a2ca4ffc202f4bc08e549387e76415cd"
            ],
            "layout": "IPY_MODEL_fef31a342d014fabb0e144a78e44aebf"
          }
        },
        "029eaf1344214b2792ed016a7ad6c977": {
          "model_module": "@jupyter-widgets/controls",
          "model_name": "HTMLModel",
          "model_module_version": "1.5.0",
          "state": {
            "_dom_classes": [],
            "_model_module": "@jupyter-widgets/controls",
            "_model_module_version": "1.5.0",
            "_model_name": "HTMLModel",
            "_view_count": null,
            "_view_module": "@jupyter-widgets/controls",
            "_view_module_version": "1.5.0",
            "_view_name": "HTMLView",
            "description": "",
            "description_tooltip": null,
            "layout": "IPY_MODEL_da21fc04cb9e45629617e5937eef4a55",
            "placeholder": "​",
            "style": "IPY_MODEL_4943df7890b24c8b971aa1b56a677464",
            "value": "Downloading (…)&quot;pytorch_model.bin&quot;;: 100%"
          }
        },
        "b1418b1d74ad424b9eb24f646f7082ec": {
          "model_module": "@jupyter-widgets/controls",
          "model_name": "FloatProgressModel",
          "model_module_version": "1.5.0",
          "state": {
            "_dom_classes": [],
            "_model_module": "@jupyter-widgets/controls",
            "_model_module_version": "1.5.0",
            "_model_name": "FloatProgressModel",
            "_view_count": null,
            "_view_module": "@jupyter-widgets/controls",
            "_view_module_version": "1.5.0",
            "_view_name": "ProgressView",
            "bar_style": "success",
            "description": "",
            "description_tooltip": null,
            "layout": "IPY_MODEL_a5da9852f9334f17aef9ad6c5ac72c54",
            "max": 435779157,
            "min": 0,
            "orientation": "horizontal",
            "style": "IPY_MODEL_455dbac1a81542e681a4765f6a8c9224",
            "value": 435779157
          }
        },
        "a2ca4ffc202f4bc08e549387e76415cd": {
          "model_module": "@jupyter-widgets/controls",
          "model_name": "HTMLModel",
          "model_module_version": "1.5.0",
          "state": {
            "_dom_classes": [],
            "_model_module": "@jupyter-widgets/controls",
            "_model_module_version": "1.5.0",
            "_model_name": "HTMLModel",
            "_view_count": null,
            "_view_module": "@jupyter-widgets/controls",
            "_view_module_version": "1.5.0",
            "_view_name": "HTMLView",
            "description": "",
            "description_tooltip": null,
            "layout": "IPY_MODEL_9ddfa6c872ac4f9b8934e5306c12945f",
            "placeholder": "​",
            "style": "IPY_MODEL_4e2a8d5e2d944d6d9f532d414e160b61",
            "value": " 436M/436M [00:01&lt;00:00, 332MB/s]"
          }
        },
        "fef31a342d014fabb0e144a78e44aebf": {
          "model_module": "@jupyter-widgets/base",
          "model_name": "LayoutModel",
          "model_module_version": "1.2.0",
          "state": {
            "_model_module": "@jupyter-widgets/base",
            "_model_module_version": "1.2.0",
            "_model_name": "LayoutModel",
            "_view_count": null,
            "_view_module": "@jupyter-widgets/base",
            "_view_module_version": "1.2.0",
            "_view_name": "LayoutView",
            "align_content": null,
            "align_items": null,
            "align_self": null,
            "border": null,
            "bottom": null,
            "display": null,
            "flex": null,
            "flex_flow": null,
            "grid_area": null,
            "grid_auto_columns": null,
            "grid_auto_flow": null,
            "grid_auto_rows": null,
            "grid_column": null,
            "grid_gap": null,
            "grid_row": null,
            "grid_template_areas": null,
            "grid_template_columns": null,
            "grid_template_rows": null,
            "height": null,
            "justify_content": null,
            "justify_items": null,
            "left": null,
            "margin": null,
            "max_height": null,
            "max_width": null,
            "min_height": null,
            "min_width": null,
            "object_fit": null,
            "object_position": null,
            "order": null,
            "overflow": null,
            "overflow_x": null,
            "overflow_y": null,
            "padding": null,
            "right": null,
            "top": null,
            "visibility": null,
            "width": null
          }
        },
        "da21fc04cb9e45629617e5937eef4a55": {
          "model_module": "@jupyter-widgets/base",
          "model_name": "LayoutModel",
          "model_module_version": "1.2.0",
          "state": {
            "_model_module": "@jupyter-widgets/base",
            "_model_module_version": "1.2.0",
            "_model_name": "LayoutModel",
            "_view_count": null,
            "_view_module": "@jupyter-widgets/base",
            "_view_module_version": "1.2.0",
            "_view_name": "LayoutView",
            "align_content": null,
            "align_items": null,
            "align_self": null,
            "border": null,
            "bottom": null,
            "display": null,
            "flex": null,
            "flex_flow": null,
            "grid_area": null,
            "grid_auto_columns": null,
            "grid_auto_flow": null,
            "grid_auto_rows": null,
            "grid_column": null,
            "grid_gap": null,
            "grid_row": null,
            "grid_template_areas": null,
            "grid_template_columns": null,
            "grid_template_rows": null,
            "height": null,
            "justify_content": null,
            "justify_items": null,
            "left": null,
            "margin": null,
            "max_height": null,
            "max_width": null,
            "min_height": null,
            "min_width": null,
            "object_fit": null,
            "object_position": null,
            "order": null,
            "overflow": null,
            "overflow_x": null,
            "overflow_y": null,
            "padding": null,
            "right": null,
            "top": null,
            "visibility": null,
            "width": null
          }
        },
        "4943df7890b24c8b971aa1b56a677464": {
          "model_module": "@jupyter-widgets/controls",
          "model_name": "DescriptionStyleModel",
          "model_module_version": "1.5.0",
          "state": {
            "_model_module": "@jupyter-widgets/controls",
            "_model_module_version": "1.5.0",
            "_model_name": "DescriptionStyleModel",
            "_view_count": null,
            "_view_module": "@jupyter-widgets/base",
            "_view_module_version": "1.2.0",
            "_view_name": "StyleView",
            "description_width": ""
          }
        },
        "a5da9852f9334f17aef9ad6c5ac72c54": {
          "model_module": "@jupyter-widgets/base",
          "model_name": "LayoutModel",
          "model_module_version": "1.2.0",
          "state": {
            "_model_module": "@jupyter-widgets/base",
            "_model_module_version": "1.2.0",
            "_model_name": "LayoutModel",
            "_view_count": null,
            "_view_module": "@jupyter-widgets/base",
            "_view_module_version": "1.2.0",
            "_view_name": "LayoutView",
            "align_content": null,
            "align_items": null,
            "align_self": null,
            "border": null,
            "bottom": null,
            "display": null,
            "flex": null,
            "flex_flow": null,
            "grid_area": null,
            "grid_auto_columns": null,
            "grid_auto_flow": null,
            "grid_auto_rows": null,
            "grid_column": null,
            "grid_gap": null,
            "grid_row": null,
            "grid_template_areas": null,
            "grid_template_columns": null,
            "grid_template_rows": null,
            "height": null,
            "justify_content": null,
            "justify_items": null,
            "left": null,
            "margin": null,
            "max_height": null,
            "max_width": null,
            "min_height": null,
            "min_width": null,
            "object_fit": null,
            "object_position": null,
            "order": null,
            "overflow": null,
            "overflow_x": null,
            "overflow_y": null,
            "padding": null,
            "right": null,
            "top": null,
            "visibility": null,
            "width": null
          }
        },
        "455dbac1a81542e681a4765f6a8c9224": {
          "model_module": "@jupyter-widgets/controls",
          "model_name": "ProgressStyleModel",
          "model_module_version": "1.5.0",
          "state": {
            "_model_module": "@jupyter-widgets/controls",
            "_model_module_version": "1.5.0",
            "_model_name": "ProgressStyleModel",
            "_view_count": null,
            "_view_module": "@jupyter-widgets/base",
            "_view_module_version": "1.2.0",
            "_view_name": "StyleView",
            "bar_color": null,
            "description_width": ""
          }
        },
        "9ddfa6c872ac4f9b8934e5306c12945f": {
          "model_module": "@jupyter-widgets/base",
          "model_name": "LayoutModel",
          "model_module_version": "1.2.0",
          "state": {
            "_model_module": "@jupyter-widgets/base",
            "_model_module_version": "1.2.0",
            "_model_name": "LayoutModel",
            "_view_count": null,
            "_view_module": "@jupyter-widgets/base",
            "_view_module_version": "1.2.0",
            "_view_name": "LayoutView",
            "align_content": null,
            "align_items": null,
            "align_self": null,
            "border": null,
            "bottom": null,
            "display": null,
            "flex": null,
            "flex_flow": null,
            "grid_area": null,
            "grid_auto_columns": null,
            "grid_auto_flow": null,
            "grid_auto_rows": null,
            "grid_column": null,
            "grid_gap": null,
            "grid_row": null,
            "grid_template_areas": null,
            "grid_template_columns": null,
            "grid_template_rows": null,
            "height": null,
            "justify_content": null,
            "justify_items": null,
            "left": null,
            "margin": null,
            "max_height": null,
            "max_width": null,
            "min_height": null,
            "min_width": null,
            "object_fit": null,
            "object_position": null,
            "order": null,
            "overflow": null,
            "overflow_x": null,
            "overflow_y": null,
            "padding": null,
            "right": null,
            "top": null,
            "visibility": null,
            "width": null
          }
        },
        "4e2a8d5e2d944d6d9f532d414e160b61": {
          "model_module": "@jupyter-widgets/controls",
          "model_name": "DescriptionStyleModel",
          "model_module_version": "1.5.0",
          "state": {
            "_model_module": "@jupyter-widgets/controls",
            "_model_module_version": "1.5.0",
            "_model_name": "DescriptionStyleModel",
            "_view_count": null,
            "_view_module": "@jupyter-widgets/base",
            "_view_module_version": "1.2.0",
            "_view_name": "StyleView",
            "description_width": ""
          }
        }
      }
    }
  },
  "nbformat": 4,
  "nbformat_minor": 5
}